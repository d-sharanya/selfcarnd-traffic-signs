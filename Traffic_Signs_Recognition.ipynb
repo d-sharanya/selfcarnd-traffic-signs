{
 "cells": [
  {
   "cell_type": "markdown",
   "metadata": {},
   "source": [
    "# Self-Driving Car Engineer Nanodegree\n",
    "\n",
    "## Deep Learning\n",
    "\n",
    "## Project: Build a Traffic Sign Recognition Classifier\n",
    "\n",
    "In this notebook, a template is provided for you to implement your functionality in stages which is required to successfully complete this project. If additional code is required that cannot be included in the notebook, be sure that the Python code is successfully imported and included in your submission, if necessary. Sections that begin with **'Implementation'** in the header indicate where you should begin your implementation for your project. Note that some sections of implementation are optional, and will be marked with **'Optional'** in the header.\n",
    "\n",
    "In addition to implementing code, there will be questions that you must answer which relate to the project and your implementation. Each section where you will answer a question is preceded by a **'Question'** header. Carefully read each question and provide thorough answers in the following text boxes that begin with **'Answer:'**. Your project submission will be evaluated based on your answers to each of the questions and the implementation you provide.\n",
    "\n",
    ">**Note:** Code and Markdown cells can be executed using the **Shift + Enter** keyboard shortcut. In addition, Markdown cells can be edited by typically double-clicking the cell to enter edit mode."
   ]
  },
  {
   "cell_type": "markdown",
   "metadata": {},
   "source": [
    "---\n",
    "\n",
    "## Step 1: Dataset Exploration\n",
    "\n",
    "Visualize the German Traffic Signs Dataset. This is open ended, some suggestions include: plotting traffic signs images, plotting the count of each sign, etc. Be creative!\n",
    "\n",
    "\n",
    "The pickled data is a dictionary with 4 key/value pairs:\n",
    "\n",
    "- features -> the images pixel values, (width, height, channels)\n",
    "- labels -> the label of the traffic sign\n",
    "- sizes -> the original width and height of the image, (width, height)\n",
    "- coords -> coordinates of a bounding box around the sign in the image, (x1, y1, x2, y2). Based the original image (not the resized version)."
   ]
  },
  {
   "cell_type": "code",
   "execution_count": 17,
   "metadata": {
    "collapsed": false
   },
   "outputs": [],
   "source": [
    "import pickle\n",
    "\n",
    "# Load pickled data\n",
    "# TODO: fill this in based on where you saved the training and testing data\n",
    "training_file = \"/Users/sharanya.doddapaneni/nanodegree/selfdriving/Archive/traffic-signs-data/train.p\"\n",
    "testing_file = \"/Users/sharanya.doddapaneni/nanodegree/selfdriving/Archive/traffic-signs-data/test.p\"\n",
    "\n",
    "with open(training_file, mode='rb') as f:\n",
    "    train = pickle.load(f)\n",
    "with open(testing_file, mode='rb') as f:\n",
    "    test = pickle.load(f)\n",
    "    \n",
    "X_train, y_train = train['features'], train['labels']\n",
    "X_test, y_test = test['features'], test['labels']"
   ]
  },
  {
   "cell_type": "code",
   "execution_count": 18,
   "metadata": {
    "collapsed": false
   },
   "outputs": [
    {
     "name": "stdout",
     "output_type": "stream",
     "text": [
      "Number of training examples = 39209\n",
      "Number of testing examples = 12630\n",
      "Image data shape = (32, 32, 3)\n",
      "Number of classes = 43\n",
      "Image data:  (39209, 32, 32, 3)\n"
     ]
    }
   ],
   "source": [
    "### To start off let's do a basic data summary.\n",
    "\n",
    "# TODO: number of training examples\n",
    "n_train = X_train.shape[0]\n",
    "\n",
    "# TODO: number of testing examples\n",
    "n_test = X_test.shape[0]\n",
    "\n",
    "# TODO: what's the shape of an image?\n",
    "image_shape = X_train[0].shape\n",
    "\n",
    "# TODO: how many classes are in the dataset\n",
    "n_classes = len(set(y_train))\n",
    "\n",
    "print(\"Number of training examples =\", n_train)\n",
    "print(\"Number of testing examples =\", n_test)\n",
    "print(\"Image data shape =\", image_shape)\n",
    "print(\"Number of classes =\", n_classes)\n",
    "print(\"Image data: \", X_train.shape)"
   ]
  },
  {
   "cell_type": "code",
   "execution_count": 19,
   "metadata": {
    "collapsed": false
   },
   "outputs": [
    {
     "name": "stdout",
     "output_type": "stream",
     "text": [
      "(32, 32, 3)\n",
      "(39209, 1024)\n",
      "(12630, 1024)\n"
     ]
    }
   ],
   "source": [
    "import cv2\n",
    "import numpy as np\n",
    "import matplotlib.pyplot as plt\n",
    "import matplotlib.image as mpimg\n",
    "from sklearn.model_selection import train_test_split\n",
    "from sklearn.preprocessing import LabelBinarizer\n",
    "from sklearn.utils import resample\n",
    "### Data exploration visualization goes here.\n",
    "### Feel free to use as many code cells as needed.\n",
    "print(X_train[0].shape)\n",
    "\n",
    "#Preprocessing -- Transformation & grayscale\n",
    "train_gray = np.zeros((n_train,1024))\n",
    "for i in range(n_train):\n",
    "    #the cv2,cvtColor(image, cv2.RGB2GRAY) function converts a 3 channel image to a single channel image\n",
    "    train_gray[i] = cv2.cvtColor( X_train[i], cv2.COLOR_BGR2GRAY ).flatten()\n",
    "\n",
    "test_gray = np.zeros((n_test,1024))\n",
    "for i in range(n_test):\n",
    "    #the cv2,cvtColor(image, cv2.RGB2GRAY) function converts a 3 channel image to a single channel image\n",
    "    test_gray[i] = cv2.cvtColor( X_test[i], cv2.COLOR_BGR2GRAY ).flatten()\n",
    "    \n",
    "\n",
    "#plt.imshow(gray)\n",
    "print(train_gray.shape)\n",
    "print(test_gray.shape)"
   ]
  },
  {
   "cell_type": "markdown",
   "metadata": {},
   "source": [
    "----\n",
    "\n",
    "## Step 2: Design and Test a Model Architecture\n",
    "\n",
    "Design and implement a deep learning model that learns to recognize traffic signs. Train and test your model on the [German Traffic Sign Dataset](http://benchmark.ini.rub.de/?section=gtsrb&subsection=dataset).\n",
    "\n",
    "There are various aspects to consider when thinking about this problem:\n",
    "\n",
    "- Your model can be derived from a deep feedforward net or a deep convolutional network.\n",
    "- Play around preprocessing techniques (normalization, rgb to grayscale, etc)\n",
    "- Number of examples per label (some have more than others).\n",
    "- Generate fake data.\n",
    "\n",
    "Here is an example of a [published baseline model on this problem](http://yann.lecun.com/exdb/publis/pdf/sermanet-ijcnn-11.pdf). It's not required to be familiar with the approach used in the paper but, it's good practice to try to read papers like these."
   ]
  },
  {
   "cell_type": "markdown",
   "metadata": {},
   "source": [
    "### Implementation\n",
    "\n",
    "Use the code cell (or multiple code cells, if necessary) to implement the first step of your project. Once you have completed your implementation and are satisfied with the results, be sure to thoroughly answer the questions that follow."
   ]
  },
  {
   "cell_type": "code",
   "execution_count": 20,
   "metadata": {
    "collapsed": false
   },
   "outputs": [
    {
     "name": "stdout",
     "output_type": "stream",
     "text": [
      "(39209, 1024)\n",
      "(12630, 1024)\n"
     ]
    }
   ],
   "source": [
    "### Preprocess the data here.\n",
    "### Feel free to use as many code cells as needed.\n",
    "\n",
    "#Preprocessing -- Normalization for zero mean and equal variance\n",
    "#Implement Min-Max scaling for greyscale image data\n",
    "def normalize_greyscale(image_data):\n",
    "    \"\"\"\n",
    "    Normalize the image data with Min-Max scaling to a range of [0.1, 0.9]\n",
    "    :param image_data: The image data to be normalized\n",
    "    :return: Normalized image data\n",
    "    \"\"\"\n",
    "    a = 0.1\n",
    "    b = 0.9\n",
    "    greyscale_min = 0\n",
    "    greyscale_max = 255\n",
    "    return a + ( ( (image_data - greyscale_min)*(b - a) )/( greyscale_max - greyscale_min ) )\n",
    "\n",
    "train_gray = normalize_greyscale(train_gray)\n",
    "print(train_gray.shape)\n",
    "\n",
    "test_gray = normalize_greyscale(test_gray)\n",
    "print(test_gray.shape)"
   ]
  },
  {
   "cell_type": "markdown",
   "metadata": {},
   "source": [
    "### Question 1 \n",
    "\n",
    "_Describe the techniques used to preprocess the data._"
   ]
  },
  {
   "cell_type": "markdown",
   "metadata": {},
   "source": [
    "**Answer:**\n",
    "To preprocess the data, these are the steps I implemented: \n",
    "1) Convert the images from BGR to grayscale. Converting images to gray scale reduces the total size of the dataset by by going from 3 color channels to 1. Helps improve the speed of the algorithm without sacrificing much information. The main features of a traffic sign are present in the shapes of the signs. Leveraged OpenCV functions to make the transformations. \n",
    "2) Flattened the images from 32x32 to 1024 \n",
    "3) Normalized the feature data using min/max scale. Normalization helps to standardize the inputs to make training faster and avoid getting stuck in local optima. Reference: http://stackoverflow.com/questions/4674623/why-do-we-have-to-normalize-the-input-for-an-artificial-neural-network \n",
    "4) Performed one-hot label encoding of train and test data. This encoding is needed for feeding categorical data to the linear model. Reference: http://scikit-learn.org/stable/modules/generated/sklearn.preprocessing.OneHotEncoder.html#sklearn.preprocessing.OneHotEncoder"
   ]
  },
  {
   "cell_type": "code",
   "execution_count": 21,
   "metadata": {
    "collapsed": false
   },
   "outputs": [
    {
     "name": "stdout",
     "output_type": "stream",
     "text": [
      "Train labels:  (39209, 43)\n",
      "Labels One-Hot Encoded\n"
     ]
    }
   ],
   "source": [
    "is_labels_encod = False\n",
    "if not is_labels_encod:\n",
    "    # Turn labels into numbers and apply One-Hot Encoding\n",
    "    encoder = LabelBinarizer()\n",
    "    encoder.fit(y_train)\n",
    "    y_train = encoder.transform(y_train)\n",
    "    y_test = encoder.transform(y_test)\n",
    "\n",
    "    # Change to float32, so it can be multiplied against the features in TensorFlow, which are float32\n",
    "    y_train = y_train.astype(np.float32)\n",
    "    y_test = y_test.astype(np.float32)\n",
    "    is_labels_encod = True\n",
    "\n",
    "print(\"Train labels: \", y_train.shape)\n",
    "print('Labels One-Hot Encoded')"
   ]
  },
  {
   "cell_type": "code",
   "execution_count": 22,
   "metadata": {
    "collapsed": false
   },
   "outputs": [
    {
     "name": "stdout",
     "output_type": "stream",
     "text": [
      "Training set:  37248\n",
      "Validation set:  1961\n",
      "(37248, 1024)\n",
      "(37248, 43)\n",
      "(1961, 1024)\n",
      "(1961, 43)\n",
      "(12630, 1024)\n"
     ]
    }
   ],
   "source": [
    "#Randmoized datasets for training and validation\n",
    "train_features,valid_features, train_labels, valid_labels = train_test_split(train_gray,\n",
    "                                                                             y_train,\n",
    "                                                                             test_size=0.05,\n",
    "                                                                             random_state=832289)\n",
    "print (\"Training set: \",len(train_labels))\n",
    "print (\"Validation set: \",len(valid_labels))\n",
    "print(train_features.shape)\n",
    "print(train_labels.shape)\n",
    "print(valid_features.shape)\n",
    "print(valid_labels.shape)\n",
    "print(test_gray.shape)"
   ]
  },
  {
   "cell_type": "code",
   "execution_count": 23,
   "metadata": {
    "collapsed": true
   },
   "outputs": [],
   "source": [
    "import tensorflow as tf\n",
    "### Generate data additional (if you want to!)\n",
    "### and split the data into training/validation/testing sets here.\n",
    "### Feel free to use as many code cells as needed.\n",
    "\n",
    "#The weights must be the dimensions of features by labels. The number of features is the size of the image, 32x32=1024. \n",
    "features_count = 1024\n",
    "#The biases must be the dimensions of the labels, which is 10.\n",
    "labels_count = 43\n",
    "\n",
    "#Set the features and labels tensors\n",
    "features = tf.placeholder(tf.float32)\n",
    "labels = tf.placeholder(tf.float32)\n",
    "\n",
    "#Set the weights and biases tensors\n",
    "weights = tf.Variable(tf.truncated_normal((features_count, labels_count)))\n",
    "biases = tf.Variable(tf.zeros(labels_count))"
   ]
  },
  {
   "cell_type": "markdown",
   "metadata": {},
   "source": [
    "### Question 2\n",
    "\n",
    "_Describe how you set up the training, validation and testing data for your model. If you generated additional data, why?_"
   ]
  },
  {
   "cell_type": "markdown",
   "metadata": {},
   "source": [
    "**Answer:**\n",
    "Performed One hot encoding of the labels.\n",
    "Split the training set into 2 datasets, training and valdiation sets using: http://scikit-learn.org/stable/modules/generated/sklearn.model_selection.train_test_split.html#sklearn.model_selection.train_test_split. Test data set is not split.Weights and biases initialized based on the feature and label counts\n",
    "\n"
   ]
  },
  {
   "cell_type": "code",
   "execution_count": 24,
   "metadata": {
    "collapsed": false
   },
   "outputs": [
    {
     "name": "stdout",
     "output_type": "stream",
     "text": [
      "WARNING:tensorflow:From <ipython-input-24-7f3d062cc550>:28 in <module>.: initialize_all_variables (from tensorflow.python.ops.variables) is deprecated and will be removed after 2017-03-02.\n",
      "Instructions for updating:\n",
      "Use `tf.global_variables_initializer` instead.\n",
      "features =  (37248, 1024)\n",
      "weights =  (1024, 43)\n",
      "biases =  (43,)\n",
      "Tensor(\"add_1:0\", shape=(?, 43), dtype=float32)\n",
      "WARNING:tensorflow:From <ipython-input-24-7f3d062cc550>:54 in <module>.: initialize_all_variables (from tensorflow.python.ops.variables) is deprecated and will be removed after 2017-03-02.\n",
      "Instructions for updating:\n",
      "Use `tf.global_variables_initializer` instead.\n",
      "Tests Passed!\n"
     ]
    }
   ],
   "source": [
    "### Define your architecture here.\n",
    "### Feel free to use as many code cells as needed.\n",
    "#Test Cases\n",
    "from tensorflow.python.ops.variables import Variable\n",
    "\n",
    "assert features._op.name.startswith('Placeholder'), 'features must be a placeholder'\n",
    "assert labels._op.name.startswith('Placeholder'), 'labels must be a placeholder'\n",
    "assert isinstance(weights, Variable), 'weights must be a TensorFlow variable'\n",
    "assert isinstance(biases, Variable), 'biases must be a TensorFlow variable'\n",
    "\n",
    "assert features._shape == None or (\\\n",
    "    features._shape.dims[0].value is None and\\\n",
    "    features._shape.dims[1].value in [None, 1024]), 'The shape of features is incorrect'\n",
    "assert labels._shape in [None, 10], 'The shape of labels is incorrect'\n",
    "assert weights._variable._shape == (1024, 43), 'The shape of weights is incorrect'\n",
    "assert biases._variable._shape == (43), 'The shape of biases is incorrect'\n",
    "\n",
    "assert features._dtype == tf.float32, 'features must be type float32'\n",
    "assert labels._dtype == tf.float32, 'labels must be type float32'\n",
    "\n",
    "# Feed dicts for training, validation, and test session\n",
    "train_feed_dict = {features: train_features, labels: train_labels}\n",
    "valid_feed_dict = {features: valid_features, labels: valid_labels}\n",
    "test_feed_dict = {features: test_gray, labels: y_test}\n",
    "\n",
    "# Linear Function WX + b\n",
    "logits = tf.matmul(features, weights) + biases\n",
    "\n",
    "# Create an operation that initializes all variables\n",
    "init = tf.initialize_all_variables()\n",
    "\n",
    "# Test Cases\n",
    "with tf.Session() as session:\n",
    "    session.run(init)\n",
    "    a = session.run(features, feed_dict=train_feed_dict)\n",
    "    b = session.run(weights)\n",
    "    c = session.run(biases)\n",
    "    print(\"features = \",a.shape)\n",
    "    print(\"weights = \",b.shape)\n",
    "    print(\"biases = \",c.shape)\n",
    "    session.run(logits, feed_dict=train_feed_dict)\n",
    "\n",
    "print(logits)    \n",
    "\n",
    "prediction = tf.nn.softmax(logits)\n",
    "\n",
    "# Cross entropy\n",
    "cross_entropy = tf.reduce_mean(-tf.reduce_sum(labels * tf.log(tf.clip_by_value(prediction,1e-10,1.0)), \n",
    "                                             reduction_indices=[1]))\n",
    "\n",
    "# Training loss\n",
    "loss = tf.reduce_mean(cross_entropy)\n",
    "\n",
    "# Test Cases\n",
    "with tf.Session() as session:\n",
    "    session.run(tf.initialize_all_variables())\n",
    "    #pred = session.run(prediction,feed_dict=test_feed_dict)\n",
    "    session.run(loss, feed_dict=train_feed_dict)\n",
    "    #session.run(loss, feed_dict=valid_feed_dict)\n",
    "    #session.run(loss, feed_dict=test_feed_dict)\n",
    "    #print(pred)\n",
    "    #print(\"train_loss = \",train_loss)\n",
    "    #print(\"valid_loss = \",valid_loss)\n",
    "    #print(\"test_loss = \",test_loss)\n",
    "    biases_data = session.run(biases)\n",
    "    \n",
    "assert not np.count_nonzero(biases_data), 'biases must be zeros'\n",
    "\n",
    "print('Tests Passed!')"
   ]
  },
  {
   "cell_type": "code",
   "execution_count": 25,
   "metadata": {
    "collapsed": false
   },
   "outputs": [
    {
     "name": "stdout",
     "output_type": "stream",
     "text": [
      "Accuracy function created.\n"
     ]
    }
   ],
   "source": [
    "# Determine if the predictions are correct\n",
    "is_correct_prediction = tf.equal(tf.argmax(prediction, 1), tf.argmax(labels, 1))\n",
    "# Calculate the accuracy of the predictions\n",
    "accuracy = tf.reduce_mean(tf.cast(is_correct_prediction, tf.float32))\n",
    "\n",
    "print('Accuracy function created.')"
   ]
  },
  {
   "cell_type": "markdown",
   "metadata": {},
   "source": [
    "### Question 3\n",
    "\n",
    "_What does your final architecture look like? (Type of model, layers, sizes, connectivity, etc.)  For reference on how to build a deep neural network using TensorFlow, see [Deep Neural Network in TensorFlow\n",
    "](https://classroom.udacity.com/nanodegrees/nd013/parts/fbf77062-5703-404e-b60c-95b78b2f3f9e/modules/6df7ae49-c61c-4bb2-a23e-6527e69209ec/lessons/b516a270-8600-4f93-a0a3-20dfeabe5da6/concepts/83a3a2a2-a9bd-4b7b-95b0-eb924ab14432) from the classroom._\n"
   ]
  },
  {
   "cell_type": "markdown",
   "metadata": {},
   "source": [
    "**Answer:**\n",
    "The architecture leverages Linear model application on inputs, weights and bias \n",
    "Calculate the softmax, cross_entropy, loss and accuracy of the prediction\n",
    "CNN is not leveraged here\n"
   ]
  },
  {
   "cell_type": "code",
   "execution_count": 26,
   "metadata": {
    "collapsed": false
   },
   "outputs": [
    {
     "name": "stderr",
     "output_type": "stream",
     "text": [
      "\n",
      "Epoch  1/500:   0%|          | 0/1863 [00:00<?, ?batches/s]\u001b[A\n",
      "Epoch  1/500:   0%|          | 1/1863 [00:00<15:16,  2.03batches/s]\u001b[A\n",
      "Epoch  1/500:   4%|▍         | 75/1863 [00:00<10:16,  2.90batches/s]\u001b[A\n",
      "Epoch  1/500:   8%|▊         | 149/1863 [00:00<06:54,  4.13batches/s]"
     ]
    },
    {
     "name": "stdout",
     "output_type": "stream",
     "text": [
      "Validation accuracy:  0.0127486\n",
      "Training accuracy:  0.0106851\n",
      "Test accuracy:  0.0114806\n"
     ]
    },
    {
     "name": "stderr",
     "output_type": "stream",
     "text": [
      "\u001b[A\n",
      "Epoch  1/500:  12%|█▏        | 226/1863 [00:00<04:37,  5.89batches/s]\u001b[A\n",
      "Epoch  1/500:  17%|█▋        | 310/1863 [00:00<03:05,  8.39batches/s]\u001b[A\n",
      "Epoch  1/500:  21%|██        | 382/1863 [00:00<02:04, 11.93batches/s]\u001b[A\n",
      "Epoch  1/500:  25%|██▍       | 465/1863 [00:01<01:22, 16.94batches/s]\u001b[A\n",
      "Epoch  1/500:  29%|██▉       | 545/1863 [00:01<00:54, 23.98batches/s]\u001b[A\n",
      "Epoch  1/500:  35%|███▍      | 643/1863 [00:01<00:35, 33.90batches/s]\u001b[A\n",
      "Epoch  1/500:  40%|███▉      | 736/1863 [00:01<00:23, 47.67batches/s]\u001b[A\n",
      "Epoch  1/500:  45%|████▍     | 831/1863 [00:01<00:15, 66.66batches/s]\u001b[A\n",
      "Epoch  1/500:  49%|████▉     | 919/1863 [00:01<00:10, 92.23batches/s]\u001b[A\n",
      "Epoch  1/500:  54%|█████▍    | 1007/1863 [00:01<00:06, 125.69batches/s]\u001b[A\n",
      "Epoch  1/500:  59%|█████▊    | 1094/1863 [00:01<00:04, 168.96batches/s]\u001b[A\n",
      "Epoch  1/500:  64%|██████▍   | 1189/1863 [00:01<00:03, 224.19batches/s]\u001b[A\n",
      "Epoch  1/500:  69%|██████▉   | 1284/1863 [00:02<00:01, 290.53batches/s]\u001b[A\n",
      "Epoch  1/500:  74%|███████▍  | 1381/1863 [00:02<00:01, 367.37batches/s]\u001b[A\n",
      "Epoch  1/500:  79%|███████▉  | 1481/1863 [00:02<00:00, 452.90batches/s]\u001b[A\n",
      "Epoch  1/500:  85%|████████▍ | 1575/1863 [00:02<00:00, 521.98batches/s]\u001b[A\n",
      "Epoch  1/500:  89%|████████▉ | 1666/1863 [00:02<00:00, 585.28batches/s]\u001b[A\n",
      "Epoch  1/500:  94%|█████████▍| 1754/1863 [00:02<00:00, 635.10batches/s]\u001b[A\n",
      "Epoch  1/500:  99%|█████████▉| 1840/1863 [00:02<00:00, 677.94batches/s]\u001b[A\n",
      "Epoch  1/500: 100%|██████████| 1863/1863 [00:02<00:00, 693.02batches/s]\u001b[A\n",
      "Epoch  2/500:   0%|          | 0/1863 [00:00<?, ?batches/s]\u001b[A\n",
      "Epoch  2/500:   0%|          | 1/1863 [00:00<12:36,  2.46batches/s]\u001b[A\n",
      "Epoch  2/500:   4%|▍         | 79/1863 [00:00<08:28,  3.51batches/s]"
     ]
    },
    {
     "name": "stdout",
     "output_type": "stream",
     "text": [
      "Validation accuracy:  0.511984\n",
      "Training accuracy:  0.505799\n",
      "Test accuracy:  0.46635\n"
     ]
    },
    {
     "name": "stderr",
     "output_type": "stream",
     "text": [
      "\u001b[A\n",
      "Epoch  2/500:   8%|▊         | 158/1863 [00:00<05:40,  5.01batches/s]\u001b[A\n",
      "Epoch  2/500:  13%|█▎        | 241/1863 [00:00<03:47,  7.13batches/s]\u001b[A\n",
      "Epoch  2/500:  17%|█▋        | 320/1863 [00:00<02:31, 10.15batches/s]\u001b[A\n",
      "Epoch  2/500:  21%|██        | 387/1863 [00:00<01:42, 14.41batches/s]\u001b[A\n",
      "Epoch  2/500:  24%|██▍       | 454/1863 [00:01<01:09, 20.39batches/s]\u001b[A\n",
      "Epoch  2/500:  29%|██▉       | 537/1863 [00:01<00:45, 28.83batches/s]\u001b[A\n",
      "Epoch  2/500:  33%|███▎      | 615/1863 [00:01<00:30, 40.54batches/s]\u001b[A\n",
      "Epoch  2/500:  38%|███▊      | 704/1863 [00:01<00:20, 56.80batches/s]\u001b[A\n",
      "Epoch  2/500:  42%|████▏     | 788/1863 [00:01<00:13, 78.83batches/s]\u001b[A\n",
      "Epoch  2/500:  47%|████▋     | 880/1863 [00:01<00:09, 108.62batches/s]\u001b[A\n",
      "Epoch  2/500:  52%|█████▏    | 963/1863 [00:01<00:06, 146.70batches/s]\u001b[A\n",
      "Epoch  2/500:  56%|█████▋    | 1051/1863 [00:01<00:04, 195.57batches/s]\u001b[A\n",
      "Epoch  2/500:  61%|██████    | 1135/1863 [00:01<00:02, 251.54batches/s]\u001b[A\n",
      "Epoch  2/500:  65%|██████▌   | 1217/1863 [00:01<00:02, 313.85batches/s]\u001b[A\n",
      "Epoch  2/500:  70%|██████▉   | 1297/1863 [00:02<00:01, 382.93batches/s]\u001b[A\n",
      "Epoch  2/500:  75%|███████▍  | 1390/1863 [00:02<00:01, 464.57batches/s]\u001b[A\n",
      "Epoch  2/500:  79%|███████▉  | 1475/1863 [00:02<00:00, 536.56batches/s]\u001b[A\n",
      "Epoch  2/500:  84%|████████▍ | 1562/1863 [00:02<00:00, 605.73batches/s]\u001b[A\n",
      "Epoch  2/500:  88%|████████▊ | 1647/1863 [00:02<00:00, 650.92batches/s]\u001b[A\n",
      "Epoch  2/500:  93%|█████████▎| 1735/1863 [00:02<00:00, 704.62batches/s]\u001b[A\n",
      "Epoch  2/500:  98%|█████████▊| 1820/1863 [00:02<00:00, 725.11batches/s]\u001b[A\n",
      "Epoch  2/500: 100%|██████████| 1863/1863 [00:02<00:00, 685.77batches/s]\u001b[A\n",
      "Epoch  3/500:   0%|          | 0/1863 [00:00<?, ?batches/s]\u001b[A\n",
      "Epoch  3/500:   0%|          | 1/1863 [00:00<13:32,  2.29batches/s]\u001b[A\n",
      "Epoch  3/500:   4%|▍         | 82/1863 [00:00<09:04,  3.27batches/s]"
     ]
    },
    {
     "name": "stdout",
     "output_type": "stream",
     "text": [
      "Validation accuracy:  0.614992\n",
      "Training accuracy:  0.622423\n",
      "Test accuracy:  0.562312\n"
     ]
    },
    {
     "name": "stderr",
     "output_type": "stream",
     "text": [
      "\u001b[A\n",
      "Epoch  3/500:   9%|▉         | 164/1863 [00:00<06:04,  4.66batches/s]\u001b[A\n",
      "Epoch  3/500:  13%|█▎        | 238/1863 [00:00<04:04,  6.64batches/s]\u001b[A\n",
      "Epoch  3/500:  17%|█▋        | 318/1863 [00:00<02:43,  9.46batches/s]\u001b[A\n",
      "Epoch  3/500:  21%|██        | 387/1863 [00:00<01:49, 13.43batches/s]\u001b[A\n",
      "Epoch  3/500:  25%|██▍       | 464/1863 [00:01<01:13, 19.04batches/s]\u001b[A\n",
      "Epoch 15/25:  21%|██▏       | 396/1863 [00:20<01:14, 19.79batches/s]\n",
      "Exception in thread Thread-18:\n",
      "Traceback (most recent call last):\n",
      "  File \"/Users/sharanya.doddapaneni/anaconda/envs/nano/lib/python3.5/threading.py\", line 914, in _bootstrap_inner\n",
      "    self.run()\n",
      "  File \"/Users/sharanya.doddapaneni/anaconda/envs/nano/lib/python3.5/site-packages/tqdm/_tqdm.py\", line 102, in run\n",
      "    for instance in self.tqdm_cls._instances:\n",
      "  File \"/Users/sharanya.doddapaneni/anaconda/envs/nano/lib/python3.5/_weakrefset.py\", line 60, in __iter__\n",
      "    for itemref in self.data:\n",
      "RuntimeError: Set changed size during iteration\n",
      "\n",
      "Epoch  3/500: 100%|██████████| 1863/1863 [00:02<00:00, 671.30batches/s]\n",
      "Epoch  4/500:   7%|▋         | 129/1863 [00:00<06:06,  4.73batches/s]"
     ]
    },
    {
     "name": "stdout",
     "output_type": "stream",
     "text": [
      "Validation accuracy:  0.681285\n",
      "Training accuracy:  0.690749\n",
      "Test accuracy:  0.619398\n"
     ]
    },
    {
     "name": "stderr",
     "output_type": "stream",
     "text": [
      "Epoch  4/500: 100%|██████████| 1863/1863 [00:03<00:00, 612.11batches/s]\n",
      "Epoch  5/500:   9%|▉         | 168/1863 [00:00<06:03,  4.66batches/s]"
     ]
    },
    {
     "name": "stdout",
     "output_type": "stream",
     "text": [
      "Validation accuracy:  0.713921\n",
      "Training accuracy:  0.728388\n",
      "Test accuracy:  0.652969\n"
     ]
    },
    {
     "name": "stderr",
     "output_type": "stream",
     "text": [
      "Epoch  5/500: 100%|██████████| 1863/1863 [00:02<00:00, 646.48batches/s]\n",
      "Epoch  6/500:   4%|▍         | 79/1863 [00:00<08:55,  3.33batches/s]"
     ]
    },
    {
     "name": "stdout",
     "output_type": "stream",
     "text": [
      "Validation accuracy:  0.739929\n",
      "Training accuracy:  0.752389\n",
      "Test accuracy:  0.677831\n"
     ]
    },
    {
     "name": "stderr",
     "output_type": "stream",
     "text": [
      "Epoch  6/500: 100%|██████████| 1863/1863 [00:03<00:00, 612.68batches/s]\n",
      "Epoch  7/500:   7%|▋         | 137/1863 [00:00<06:24,  4.49batches/s]"
     ]
    },
    {
     "name": "stdout",
     "output_type": "stream",
     "text": [
      "Validation accuracy:  0.750127\n",
      "Training accuracy:  0.767639\n",
      "Test accuracy:  0.693032\n"
     ]
    },
    {
     "name": "stderr",
     "output_type": "stream",
     "text": [
      "Epoch  7/500: 100%|██████████| 1863/1863 [00:03<00:00, 560.87batches/s]\n",
      "Epoch  8/500:   4%|▍         | 71/1863 [00:00<09:25,  3.17batches/s]"
     ]
    },
    {
     "name": "stdout",
     "output_type": "stream",
     "text": [
      "Validation accuracy:  0.762876\n",
      "Training accuracy:  0.781008\n",
      "Test accuracy:  0.704196\n"
     ]
    },
    {
     "name": "stderr",
     "output_type": "stream",
     "text": [
      "Epoch  8/500: 100%|██████████| 1863/1863 [00:03<00:00, 566.88batches/s]\n",
      "Epoch  9/500:   8%|▊         | 148/1863 [00:00<06:17,  4.55batches/s]"
     ]
    },
    {
     "name": "stdout",
     "output_type": "stream",
     "text": [
      "Validation accuracy:  0.775115\n",
      "Training accuracy:  0.793412\n",
      "Test accuracy:  0.714648\n"
     ]
    },
    {
     "name": "stderr",
     "output_type": "stream",
     "text": [
      "Epoch  9/500: 100%|██████████| 1863/1863 [00:02<00:00, 640.80batches/s]\n",
      "Epoch 10/500:   5%|▍         | 92/1863 [00:00<08:27,  3.49batches/s]"
     ]
    },
    {
     "name": "stdout",
     "output_type": "stream",
     "text": [
      "Validation accuracy:  0.787353\n",
      "Training accuracy:  0.805493\n",
      "Test accuracy:  0.723832\n"
     ]
    },
    {
     "name": "stderr",
     "output_type": "stream",
     "text": [
      "Epoch 10/500: 100%|██████████| 1863/1863 [00:02<00:00, 733.55batches/s]\n",
      "Epoch 11/500:   9%|▉         | 165/1863 [00:00<05:50,  4.84batches/s]"
     ]
    },
    {
     "name": "stdout",
     "output_type": "stream",
     "text": [
      "Validation accuracy:  0.797552\n",
      "Training accuracy:  0.815131\n",
      "Test accuracy:  0.730879\n"
     ]
    },
    {
     "name": "stderr",
     "output_type": "stream",
     "text": [
      "Epoch 11/500: 100%|██████████| 1863/1863 [00:02<00:00, 651.55batches/s]\n",
      "Epoch 12/500:   9%|▊         | 159/1863 [00:00<06:02,  4.70batches/s]"
     ]
    },
    {
     "name": "stdout",
     "output_type": "stream",
     "text": [
      "Validation accuracy:  0.802142\n",
      "Training accuracy:  0.822487\n",
      "Test accuracy:  0.737926\n"
     ]
    },
    {
     "name": "stderr",
     "output_type": "stream",
     "text": [
      "Epoch 12/500: 100%|██████████| 1863/1863 [00:03<00:00, 601.71batches/s]\n",
      "Epoch 13/500:   8%|▊         | 155/1863 [00:00<06:17,  4.53batches/s]"
     ]
    },
    {
     "name": "stdout",
     "output_type": "stream",
     "text": [
      "Validation accuracy:  0.809791\n",
      "Training accuracy:  0.829951\n",
      "Test accuracy:  0.742835\n"
     ]
    },
    {
     "name": "stderr",
     "output_type": "stream",
     "text": [
      "Epoch 13/500: 100%|██████████| 1863/1863 [00:02<00:00, 692.45batches/s]\n",
      "Epoch 14/500:   9%|▊         | 160/1863 [00:00<05:57,  4.76batches/s]"
     ]
    },
    {
     "name": "stdout",
     "output_type": "stream",
     "text": [
      "Validation accuracy:  0.811321\n",
      "Training accuracy:  0.835857\n",
      "Test accuracy:  0.74711\n"
     ]
    },
    {
     "name": "stderr",
     "output_type": "stream",
     "text": [
      "Epoch 14/500: 100%|██████████| 1863/1863 [00:02<00:00, 689.60batches/s]\n",
      "Epoch 15/500:  10%|▉         | 184/1863 [00:00<05:39,  4.94batches/s]"
     ]
    },
    {
     "name": "stdout",
     "output_type": "stream",
     "text": [
      "Validation accuracy:  0.8154\n",
      "Training accuracy:  0.841334\n",
      "Test accuracy:  0.750435\n"
     ]
    },
    {
     "name": "stderr",
     "output_type": "stream",
     "text": [
      "Epoch 15/500: 100%|██████████| 1863/1863 [00:02<00:00, 745.51batches/s]\n",
      "Epoch 16/500:   9%|▉         | 167/1863 [00:00<05:45,  4.91batches/s]"
     ]
    },
    {
     "name": "stdout",
     "output_type": "stream",
     "text": [
      "Validation accuracy:  0.81999\n",
      "Training accuracy:  0.846193\n",
      "Test accuracy:  0.752573\n"
     ]
    },
    {
     "name": "stderr",
     "output_type": "stream",
     "text": [
      "Epoch 16/500: 100%|██████████| 1863/1863 [00:02<00:00, 691.89batches/s]\n",
      "Epoch 17/500:  10%|▉         | 183/1863 [00:00<05:53,  4.75batches/s]"
     ]
    },
    {
     "name": "stdout",
     "output_type": "stream",
     "text": [
      "Validation accuracy:  0.824579\n",
      "Training accuracy:  0.850757\n",
      "Test accuracy:  0.755819\n"
     ]
    },
    {
     "name": "stderr",
     "output_type": "stream",
     "text": [
      "Epoch 17/500: 100%|██████████| 1863/1863 [00:02<00:00, 721.78batches/s]\n",
      "Epoch 18/500:   9%|▊         | 163/1863 [00:00<05:52,  4.82batches/s]"
     ]
    },
    {
     "name": "stdout",
     "output_type": "stream",
     "text": [
      "Validation accuracy:  0.828659\n",
      "Training accuracy:  0.855428\n",
      "Test accuracy:  0.760728\n"
     ]
    },
    {
     "name": "stderr",
     "output_type": "stream",
     "text": [
      "Epoch 18/500: 100%|██████████| 1863/1863 [00:02<00:00, 710.35batches/s]\n",
      "Epoch 19/500:   5%|▌         | 94/1863 [00:00<08:17,  3.56batches/s]"
     ]
    },
    {
     "name": "stdout",
     "output_type": "stream",
     "text": [
      "Validation accuracy:  0.833758\n",
      "Training accuracy:  0.85908\n",
      "Test accuracy:  0.76342\n"
     ]
    },
    {
     "name": "stderr",
     "output_type": "stream",
     "text": [
      "Epoch 19/500: 100%|██████████| 1863/1863 [00:02<00:00, 727.51batches/s]\n",
      "Epoch 20/500:   9%|▉         | 167/1863 [00:00<05:47,  4.88batches/s]"
     ]
    },
    {
     "name": "stdout",
     "output_type": "stream",
     "text": [
      "Validation accuracy:  0.837328\n",
      "Training accuracy:  0.862355\n",
      "Test accuracy:  0.766271\n"
     ]
    },
    {
     "name": "stderr",
     "output_type": "stream",
     "text": [
      "Epoch 20/500: 100%|██████████| 1863/1863 [00:02<00:00, 733.89batches/s]\n",
      "Epoch 21/500:  10%|█         | 189/1863 [00:00<05:25,  5.15batches/s]"
     ]
    },
    {
     "name": "stdout",
     "output_type": "stream",
     "text": [
      "Validation accuracy:  0.841407\n",
      "Training accuracy:  0.865389\n",
      "Test accuracy:  0.76825\n"
     ]
    },
    {
     "name": "stderr",
     "output_type": "stream",
     "text": [
      "Epoch 21/500: 100%|██████████| 1863/1863 [00:02<00:00, 722.77batches/s]\n",
      "Epoch 22/500:   4%|▍         | 82/1863 [00:00<08:46,  3.38batches/s]"
     ]
    },
    {
     "name": "stdout",
     "output_type": "stream",
     "text": [
      "Validation accuracy:  0.845997\n",
      "Training accuracy:  0.868073\n",
      "Test accuracy:  0.770309\n"
     ]
    },
    {
     "name": "stderr",
     "output_type": "stream",
     "text": [
      "Epoch 22/500: 100%|██████████| 1863/1863 [00:02<00:00, 725.99batches/s]\n",
      "Epoch 23/500:   4%|▍         | 77/1863 [00:00<08:41,  3.43batches/s]"
     ]
    },
    {
     "name": "stdout",
     "output_type": "stream",
     "text": [
      "Validation accuracy:  0.848547\n",
      "Training accuracy:  0.871134\n",
      "Test accuracy:  0.77213\n"
     ]
    },
    {
     "name": "stderr",
     "output_type": "stream",
     "text": [
      "Epoch 23/500: 100%|██████████| 1863/1863 [00:02<00:00, 638.13batches/s]\n",
      "Epoch 24/500:   4%|▍         | 75/1863 [00:00<09:02,  3.30batches/s]"
     ]
    },
    {
     "name": "stdout",
     "output_type": "stream",
     "text": [
      "Validation accuracy:  0.852116\n",
      "Training accuracy:  0.874195\n",
      "Test accuracy:  0.773872\n"
     ]
    },
    {
     "name": "stderr",
     "output_type": "stream",
     "text": [
      "Epoch 24/500: 100%|██████████| 1863/1863 [00:02<00:00, 712.75batches/s]\n",
      "Epoch 25/500:   9%|▉         | 166/1863 [00:00<06:00,  4.70batches/s]"
     ]
    },
    {
     "name": "stdout",
     "output_type": "stream",
     "text": [
      "Validation accuracy:  0.852116\n",
      "Training accuracy:  0.877067\n",
      "Test accuracy:  0.775376\n"
     ]
    },
    {
     "name": "stderr",
     "output_type": "stream",
     "text": [
      "Epoch 25/500: 100%|██████████| 1863/1863 [00:02<00:00, 676.40batches/s]\n",
      "Epoch 26/500:   5%|▍         | 89/1863 [00:00<08:36,  3.43batches/s]"
     ]
    },
    {
     "name": "stdout",
     "output_type": "stream",
     "text": [
      "Validation accuracy:  0.854156\n",
      "Training accuracy:  0.879725\n",
      "Test accuracy:  0.776801\n"
     ]
    },
    {
     "name": "stderr",
     "output_type": "stream",
     "text": [
      "Epoch 26/500: 100%|██████████| 1863/1863 [00:02<00:00, 728.65batches/s]\n",
      "Epoch 27/500:   4%|▍         | 82/1863 [00:00<09:06,  3.26batches/s]"
     ]
    },
    {
     "name": "stdout",
     "output_type": "stream",
     "text": [
      "Validation accuracy:  0.855686\n",
      "Training accuracy:  0.882302\n",
      "Test accuracy:  0.77791\n"
     ]
    },
    {
     "name": "stderr",
     "output_type": "stream",
     "text": [
      "Epoch 27/500: 100%|██████████| 1863/1863 [00:02<00:00, 622.21batches/s]\n",
      "Epoch 28/500:   3%|▎         | 63/1863 [00:00<10:33,  2.84batches/s]"
     ]
    },
    {
     "name": "stdout",
     "output_type": "stream",
     "text": [
      "Validation accuracy:  0.857216\n",
      "Training accuracy:  0.884343\n",
      "Test accuracy:  0.778701\n"
     ]
    },
    {
     "name": "stderr",
     "output_type": "stream",
     "text": [
      "Epoch 28/500: 100%|██████████| 1863/1863 [00:03<00:00, 573.11batches/s]\n",
      "Epoch 29/500:   4%|▎         | 67/1863 [00:00<10:01,  2.99batches/s]"
     ]
    },
    {
     "name": "stdout",
     "output_type": "stream",
     "text": [
      "Validation accuracy:  0.858236\n",
      "Training accuracy:  0.886115\n",
      "Test accuracy:  0.780602\n"
     ]
    },
    {
     "name": "stderr",
     "output_type": "stream",
     "text": [
      "Epoch 29/500: 100%|██████████| 1863/1863 [00:03<00:00, 537.23batches/s]\n",
      "Epoch 30/500:   6%|▌         | 113/1863 [00:00<08:30,  3.43batches/s]"
     ]
    },
    {
     "name": "stdout",
     "output_type": "stream",
     "text": [
      "Validation accuracy:  0.859765\n",
      "Training accuracy:  0.887645\n",
      "Test accuracy:  0.781235\n"
     ]
    },
    {
     "name": "stderr",
     "output_type": "stream",
     "text": [
      "Epoch 30/500: 100%|██████████| 1863/1863 [00:04<00:00, 447.98batches/s]\n",
      "Epoch 31/500:   5%|▌         | 100/1863 [00:00<08:59,  3.27batches/s]"
     ]
    },
    {
     "name": "stdout",
     "output_type": "stream",
     "text": [
      "Validation accuracy:  0.859765\n",
      "Training accuracy:  0.889229\n",
      "Test accuracy:  0.782502\n"
     ]
    },
    {
     "name": "stderr",
     "output_type": "stream",
     "text": [
      "Epoch 31/500: 100%|██████████| 1863/1863 [00:04<00:00, 462.87batches/s]\n",
      "Epoch 32/500:   7%|▋         | 122/1863 [00:00<06:41,  4.34batches/s]"
     ]
    },
    {
     "name": "stdout",
     "output_type": "stream",
     "text": [
      "Validation accuracy:  0.862825\n",
      "Training accuracy:  0.890544\n",
      "Test accuracy:  0.783531\n"
     ]
    },
    {
     "name": "stderr",
     "output_type": "stream",
     "text": [
      "Epoch 32/500: 100%|██████████| 1863/1863 [00:03<00:00, 530.68batches/s]\n",
      "Epoch 33/500:   4%|▍         | 80/1863 [00:00<09:34,  3.10batches/s]"
     ]
    },
    {
     "name": "stdout",
     "output_type": "stream",
     "text": [
      "Validation accuracy:  0.863335\n",
      "Training accuracy:  0.891645\n",
      "Test accuracy:  0.784323\n"
     ]
    },
    {
     "name": "stderr",
     "output_type": "stream",
     "text": [
      "Epoch 33/500: 100%|██████████| 1863/1863 [00:02<00:00, 625.48batches/s]\n",
      "Epoch 34/500:   7%|▋         | 134/1863 [00:00<06:56,  4.15batches/s]"
     ]
    },
    {
     "name": "stdout",
     "output_type": "stream",
     "text": [
      "Validation accuracy:  0.862825\n",
      "Training accuracy:  0.893363\n",
      "Test accuracy:  0.785115\n"
     ]
    },
    {
     "name": "stderr",
     "output_type": "stream",
     "text": [
      "Epoch 34/500: 100%|██████████| 1863/1863 [00:03<00:00, 532.57batches/s]\n",
      "Epoch 35/500:   6%|▌         | 115/1863 [00:00<08:08,  3.58batches/s]"
     ]
    },
    {
     "name": "stdout",
     "output_type": "stream",
     "text": [
      "Validation accuracy:  0.863335\n",
      "Training accuracy:  0.894652\n",
      "Test accuracy:  0.785748\n"
     ]
    },
    {
     "name": "stderr",
     "output_type": "stream",
     "text": [
      "Epoch 35/500: 100%|██████████| 1863/1863 [00:03<00:00, 473.43batches/s]\n",
      "Epoch 36/500:   3%|▎         | 61/1863 [00:00<11:31,  2.61batches/s]"
     ]
    },
    {
     "name": "stdout",
     "output_type": "stream",
     "text": [
      "Validation accuracy:  0.863845\n",
      "Training accuracy:  0.89586\n",
      "Test accuracy:  0.785907\n"
     ]
    },
    {
     "name": "stderr",
     "output_type": "stream",
     "text": [
      "Epoch 36/500: 100%|██████████| 1863/1863 [00:03<00:00, 537.77batches/s]\n",
      "Epoch 37/500:   8%|▊         | 146/1863 [00:00<06:36,  4.33batches/s]"
     ]
    },
    {
     "name": "stdout",
     "output_type": "stream",
     "text": [
      "Validation accuracy:  0.863335\n",
      "Training accuracy:  0.897283\n",
      "Test accuracy:  0.786698\n"
     ]
    },
    {
     "name": "stderr",
     "output_type": "stream",
     "text": [
      "Epoch 37/500: 100%|██████████| 1863/1863 [00:03<00:00, 528.53batches/s]\n",
      "Epoch 38/500:   5%|▌         | 102/1863 [00:00<08:23,  3.50batches/s]"
     ]
    },
    {
     "name": "stdout",
     "output_type": "stream",
     "text": [
      "Validation accuracy:  0.865375\n",
      "Training accuracy:  0.898357\n",
      "Test accuracy:  0.787648\n"
     ]
    },
    {
     "name": "stderr",
     "output_type": "stream",
     "text": [
      "Epoch 38/500: 100%|██████████| 1863/1863 [00:03<00:00, 471.15batches/s]\n",
      "Epoch 39/500:   5%|▍         | 92/1863 [00:00<08:51,  3.33batches/s]"
     ]
    },
    {
     "name": "stdout",
     "output_type": "stream",
     "text": [
      "Validation accuracy:  0.867415\n",
      "Training accuracy:  0.899404\n",
      "Test accuracy:  0.787965\n"
     ]
    },
    {
     "name": "stderr",
     "output_type": "stream",
     "text": [
      "Epoch 39/500: 100%|██████████| 1863/1863 [00:03<00:00, 468.86batches/s]\n",
      "Epoch 40/500:   7%|▋         | 137/1863 [00:00<06:59,  4.12batches/s]"
     ]
    },
    {
     "name": "stdout",
     "output_type": "stream",
     "text": [
      "Validation accuracy:  0.868944\n",
      "Training accuracy:  0.900612\n",
      "Test accuracy:  0.788836\n"
     ]
    },
    {
     "name": "stderr",
     "output_type": "stream",
     "text": [
      "Epoch 40/500: 100%|██████████| 1863/1863 [00:03<00:00, 472.03batches/s]\n",
      "Epoch 41/500:   3%|▎         | 63/1863 [00:00<11:39,  2.57batches/s]"
     ]
    },
    {
     "name": "stdout",
     "output_type": "stream",
     "text": [
      "Validation accuracy:  0.869964\n",
      "Training accuracy:  0.901525\n",
      "Test accuracy:  0.789549\n"
     ]
    },
    {
     "name": "stderr",
     "output_type": "stream",
     "text": [
      "Epoch 41/500: 100%|██████████| 1863/1863 [00:03<00:00, 491.69batches/s]\n",
      "Epoch 42/500:   6%|▋         | 119/1863 [00:00<07:40,  3.79batches/s]"
     ]
    },
    {
     "name": "stdout",
     "output_type": "stream",
     "text": [
      "Validation accuracy:  0.870984\n",
      "Training accuracy:  0.902948\n",
      "Test accuracy:  0.790261\n"
     ]
    },
    {
     "name": "stderr",
     "output_type": "stream",
     "text": [
      "Epoch 42/500: 100%|██████████| 1863/1863 [00:03<00:00, 579.20batches/s]\n",
      "Epoch 43/500:   7%|▋         | 138/1863 [00:00<06:29,  4.43batches/s]"
     ]
    },
    {
     "name": "stdout",
     "output_type": "stream",
     "text": [
      "Validation accuracy:  0.870984\n",
      "Training accuracy:  0.904183\n",
      "Test accuracy:  0.790816\n"
     ]
    },
    {
     "name": "stderr",
     "output_type": "stream",
     "text": [
      "Epoch 43/500: 100%|██████████| 1863/1863 [00:03<00:00, 526.12batches/s]\n",
      "Epoch 44/500:   3%|▎         | 53/1863 [00:00<11:28,  2.63batches/s]"
     ]
    },
    {
     "name": "stdout",
     "output_type": "stream",
     "text": [
      "Validation accuracy:  0.869964\n",
      "Training accuracy:  0.905257\n",
      "Test accuracy:  0.791686\n"
     ]
    },
    {
     "name": "stderr",
     "output_type": "stream",
     "text": [
      "Epoch 44/500: 100%|██████████| 1863/1863 [00:04<00:00, 433.53batches/s]\n",
      "Epoch 45/500:   5%|▌         | 101/1863 [00:00<07:54,  3.71batches/s]"
     ]
    },
    {
     "name": "stdout",
     "output_type": "stream",
     "text": [
      "Validation accuracy:  0.870984\n",
      "Training accuracy:  0.906411\n",
      "Test accuracy:  0.791924\n"
     ]
    },
    {
     "name": "stderr",
     "output_type": "stream",
     "text": [
      "Epoch 45/500: 100%|██████████| 1863/1863 [00:03<00:00, 477.64batches/s]\n",
      "Epoch 46/500:   4%|▎         | 67/1863 [00:00<10:41,  2.80batches/s]"
     ]
    },
    {
     "name": "stdout",
     "output_type": "stream",
     "text": [
      "Validation accuracy:  0.871494\n",
      "Training accuracy:  0.907539\n",
      "Test accuracy:  0.792478\n"
     ]
    },
    {
     "name": "stderr",
     "output_type": "stream",
     "text": [
      "Epoch 46/500: 100%|██████████| 1863/1863 [00:03<00:00, 607.69batches/s]\n",
      "Epoch 47/500:   4%|▎         | 68/1863 [00:00<09:37,  3.11batches/s]"
     ]
    },
    {
     "name": "stdout",
     "output_type": "stream",
     "text": [
      "Validation accuracy:  0.870474\n",
      "Training accuracy:  0.908264\n",
      "Test accuracy:  0.79327\n"
     ]
    },
    {
     "name": "stderr",
     "output_type": "stream",
     "text": [
      "Epoch 47/500: 100%|██████████| 1863/1863 [00:03<00:00, 612.10batches/s]\n",
      "Epoch 48/500:   8%|▊         | 158/1863 [00:00<06:22,  4.46batches/s]"
     ]
    },
    {
     "name": "stdout",
     "output_type": "stream",
     "text": [
      "Validation accuracy:  0.872004\n",
      "Training accuracy:  0.908747\n",
      "Test accuracy:  0.793191\n"
     ]
    },
    {
     "name": "stderr",
     "output_type": "stream",
     "text": [
      "Epoch 48/500: 100%|██████████| 1863/1863 [00:02<00:00, 644.23batches/s]\n",
      "Epoch 49/500:   4%|▎         | 69/1863 [00:00<09:29,  3.15batches/s]"
     ]
    },
    {
     "name": "stdout",
     "output_type": "stream",
     "text": [
      "Validation accuracy:  0.874044\n",
      "Training accuracy:  0.909552\n",
      "Test accuracy:  0.793824\n"
     ]
    },
    {
     "name": "stderr",
     "output_type": "stream",
     "text": [
      "Epoch 49/500: 100%|██████████| 1863/1863 [00:02<00:00, 657.06batches/s]\n",
      "Epoch 50/500:   7%|▋         | 132/1863 [00:00<06:07,  4.71batches/s]"
     ]
    },
    {
     "name": "stdout",
     "output_type": "stream",
     "text": [
      "Validation accuracy:  0.875574\n",
      "Training accuracy:  0.910384\n",
      "Test accuracy:  0.793983\n"
     ]
    },
    {
     "name": "stderr",
     "output_type": "stream",
     "text": [
      "Epoch 50/500: 100%|██████████| 1863/1863 [00:03<00:00, 568.23batches/s]\n",
      "Epoch 51/500:   4%|▍         | 72/1863 [00:00<09:58,  2.99batches/s]"
     ]
    },
    {
     "name": "stdout",
     "output_type": "stream",
     "text": [
      "Validation accuracy:  0.875574\n",
      "Training accuracy:  0.911297\n",
      "Test accuracy:  0.794616\n"
     ]
    },
    {
     "name": "stderr",
     "output_type": "stream",
     "text": [
      "Epoch 51/500: 100%|██████████| 1863/1863 [00:03<00:00, 551.73batches/s]\n",
      "Epoch 52/500:   6%|▌         | 109/1863 [00:00<08:05,  3.62batches/s]"
     ]
    },
    {
     "name": "stdout",
     "output_type": "stream",
     "text": [
      "Validation accuracy:  0.876594\n",
      "Training accuracy:  0.912398\n",
      "Test accuracy:  0.794616\n"
     ]
    },
    {
     "name": "stderr",
     "output_type": "stream",
     "text": [
      "Epoch 52/500: 100%|██████████| 1863/1863 [00:03<00:00, 512.49batches/s]\n",
      "Epoch 53/500:   6%|▋         | 119/1863 [00:00<07:52,  3.69batches/s]"
     ]
    },
    {
     "name": "stdout",
     "output_type": "stream",
     "text": [
      "Validation accuracy:  0.878123\n",
      "Training accuracy:  0.912935\n",
      "Test accuracy:  0.795091\n"
     ]
    },
    {
     "name": "stderr",
     "output_type": "stream",
     "text": [
      "Epoch 53/500: 100%|██████████| 1863/1863 [00:03<00:00, 466.40batches/s]\n",
      "Epoch 54/500:   6%|▋         | 118/1863 [00:00<08:13,  3.54batches/s]"
     ]
    },
    {
     "name": "stdout",
     "output_type": "stream",
     "text": [
      "Validation accuracy:  0.878123\n",
      "Training accuracy:  0.913821\n",
      "Test accuracy:  0.795329\n"
     ]
    },
    {
     "name": "stderr",
     "output_type": "stream",
     "text": [
      "Epoch 54/500: 100%|██████████| 1863/1863 [00:04<00:00, 404.21batches/s]\n",
      "Epoch 55/500:   5%|▍         | 88/1863 [00:00<08:53,  3.33batches/s]"
     ]
    },
    {
     "name": "stdout",
     "output_type": "stream",
     "text": [
      "Validation accuracy:  0.879143\n",
      "Training accuracy:  0.914358\n",
      "Test accuracy:  0.795645\n"
     ]
    },
    {
     "name": "stderr",
     "output_type": "stream",
     "text": [
      "Epoch 55/500: 100%|██████████| 1863/1863 [00:04<00:00, 398.01batches/s]\n",
      "Epoch 56/500:   6%|▌         | 111/1863 [00:00<08:38,  3.38batches/s]"
     ]
    },
    {
     "name": "stdout",
     "output_type": "stream",
     "text": [
      "Validation accuracy:  0.880163\n",
      "Training accuracy:  0.915083\n",
      "Test accuracy:  0.795962\n"
     ]
    },
    {
     "name": "stderr",
     "output_type": "stream",
     "text": [
      "Epoch 56/500: 100%|██████████| 1863/1863 [00:04<00:00, 434.21batches/s]\n",
      "Epoch 57/500:   3%|▎         | 63/1863 [00:00<11:02,  2.72batches/s]"
     ]
    },
    {
     "name": "stdout",
     "output_type": "stream",
     "text": [
      "Validation accuracy:  0.882713\n",
      "Training accuracy:  0.915834\n",
      "Test accuracy:  0.796358\n"
     ]
    },
    {
     "name": "stderr",
     "output_type": "stream",
     "text": [
      "Epoch 57/500: 100%|██████████| 1863/1863 [00:03<00:00, 475.39batches/s]\n",
      "Epoch 58/500:   5%|▌         | 97/1863 [00:00<08:22,  3.51batches/s]"
     ]
    },
    {
     "name": "stdout",
     "output_type": "stream",
     "text": [
      "Validation accuracy:  0.882713\n",
      "Training accuracy:  0.916479\n",
      "Test accuracy:  0.796516\n"
     ]
    },
    {
     "name": "stderr",
     "output_type": "stream",
     "text": [
      "Epoch 58/500: 100%|██████████| 1863/1863 [00:03<00:00, 506.30batches/s]\n",
      "Epoch 59/500:   3%|▎         | 62/1863 [00:00<11:20,  2.65batches/s]"
     ]
    },
    {
     "name": "stdout",
     "output_type": "stream",
     "text": [
      "Validation accuracy:  0.882713\n",
      "Training accuracy:  0.917204\n",
      "Test accuracy:  0.796912\n"
     ]
    },
    {
     "name": "stderr",
     "output_type": "stream",
     "text": [
      "Epoch 59/500: 100%|██████████| 1863/1863 [00:03<00:00, 541.94batches/s]\n",
      "Epoch 60/500:   3%|▎         | 63/1863 [00:00<10:22,  2.89batches/s]"
     ]
    },
    {
     "name": "stdout",
     "output_type": "stream",
     "text": [
      "Validation accuracy:  0.882713\n",
      "Training accuracy:  0.918063\n",
      "Test accuracy:  0.797466\n"
     ]
    },
    {
     "name": "stderr",
     "output_type": "stream",
     "text": [
      "Epoch 60/500: 100%|██████████| 1863/1863 [00:03<00:00, 488.20batches/s]\n",
      "Epoch 61/500:   6%|▌         | 104/1863 [00:00<07:20,  3.99batches/s]"
     ]
    },
    {
     "name": "stdout",
     "output_type": "stream",
     "text": [
      "Validation accuracy:  0.883223\n",
      "Training accuracy:  0.918814\n",
      "Test accuracy:  0.797704\n"
     ]
    },
    {
     "name": "stderr",
     "output_type": "stream",
     "text": [
      "Epoch 61/500: 100%|██████████| 1863/1863 [00:04<00:00, 443.68batches/s]\n",
      "Epoch 62/500:   7%|▋         | 124/1863 [00:00<07:29,  3.87batches/s]"
     ]
    },
    {
     "name": "stdout",
     "output_type": "stream",
     "text": [
      "Validation accuracy:  0.883223\n",
      "Training accuracy:  0.919593\n",
      "Test accuracy:  0.7981\n"
     ]
    },
    {
     "name": "stderr",
     "output_type": "stream",
     "text": [
      "Epoch 62/500: 100%|██████████| 1863/1863 [00:03<00:00, 525.65batches/s]\n",
      "Epoch 63/500:   3%|▎         | 57/1863 [00:00<10:26,  2.88batches/s]"
     ]
    },
    {
     "name": "stdout",
     "output_type": "stream",
     "text": [
      "Validation accuracy:  0.883223\n",
      "Training accuracy:  0.920023\n",
      "Test accuracy:  0.798416\n"
     ]
    },
    {
     "name": "stderr",
     "output_type": "stream",
     "text": [
      "Epoch 63/500: 100%|██████████| 1863/1863 [00:03<00:00, 592.46batches/s]\n",
      "Epoch 64/500:   4%|▎         | 69/1863 [00:00<10:20,  2.89batches/s]"
     ]
    },
    {
     "name": "stdout",
     "output_type": "stream",
     "text": [
      "Validation accuracy:  0.882713\n",
      "Training accuracy:  0.920774\n",
      "Test accuracy:  0.798496\n"
     ]
    },
    {
     "name": "stderr",
     "output_type": "stream",
     "text": [
      "Epoch 64/500: 100%|██████████| 1863/1863 [00:03<00:00, 573.50batches/s]\n",
      "Epoch 65/500:   4%|▍         | 78/1863 [00:00<09:38,  3.08batches/s]"
     ]
    },
    {
     "name": "stdout",
     "output_type": "stream",
     "text": [
      "Validation accuracy:  0.883223\n",
      "Training accuracy:  0.921365\n",
      "Test accuracy:  0.798812\n"
     ]
    },
    {
     "name": "stderr",
     "output_type": "stream",
     "text": [
      "Epoch 65/500: 100%|██████████| 1863/1863 [00:02<00:00, 624.29batches/s]\n",
      "Epoch 66/500:   8%|▊         | 140/1863 [00:00<06:43,  4.27batches/s]"
     ]
    },
    {
     "name": "stdout",
     "output_type": "stream",
     "text": [
      "Validation accuracy:  0.883223\n",
      "Training accuracy:  0.921982\n",
      "Test accuracy:  0.79905\n"
     ]
    },
    {
     "name": "stderr",
     "output_type": "stream",
     "text": [
      "Epoch 66/500: 100%|██████████| 1863/1863 [00:03<00:00, 612.88batches/s]\n",
      "Epoch 67/500:   9%|▊         | 162/1863 [00:00<06:18,  4.49batches/s]"
     ]
    },
    {
     "name": "stdout",
     "output_type": "stream",
     "text": [
      "Validation accuracy:  0.883733\n",
      "Training accuracy:  0.922546\n",
      "Test accuracy:  0.79905\n"
     ]
    },
    {
     "name": "stderr",
     "output_type": "stream",
     "text": [
      "Epoch 67/500: 100%|██████████| 1863/1863 [00:03<00:00, 691.17batches/s]\n",
      "Epoch 68/500:   4%|▍         | 75/1863 [00:00<09:21,  3.19batches/s]"
     ]
    },
    {
     "name": "stdout",
     "output_type": "stream",
     "text": [
      "Validation accuracy:  0.884243\n",
      "Training accuracy:  0.923056\n",
      "Test accuracy:  0.799208\n"
     ]
    },
    {
     "name": "stderr",
     "output_type": "stream",
     "text": [
      "Epoch 68/500: 100%|██████████| 1863/1863 [00:02<00:00, 651.87batches/s]\n",
      "Epoch 69/500:   7%|▋         | 138/1863 [00:00<06:25,  4.48batches/s]"
     ]
    },
    {
     "name": "stdout",
     "output_type": "stream",
     "text": [
      "Validation accuracy:  0.885773\n",
      "Training accuracy:  0.923459\n",
      "Test accuracy:  0.799525\n"
     ]
    },
    {
     "name": "stderr",
     "output_type": "stream",
     "text": [
      "Epoch 69/500: 100%|██████████| 1863/1863 [00:03<00:00, 598.81batches/s]\n",
      "Epoch 70/500:   8%|▊         | 154/1863 [00:00<06:25,  4.43batches/s]"
     ]
    },
    {
     "name": "stdout",
     "output_type": "stream",
     "text": [
      "Validation accuracy:  0.886792\n",
      "Training accuracy:  0.924076\n",
      "Test accuracy:  0.800158\n"
     ]
    },
    {
     "name": "stderr",
     "output_type": "stream",
     "text": [
      "Epoch 70/500: 100%|██████████| 1863/1863 [00:02<00:00, 629.79batches/s]\n",
      "Epoch 71/500:   8%|▊         | 141/1863 [00:00<06:46,  4.24batches/s]"
     ]
    },
    {
     "name": "stdout",
     "output_type": "stream",
     "text": [
      "Validation accuracy:  0.886792\n",
      "Training accuracy:  0.924613\n",
      "Test accuracy:  0.800554\n"
     ]
    },
    {
     "name": "stderr",
     "output_type": "stream",
     "text": [
      "Epoch 71/500: 100%|██████████| 1863/1863 [00:02<00:00, 648.94batches/s]\n",
      "Epoch 72/500:   4%|▍         | 77/1863 [00:00<09:31,  3.13batches/s]"
     ]
    },
    {
     "name": "stdout",
     "output_type": "stream",
     "text": [
      "Validation accuracy:  0.887812\n",
      "Training accuracy:  0.925285\n",
      "Test accuracy:  0.800713\n"
     ]
    },
    {
     "name": "stderr",
     "output_type": "stream",
     "text": [
      "Epoch 72/500: 100%|██████████| 1863/1863 [00:03<00:00, 608.14batches/s]\n",
      "Epoch 73/500:   8%|▊         | 154/1863 [00:00<06:08,  4.64batches/s]"
     ]
    },
    {
     "name": "stdout",
     "output_type": "stream",
     "text": [
      "Validation accuracy:  0.888322\n",
      "Training accuracy:  0.925526\n",
      "Test accuracy:  0.801029\n"
     ]
    },
    {
     "name": "stderr",
     "output_type": "stream",
     "text": [
      "Epoch 73/500: 100%|██████████| 1863/1863 [00:03<00:00, 583.58batches/s]\n",
      "Epoch 74/500:   7%|▋         | 123/1863 [00:00<07:17,  3.98batches/s]"
     ]
    },
    {
     "name": "stdout",
     "output_type": "stream",
     "text": [
      "Validation accuracy:  0.888322\n",
      "Training accuracy:  0.926224\n",
      "Test accuracy:  0.801504\n"
     ]
    },
    {
     "name": "stderr",
     "output_type": "stream",
     "text": [
      "Epoch 74/500: 100%|██████████| 1863/1863 [00:03<00:00, 510.61batches/s]\n",
      "Epoch 75/500:   6%|▋         | 117/1863 [00:00<07:51,  3.71batches/s]"
     ]
    },
    {
     "name": "stdout",
     "output_type": "stream",
     "text": [
      "Validation accuracy:  0.888832\n",
      "Training accuracy:  0.926761\n",
      "Test accuracy:  0.801584\n"
     ]
    },
    {
     "name": "stderr",
     "output_type": "stream",
     "text": [
      "Epoch 75/500: 100%|██████████| 1863/1863 [00:03<00:00, 496.57batches/s]\n",
      "Epoch 76/500:   8%|▊         | 144/1863 [00:00<06:56,  4.12batches/s]"
     ]
    },
    {
     "name": "stdout",
     "output_type": "stream",
     "text": [
      "Validation accuracy:  0.889852\n",
      "Training accuracy:  0.926895\n",
      "Test accuracy:  0.801584\n"
     ]
    },
    {
     "name": "stderr",
     "output_type": "stream",
     "text": [
      "Epoch 76/500: 100%|██████████| 1863/1863 [00:03<00:00, 494.18batches/s]\n",
      "Epoch 77/500:   4%|▍         | 71/1863 [00:00<10:15,  2.91batches/s]"
     ]
    },
    {
     "name": "stdout",
     "output_type": "stream",
     "text": [
      "Validation accuracy:  0.889852\n",
      "Training accuracy:  0.927379\n",
      "Test accuracy:  0.801742\n"
     ]
    },
    {
     "name": "stderr",
     "output_type": "stream",
     "text": [
      "Epoch 77/500: 100%|██████████| 1863/1863 [00:03<00:00, 580.24batches/s]\n",
      "Epoch 78/500:   3%|▎         | 57/1863 [00:00<11:33,  2.60batches/s]"
     ]
    },
    {
     "name": "stdout",
     "output_type": "stream",
     "text": [
      "Validation accuracy:  0.890362\n",
      "Training accuracy:  0.927701\n",
      "Test accuracy:  0.802059\n"
     ]
    },
    {
     "name": "stderr",
     "output_type": "stream",
     "text": [
      "Epoch 78/500: 100%|██████████| 1863/1863 [00:03<00:00, 563.87batches/s]\n",
      "Epoch 79/500:   4%|▍         | 72/1863 [00:00<09:45,  3.06batches/s]"
     ]
    },
    {
     "name": "stdout",
     "output_type": "stream",
     "text": [
      "Validation accuracy:  0.890872\n",
      "Training accuracy:  0.928399\n",
      "Test accuracy:  0.802375\n"
     ]
    },
    {
     "name": "stderr",
     "output_type": "stream",
     "text": [
      "Epoch 79/500: 100%|██████████| 1863/1863 [00:03<00:00, 587.87batches/s]\n",
      "Epoch 80/500:   8%|▊         | 151/1863 [00:00<06:41,  4.27batches/s]"
     ]
    },
    {
     "name": "stdout",
     "output_type": "stream",
     "text": [
      "Validation accuracy:  0.890872\n",
      "Training accuracy:  0.928667\n",
      "Test accuracy:  0.80285\n"
     ]
    },
    {
     "name": "stderr",
     "output_type": "stream",
     "text": [
      "Epoch 80/500: 100%|██████████| 1863/1863 [00:03<00:00, 607.70batches/s]\n",
      "Epoch 81/500:   7%|▋         | 132/1863 [00:00<06:51,  4.21batches/s]"
     ]
    },
    {
     "name": "stdout",
     "output_type": "stream",
     "text": [
      "Validation accuracy:  0.891382\n",
      "Training accuracy:  0.929124\n",
      "Test accuracy:  0.803721\n"
     ]
    },
    {
     "name": "stderr",
     "output_type": "stream",
     "text": [
      "Epoch 81/500: 100%|██████████| 1863/1863 [00:03<00:00, 581.41batches/s]\n",
      "Epoch 82/500:   9%|▊         | 160/1863 [00:00<06:09,  4.61batches/s]"
     ]
    },
    {
     "name": "stdout",
     "output_type": "stream",
     "text": [
      "Validation accuracy:  0.891382\n",
      "Training accuracy:  0.929473\n",
      "Test accuracy:  0.80388\n"
     ]
    },
    {
     "name": "stderr",
     "output_type": "stream",
     "text": [
      "Epoch 82/500: 100%|██████████| 1863/1863 [00:03<00:00, 584.05batches/s]\n",
      "Epoch 83/500:   4%|▎         | 66/1863 [00:00<10:54,  2.74batches/s]"
     ]
    },
    {
     "name": "stdout",
     "output_type": "stream",
     "text": [
      "Validation accuracy:  0.891892\n",
      "Training accuracy:  0.929956\n",
      "Test accuracy:  0.804276\n"
     ]
    },
    {
     "name": "stderr",
     "output_type": "stream",
     "text": [
      "Epoch 83/500: 100%|██████████| 1863/1863 [00:03<00:00, 574.29batches/s]\n",
      "Epoch 84/500:   7%|▋         | 125/1863 [00:00<07:18,  3.96batches/s]"
     ]
    },
    {
     "name": "stdout",
     "output_type": "stream",
     "text": [
      "Validation accuracy:  0.893422\n",
      "Training accuracy:  0.930466\n",
      "Test accuracy:  0.804592\n"
     ]
    },
    {
     "name": "stderr",
     "output_type": "stream",
     "text": [
      "Epoch 84/500: 100%|██████████| 1863/1863 [00:03<00:00, 568.08batches/s]\n",
      "Epoch 85/500:   4%|▍         | 74/1863 [00:00<09:50,  3.03batches/s]"
     ]
    },
    {
     "name": "stdout",
     "output_type": "stream",
     "text": [
      "Validation accuracy:  0.893422\n",
      "Training accuracy:  0.930976\n",
      "Test accuracy:  0.804671\n"
     ]
    },
    {
     "name": "stderr",
     "output_type": "stream",
     "text": [
      "Epoch 85/500: 100%|██████████| 1863/1863 [00:03<00:00, 561.57batches/s]\n",
      "Epoch 86/500:   4%|▎         | 67/1863 [00:00<10:22,  2.88batches/s]"
     ]
    },
    {
     "name": "stdout",
     "output_type": "stream",
     "text": [
      "Validation accuracy:  0.893422\n",
      "Training accuracy:  0.931486\n",
      "Test accuracy:  0.804751\n"
     ]
    },
    {
     "name": "stderr",
     "output_type": "stream",
     "text": [
      "Epoch 86/500: 100%|██████████| 1863/1863 [00:03<00:00, 604.59batches/s]\n",
      "Epoch 87/500:   7%|▋         | 138/1863 [00:00<06:55,  4.15batches/s]"
     ]
    },
    {
     "name": "stdout",
     "output_type": "stream",
     "text": [
      "Validation accuracy:  0.893932\n",
      "Training accuracy:  0.931916\n",
      "Test accuracy:  0.80483\n"
     ]
    },
    {
     "name": "stderr",
     "output_type": "stream",
     "text": [
      "Epoch 87/500: 100%|██████████| 1863/1863 [00:03<00:00, 582.79batches/s]\n",
      "Epoch 88/500:   4%|▎         | 67/1863 [00:00<09:32,  3.14batches/s]"
     ]
    },
    {
     "name": "stdout",
     "output_type": "stream",
     "text": [
      "Validation accuracy:  0.893932\n",
      "Training accuracy:  0.932184\n",
      "Test accuracy:  0.804988\n"
     ]
    },
    {
     "name": "stderr",
     "output_type": "stream",
     "text": [
      "Epoch 88/500: 100%|██████████| 1863/1863 [00:03<00:00, 612.18batches/s]\n",
      "Epoch 89/500:   7%|▋         | 138/1863 [00:00<06:43,  4.27batches/s]"
     ]
    },
    {
     "name": "stdout",
     "output_type": "stream",
     "text": [
      "Validation accuracy:  0.893932\n",
      "Training accuracy:  0.932533\n",
      "Test accuracy:  0.805463\n"
     ]
    },
    {
     "name": "stderr",
     "output_type": "stream",
     "text": [
      "Epoch 89/500: 100%|██████████| 1863/1863 [00:03<00:00, 601.93batches/s]\n",
      "Epoch 90/500:   7%|▋         | 132/1863 [00:00<07:02,  4.09batches/s]"
     ]
    },
    {
     "name": "stdout",
     "output_type": "stream",
     "text": [
      "Validation accuracy:  0.893422\n",
      "Training accuracy:  0.932936\n",
      "Test accuracy:  0.806017\n"
     ]
    },
    {
     "name": "stderr",
     "output_type": "stream",
     "text": [
      "Epoch 90/500: 100%|██████████| 1863/1863 [00:03<00:00, 567.39batches/s]\n",
      "Epoch 91/500:   7%|▋         | 138/1863 [00:00<06:37,  4.34batches/s]"
     ]
    },
    {
     "name": "stdout",
     "output_type": "stream",
     "text": [
      "Validation accuracy:  0.893422\n",
      "Training accuracy:  0.933312\n",
      "Test accuracy:  0.806017\n"
     ]
    },
    {
     "name": "stderr",
     "output_type": "stream",
     "text": [
      "Epoch 91/500: 100%|██████████| 1863/1863 [00:03<00:00, 562.29batches/s]\n",
      "Epoch 92/500:   7%|▋         | 136/1863 [00:00<06:59,  4.12batches/s]"
     ]
    },
    {
     "name": "stdout",
     "output_type": "stream",
     "text": [
      "Validation accuracy:  0.893422\n",
      "Training accuracy:  0.933634\n",
      "Test accuracy:  0.806097\n"
     ]
    },
    {
     "name": "stderr",
     "output_type": "stream",
     "text": [
      "Epoch 92/500: 100%|██████████| 1863/1863 [00:02<00:00, 625.12batches/s]\n",
      "Epoch 93/500:   8%|▊         | 143/1863 [00:00<06:26,  4.45batches/s]"
     ]
    },
    {
     "name": "stdout",
     "output_type": "stream",
     "text": [
      "Validation accuracy:  0.894442\n",
      "Training accuracy:  0.93409\n",
      "Test accuracy:  0.806413\n"
     ]
    },
    {
     "name": "stderr",
     "output_type": "stream",
     "text": [
      "Epoch 93/500: 100%|██████████| 1863/1863 [00:03<00:00, 606.72batches/s]\n",
      "Epoch 94/500:   8%|▊         | 157/1863 [00:00<06:08,  4.63batches/s]"
     ]
    },
    {
     "name": "stdout",
     "output_type": "stream",
     "text": [
      "Validation accuracy:  0.894442\n",
      "Training accuracy:  0.934466\n",
      "Test accuracy:  0.807205\n"
     ]
    },
    {
     "name": "stderr",
     "output_type": "stream",
     "text": [
      "Epoch 94/500: 100%|██████████| 1863/1863 [00:02<00:00, 669.38batches/s]\n",
      "Epoch 95/500:   8%|▊         | 147/1863 [00:00<06:12,  4.60batches/s]"
     ]
    },
    {
     "name": "stdout",
     "output_type": "stream",
     "text": [
      "Validation accuracy:  0.894442\n",
      "Training accuracy:  0.934735\n",
      "Test accuracy:  0.807522\n"
     ]
    },
    {
     "name": "stderr",
     "output_type": "stream",
     "text": [
      "Epoch 95/500: 100%|██████████| 1863/1863 [00:02<00:00, 670.13batches/s]\n",
      "Epoch 96/500:   5%|▍         | 84/1863 [00:00<08:50,  3.35batches/s]"
     ]
    },
    {
     "name": "stdout",
     "output_type": "stream",
     "text": [
      "Validation accuracy:  0.894952\n",
      "Training accuracy:  0.93503\n",
      "Test accuracy:  0.807838\n"
     ]
    },
    {
     "name": "stderr",
     "output_type": "stream",
     "text": [
      "Epoch 96/500: 100%|██████████| 1863/1863 [00:02<00:00, 636.64batches/s]\n",
      "Epoch 97/500:   4%|▍         | 73/1863 [00:00<09:17,  3.21batches/s]"
     ]
    },
    {
     "name": "stdout",
     "output_type": "stream",
     "text": [
      "Validation accuracy:  0.894952\n",
      "Training accuracy:  0.935218\n",
      "Test accuracy:  0.80768\n"
     ]
    },
    {
     "name": "stderr",
     "output_type": "stream",
     "text": [
      "Epoch 97/500: 100%|██████████| 1863/1863 [00:02<00:00, 672.42batches/s]\n",
      "Epoch 98/500:   4%|▍         | 73/1863 [00:00<09:33,  3.12batches/s]"
     ]
    },
    {
     "name": "stdout",
     "output_type": "stream",
     "text": [
      "Validation accuracy:  0.895461\n",
      "Training accuracy:  0.935486\n",
      "Test accuracy:  0.807838\n"
     ]
    },
    {
     "name": "stderr",
     "output_type": "stream",
     "text": [
      "Epoch 98/500: 100%|██████████| 1863/1863 [00:03<00:00, 582.11batches/s]\n",
      "Epoch 99/500:   8%|▊         | 143/1863 [00:00<06:57,  4.12batches/s]"
     ]
    },
    {
     "name": "stdout",
     "output_type": "stream",
     "text": [
      "Validation accuracy:  0.895971\n",
      "Training accuracy:  0.935594\n",
      "Test accuracy:  0.807997\n"
     ]
    },
    {
     "name": "stderr",
     "output_type": "stream",
     "text": [
      "Epoch 99/500: 100%|██████████| 1863/1863 [00:03<00:00, 567.79batches/s]\n",
      "Epoch 100/500:   7%|▋         | 129/1863 [00:00<07:03,  4.10batches/s]"
     ]
    },
    {
     "name": "stdout",
     "output_type": "stream",
     "text": [
      "Validation accuracy:  0.895971\n",
      "Training accuracy:  0.935728\n",
      "Test accuracy:  0.807997\n"
     ]
    },
    {
     "name": "stderr",
     "output_type": "stream",
     "text": [
      "Epoch 100/500: 100%|██████████| 1863/1863 [00:03<00:00, 589.88batches/s]\n",
      "Epoch 101/500:   7%|▋         | 132/1863 [00:00<07:59,  3.61batches/s]"
     ]
    },
    {
     "name": "stdout",
     "output_type": "stream",
     "text": [
      "Validation accuracy:  0.895971\n",
      "Training accuracy:  0.935943\n",
      "Test accuracy:  0.808234\n"
     ]
    },
    {
     "name": "stderr",
     "output_type": "stream",
     "text": [
      "Epoch 101/500: 100%|██████████| 1863/1863 [00:03<00:00, 528.79batches/s]\n",
      "Epoch 102/500:   7%|▋         | 126/1863 [00:00<07:06,  4.07batches/s]"
     ]
    },
    {
     "name": "stdout",
     "output_type": "stream",
     "text": [
      "Validation accuracy:  0.895971\n",
      "Training accuracy:  0.936158\n",
      "Test accuracy:  0.808314\n"
     ]
    },
    {
     "name": "stderr",
     "output_type": "stream",
     "text": [
      "Epoch 102/500: 100%|██████████| 1863/1863 [00:03<00:00, 512.07batches/s]\n",
      "Epoch 103/500:   3%|▎         | 56/1863 [00:00<11:24,  2.64batches/s]"
     ]
    },
    {
     "name": "stdout",
     "output_type": "stream",
     "text": [
      "Validation accuracy:  0.896481\n",
      "Training accuracy:  0.936399\n",
      "Test accuracy:  0.808709\n"
     ]
    },
    {
     "name": "stderr",
     "output_type": "stream",
     "text": [
      "Epoch 103/500: 100%|██████████| 1863/1863 [00:03<00:00, 498.94batches/s]\n",
      "Epoch 104/500:   6%|▋         | 117/1863 [00:00<07:32,  3.85batches/s]"
     ]
    },
    {
     "name": "stdout",
     "output_type": "stream",
     "text": [
      "Validation accuracy:  0.896481\n",
      "Training accuracy:  0.936668\n",
      "Test accuracy:  0.80863\n"
     ]
    },
    {
     "name": "stderr",
     "output_type": "stream",
     "text": [
      "Epoch 104/500: 100%|██████████| 1863/1863 [00:03<00:00, 572.53batches/s]\n",
      "Epoch 105/500:   7%|▋         | 131/1863 [00:00<06:27,  4.47batches/s]"
     ]
    },
    {
     "name": "stdout",
     "output_type": "stream",
     "text": [
      "Validation accuracy:  0.896991\n",
      "Training accuracy:  0.93699\n",
      "Test accuracy:  0.808868\n"
     ]
    },
    {
     "name": "stderr",
     "output_type": "stream",
     "text": [
      "Epoch 105/500: 100%|██████████| 1863/1863 [00:03<00:00, 576.64batches/s]\n",
      "Epoch 106/500:   7%|▋         | 134/1863 [00:00<06:53,  4.18batches/s]"
     ]
    },
    {
     "name": "stdout",
     "output_type": "stream",
     "text": [
      "Validation accuracy:  0.896991\n",
      "Training accuracy:  0.937419\n",
      "Test accuracy:  0.808709\n"
     ]
    },
    {
     "name": "stderr",
     "output_type": "stream",
     "text": [
      "Epoch 106/500: 100%|██████████| 1863/1863 [00:02<00:00, 630.04batches/s]\n",
      "Epoch 107/500:   7%|▋         | 135/1863 [00:00<06:26,  4.48batches/s]"
     ]
    },
    {
     "name": "stdout",
     "output_type": "stream",
     "text": [
      "Validation accuracy:  0.896991\n",
      "Training accuracy:  0.937795\n",
      "Test accuracy:  0.809184\n"
     ]
    },
    {
     "name": "stderr",
     "output_type": "stream",
     "text": [
      "Epoch 107/500: 100%|██████████| 1863/1863 [00:03<00:00, 592.64batches/s]\n",
      "Epoch 108/500:   8%|▊         | 156/1863 [00:00<06:16,  4.53batches/s]"
     ]
    },
    {
     "name": "stdout",
     "output_type": "stream",
     "text": [
      "Validation accuracy:  0.897501\n",
      "Training accuracy:  0.937956\n",
      "Test accuracy:  0.809422\n"
     ]
    },
    {
     "name": "stderr",
     "output_type": "stream",
     "text": [
      "Epoch 108/500: 100%|██████████| 1863/1863 [00:03<00:00, 593.49batches/s]\n",
      "Epoch 109/500:   8%|▊         | 140/1863 [00:00<06:41,  4.29batches/s]"
     ]
    },
    {
     "name": "stdout",
     "output_type": "stream",
     "text": [
      "Validation accuracy:  0.898011\n",
      "Training accuracy:  0.938466\n",
      "Test accuracy:  0.809184\n"
     ]
    },
    {
     "name": "stderr",
     "output_type": "stream",
     "text": [
      "Epoch 109/500: 100%|██████████| 1863/1863 [00:02<00:00, 635.97batches/s]\n",
      "Epoch 110/500:   3%|▎         | 65/1863 [00:00<09:31,  3.14batches/s]"
     ]
    },
    {
     "name": "stdout",
     "output_type": "stream",
     "text": [
      "Validation accuracy:  0.898521\n",
      "Training accuracy:  0.938628\n",
      "Test accuracy:  0.809264\n"
     ]
    },
    {
     "name": "stderr",
     "output_type": "stream",
     "text": [
      "Epoch 110/500: 100%|██████████| 1863/1863 [00:03<00:00, 557.10batches/s]\n",
      "Epoch 111/500:   8%|▊         | 141/1863 [00:00<06:34,  4.36batches/s]"
     ]
    },
    {
     "name": "stdout",
     "output_type": "stream",
     "text": [
      "Validation accuracy:  0.898521\n",
      "Training accuracy:  0.938869\n",
      "Test accuracy:  0.809264\n"
     ]
    },
    {
     "name": "stderr",
     "output_type": "stream",
     "text": [
      "Epoch 111/500: 100%|██████████| 1863/1863 [00:03<00:00, 590.45batches/s]\n",
      "Epoch 112/500:   8%|▊         | 142/1863 [00:00<06:29,  4.42batches/s]"
     ]
    },
    {
     "name": "stdout",
     "output_type": "stream",
     "text": [
      "Validation accuracy:  0.898521\n",
      "Training accuracy:  0.939218\n",
      "Test accuracy:  0.809184\n"
     ]
    },
    {
     "name": "stderr",
     "output_type": "stream",
     "text": [
      "Epoch 112/500: 100%|██████████| 1863/1863 [00:03<00:00, 581.82batches/s]\n",
      "Epoch 113/500:   7%|▋         | 126/1863 [00:00<06:58,  4.15batches/s]"
     ]
    },
    {
     "name": "stdout",
     "output_type": "stream",
     "text": [
      "Validation accuracy:  0.898521\n",
      "Training accuracy:  0.939326\n",
      "Test accuracy:  0.809264\n"
     ]
    },
    {
     "name": "stderr",
     "output_type": "stream",
     "text": [
      "Epoch 113/500: 100%|██████████| 1863/1863 [00:03<00:00, 559.26batches/s]\n",
      "Epoch 114/500:   8%|▊         | 146/1863 [00:00<07:00,  4.09batches/s]"
     ]
    },
    {
     "name": "stdout",
     "output_type": "stream",
     "text": [
      "Validation accuracy:  0.899031\n",
      "Training accuracy:  0.939594\n",
      "Test accuracy:  0.809184\n"
     ]
    },
    {
     "name": "stderr",
     "output_type": "stream",
     "text": [
      "Epoch 114/500: 100%|██████████| 1863/1863 [00:03<00:00, 543.91batches/s]\n",
      "Epoch 115/500:   7%|▋         | 137/1863 [00:00<06:46,  4.25batches/s]"
     ]
    },
    {
     "name": "stdout",
     "output_type": "stream",
     "text": [
      "Validation accuracy:  0.899541\n",
      "Training accuracy:  0.939836\n",
      "Test accuracy:  0.809105\n"
     ]
    },
    {
     "name": "stderr",
     "output_type": "stream",
     "text": [
      "Epoch 115/500: 100%|██████████| 1863/1863 [00:03<00:00, 580.74batches/s]\n",
      "Epoch 116/500:   4%|▎         | 69/1863 [00:00<10:22,  2.88batches/s]"
     ]
    },
    {
     "name": "stdout",
     "output_type": "stream",
     "text": [
      "Validation accuracy:  0.898521\n",
      "Training accuracy:  0.94005\n",
      "Test accuracy:  0.809422\n"
     ]
    },
    {
     "name": "stderr",
     "output_type": "stream",
     "text": [
      "Epoch 116/500: 100%|██████████| 1863/1863 [00:03<00:00, 561.43batches/s]\n",
      "Epoch 117/500:   9%|▊         | 162/1863 [00:00<06:07,  4.62batches/s]"
     ]
    },
    {
     "name": "stdout",
     "output_type": "stream",
     "text": [
      "Validation accuracy:  0.898521\n",
      "Training accuracy:  0.940212\n",
      "Test accuracy:  0.809501\n"
     ]
    },
    {
     "name": "stderr",
     "output_type": "stream",
     "text": [
      "Epoch 117/500: 100%|██████████| 1863/1863 [00:03<00:00, 603.66batches/s]\n",
      "Epoch 118/500:   4%|▍         | 77/1863 [00:00<09:46,  3.05batches/s]"
     ]
    },
    {
     "name": "stdout",
     "output_type": "stream",
     "text": [
      "Validation accuracy:  0.899031\n",
      "Training accuracy:  0.94048\n",
      "Test accuracy:  0.809501\n"
     ]
    },
    {
     "name": "stderr",
     "output_type": "stream",
     "text": [
      "Epoch 118/500: 100%|██████████| 1863/1863 [00:02<00:00, 635.47batches/s]\n",
      "Epoch 119/500:   8%|▊         | 144/1863 [00:00<06:07,  4.67batches/s]"
     ]
    },
    {
     "name": "stdout",
     "output_type": "stream",
     "text": [
      "Validation accuracy:  0.899541\n",
      "Training accuracy:  0.940668\n",
      "Test accuracy:  0.809343\n"
     ]
    },
    {
     "name": "stderr",
     "output_type": "stream",
     "text": [
      "Epoch 119/500: 100%|██████████| 1863/1863 [00:03<00:00, 608.69batches/s]\n",
      "Epoch 120/500:   8%|▊         | 154/1863 [00:00<06:19,  4.50batches/s]"
     ]
    },
    {
     "name": "stdout",
     "output_type": "stream",
     "text": [
      "Validation accuracy:  0.899541\n",
      "Training accuracy:  0.94099\n",
      "Test accuracy:  0.809264\n"
     ]
    },
    {
     "name": "stderr",
     "output_type": "stream",
     "text": [
      "Epoch 120/500: 100%|██████████| 1863/1863 [00:02<00:00, 635.38batches/s]\n",
      "Epoch 121/500:   8%|▊         | 143/1863 [00:00<06:35,  4.35batches/s]"
     ]
    },
    {
     "name": "stdout",
     "output_type": "stream",
     "text": [
      "Validation accuracy:  0.899541\n",
      "Training accuracy:  0.941285\n",
      "Test accuracy:  0.809105\n"
     ]
    },
    {
     "name": "stderr",
     "output_type": "stream",
     "text": [
      "Epoch 121/500: 100%|██████████| 1863/1863 [00:03<00:00, 583.98batches/s]\n",
      "Epoch 122/500:   3%|▎         | 63/1863 [00:00<10:26,  2.87batches/s]"
     ]
    },
    {
     "name": "stdout",
     "output_type": "stream",
     "text": [
      "Validation accuracy:  0.900051\n",
      "Training accuracy:  0.941447\n",
      "Test accuracy:  0.809184\n"
     ]
    },
    {
     "name": "stderr",
     "output_type": "stream",
     "text": [
      "Epoch 122/500: 100%|██████████| 1863/1863 [00:03<00:00, 569.03batches/s]\n",
      "Epoch 123/500:   7%|▋         | 125/1863 [00:00<07:08,  4.05batches/s]"
     ]
    },
    {
     "name": "stdout",
     "output_type": "stream",
     "text": [
      "Validation accuracy:  0.901581\n",
      "Training accuracy:  0.941608\n",
      "Test accuracy:  0.809026\n"
     ]
    },
    {
     "name": "stderr",
     "output_type": "stream",
     "text": [
      "Epoch 123/500: 100%|██████████| 1863/1863 [00:03<00:00, 545.18batches/s]\n",
      "Epoch 124/500:   7%|▋         | 131/1863 [00:00<07:18,  3.95batches/s]"
     ]
    },
    {
     "name": "stdout",
     "output_type": "stream",
     "text": [
      "Validation accuracy:  0.902091\n",
      "Training accuracy:  0.941769\n",
      "Test accuracy:  0.809184\n"
     ]
    },
    {
     "name": "stderr",
     "output_type": "stream",
     "text": [
      "Epoch 124/500: 100%|██████████| 1863/1863 [00:03<00:00, 563.15batches/s]\n",
      "Epoch 125/500:   7%|▋         | 123/1863 [00:00<07:09,  4.05batches/s]"
     ]
    },
    {
     "name": "stdout",
     "output_type": "stream",
     "text": [
      "Validation accuracy:  0.902091\n",
      "Training accuracy:  0.941876\n",
      "Test accuracy:  0.809264\n"
     ]
    },
    {
     "name": "stderr",
     "output_type": "stream",
     "text": [
      "Epoch 125/500: 100%|██████████| 1863/1863 [00:03<00:00, 523.51batches/s]\n",
      "Epoch 126/500:   7%|▋         | 126/1863 [00:00<06:44,  4.29batches/s]"
     ]
    },
    {
     "name": "stdout",
     "output_type": "stream",
     "text": [
      "Validation accuracy:  0.902091\n",
      "Training accuracy:  0.942145\n",
      "Test accuracy:  0.808868\n"
     ]
    },
    {
     "name": "stderr",
     "output_type": "stream",
     "text": [
      "Epoch 126/500: 100%|██████████| 1863/1863 [00:03<00:00, 553.62batches/s]\n",
      "Epoch 127/500:   8%|▊         | 141/1863 [00:00<06:50,  4.20batches/s]"
     ]
    },
    {
     "name": "stdout",
     "output_type": "stream",
     "text": [
      "Validation accuracy:  0.902091\n",
      "Training accuracy:  0.942386\n",
      "Test accuracy:  0.808947\n"
     ]
    },
    {
     "name": "stderr",
     "output_type": "stream",
     "text": [
      "Epoch 127/500: 100%|██████████| 1863/1863 [00:03<00:00, 611.75batches/s]\n",
      "Epoch 128/500:   7%|▋         | 123/1863 [00:00<06:50,  4.24batches/s]"
     ]
    },
    {
     "name": "stdout",
     "output_type": "stream",
     "text": [
      "Validation accuracy:  0.902091\n",
      "Training accuracy:  0.942574\n",
      "Test accuracy:  0.808868\n"
     ]
    },
    {
     "name": "stderr",
     "output_type": "stream",
     "text": [
      "Epoch 128/500: 100%|██████████| 1863/1863 [00:03<00:00, 509.38batches/s]\n",
      "Epoch 129/500:   5%|▌         | 99/1863 [00:00<08:08,  3.61batches/s]"
     ]
    },
    {
     "name": "stdout",
     "output_type": "stream",
     "text": [
      "Validation accuracy:  0.902091\n",
      "Training accuracy:  0.942762\n",
      "Test accuracy:  0.809026\n"
     ]
    },
    {
     "name": "stderr",
     "output_type": "stream",
     "text": [
      "Epoch 129/500: 100%|██████████| 1863/1863 [00:04<00:00, 423.21batches/s]\n",
      "Epoch 130/500:   6%|▌         | 111/1863 [00:00<08:20,  3.50batches/s]"
     ]
    },
    {
     "name": "stdout",
     "output_type": "stream",
     "text": [
      "Validation accuracy:  0.902091\n",
      "Training accuracy:  0.943004\n",
      "Test accuracy:  0.809105\n"
     ]
    },
    {
     "name": "stderr",
     "output_type": "stream",
     "text": [
      "Epoch 130/500: 100%|██████████| 1863/1863 [00:03<00:00, 496.81batches/s]\n",
      "Epoch 131/500:   8%|▊         | 148/1863 [00:00<06:38,  4.30batches/s]"
     ]
    },
    {
     "name": "stdout",
     "output_type": "stream",
     "text": [
      "Validation accuracy:  0.902091\n",
      "Training accuracy:  0.943138\n",
      "Test accuracy:  0.809026\n"
     ]
    },
    {
     "name": "stderr",
     "output_type": "stream",
     "text": [
      "Epoch 131/500: 100%|██████████| 1863/1863 [00:03<00:00, 580.25batches/s]\n",
      "Epoch 132/500:   7%|▋         | 123/1863 [00:00<07:35,  3.82batches/s]"
     ]
    },
    {
     "name": "stdout",
     "output_type": "stream",
     "text": [
      "Validation accuracy:  0.902091\n",
      "Training accuracy:  0.943353\n",
      "Test accuracy:  0.809343\n"
     ]
    },
    {
     "name": "stderr",
     "output_type": "stream",
     "text": [
      "Epoch 132/500: 100%|██████████| 1863/1863 [00:03<00:00, 566.18batches/s]\n",
      "Epoch 133/500:   8%|▊         | 149/1863 [00:00<06:32,  4.37batches/s]"
     ]
    },
    {
     "name": "stdout",
     "output_type": "stream",
     "text": [
      "Validation accuracy:  0.902091\n",
      "Training accuracy:  0.943621\n",
      "Test accuracy:  0.809818\n"
     ]
    },
    {
     "name": "stderr",
     "output_type": "stream",
     "text": [
      "Epoch 133/500: 100%|██████████| 1863/1863 [00:03<00:00, 593.86batches/s]\n",
      "Epoch 134/500:   4%|▍         | 79/1863 [00:00<09:13,  3.22batches/s]"
     ]
    },
    {
     "name": "stdout",
     "output_type": "stream",
     "text": [
      "Validation accuracy:  0.903111\n",
      "Training accuracy:  0.943836\n",
      "Test accuracy:  0.809976\n"
     ]
    },
    {
     "name": "stderr",
     "output_type": "stream",
     "text": [
      "Epoch 134/500: 100%|██████████| 1863/1863 [00:02<00:00, 657.92batches/s]\n",
      "Epoch 135/500:   7%|▋         | 137/1863 [00:00<06:18,  4.56batches/s]"
     ]
    },
    {
     "name": "stdout",
     "output_type": "stream",
     "text": [
      "Validation accuracy:  0.903111\n",
      "Training accuracy:  0.944104\n",
      "Test accuracy:  0.810055\n"
     ]
    },
    {
     "name": "stderr",
     "output_type": "stream",
     "text": [
      "Epoch 135/500: 100%|██████████| 1863/1863 [00:02<00:00, 631.04batches/s]\n",
      "Epoch 136/500:   9%|▊         | 160/1863 [00:00<06:18,  4.50batches/s]"
     ]
    },
    {
     "name": "stdout",
     "output_type": "stream",
     "text": [
      "Validation accuracy:  0.904131\n",
      "Training accuracy:  0.944292\n",
      "Test accuracy:  0.810135\n"
     ]
    },
    {
     "name": "stderr",
     "output_type": "stream",
     "text": [
      "Epoch 136/500: 100%|██████████| 1863/1863 [00:02<00:00, 640.10batches/s]\n",
      "Epoch 137/500:   8%|▊         | 150/1863 [00:00<06:27,  4.42batches/s]"
     ]
    },
    {
     "name": "stdout",
     "output_type": "stream",
     "text": [
      "Validation accuracy:  0.90464\n",
      "Training accuracy:  0.944373\n",
      "Test accuracy:  0.810055\n"
     ]
    },
    {
     "name": "stderr",
     "output_type": "stream",
     "text": [
      "Epoch 137/500: 100%|██████████| 1863/1863 [00:02<00:00, 658.26batches/s]\n",
      "Epoch 138/500:   8%|▊         | 145/1863 [00:00<06:14,  4.58batches/s]"
     ]
    },
    {
     "name": "stdout",
     "output_type": "stream",
     "text": [
      "Validation accuracy:  0.90464\n",
      "Training accuracy:  0.944641\n",
      "Test accuracy:  0.810135\n"
     ]
    },
    {
     "name": "stderr",
     "output_type": "stream",
     "text": [
      "Epoch 138/500: 100%|██████████| 1863/1863 [00:03<00:00, 612.36batches/s]\n",
      "Epoch 139/500:   9%|▊         | 161/1863 [00:00<06:17,  4.51batches/s]"
     ]
    },
    {
     "name": "stdout",
     "output_type": "stream",
     "text": [
      "Validation accuracy:  0.904131\n",
      "Training accuracy:  0.944802\n",
      "Test accuracy:  0.810293\n"
     ]
    },
    {
     "name": "stderr",
     "output_type": "stream",
     "text": [
      "Epoch 139/500: 100%|██████████| 1863/1863 [00:02<00:00, 664.68batches/s]\n",
      "Epoch 140/500:   8%|▊         | 142/1863 [00:00<06:20,  4.52batches/s]"
     ]
    },
    {
     "name": "stdout",
     "output_type": "stream",
     "text": [
      "Validation accuracy:  0.90464\n",
      "Training accuracy:  0.945071\n",
      "Test accuracy:  0.810372\n"
     ]
    },
    {
     "name": "stderr",
     "output_type": "stream",
     "text": [
      "Epoch 140/500: 100%|██████████| 1863/1863 [00:02<00:00, 630.74batches/s]\n",
      "Epoch 141/500:   4%|▍         | 82/1863 [00:00<09:46,  3.04batches/s]"
     ]
    },
    {
     "name": "stdout",
     "output_type": "stream",
     "text": [
      "Validation accuracy:  0.90464\n",
      "Training accuracy:  0.945205\n",
      "Test accuracy:  0.810214\n"
     ]
    },
    {
     "name": "stderr",
     "output_type": "stream",
     "text": [
      "Epoch 141/500: 100%|██████████| 1863/1863 [00:02<00:00, 648.23batches/s]\n",
      "Epoch 142/500:   8%|▊         | 157/1863 [00:00<06:24,  4.44batches/s]"
     ]
    },
    {
     "name": "stdout",
     "output_type": "stream",
     "text": [
      "Validation accuracy:  0.90566\n",
      "Training accuracy:  0.945312\n",
      "Test accuracy:  0.810214\n"
     ]
    },
    {
     "name": "stderr",
     "output_type": "stream",
     "text": [
      "Epoch 142/500: 100%|██████████| 1863/1863 [00:02<00:00, 670.55batches/s]\n",
      "Epoch 143/500:   5%|▍         | 88/1863 [00:00<08:53,  3.33batches/s]"
     ]
    },
    {
     "name": "stdout",
     "output_type": "stream",
     "text": [
      "Validation accuracy:  0.90566\n",
      "Training accuracy:  0.945554\n",
      "Test accuracy:  0.810135\n"
     ]
    },
    {
     "name": "stderr",
     "output_type": "stream",
     "text": [
      "Epoch 143/500: 100%|██████████| 1863/1863 [00:02<00:00, 655.10batches/s]\n",
      "Epoch 144/500:   9%|▉         | 170/1863 [00:00<05:53,  4.79batches/s]"
     ]
    },
    {
     "name": "stdout",
     "output_type": "stream",
     "text": [
      "Validation accuracy:  0.90566\n",
      "Training accuracy:  0.945823\n",
      "Test accuracy:  0.809976\n"
     ]
    },
    {
     "name": "stderr",
     "output_type": "stream",
     "text": [
      "Epoch 144/500: 100%|██████████| 1863/1863 [00:02<00:00, 701.24batches/s]\n",
      "Epoch 145/500:   9%|▊         | 160/1863 [00:00<06:05,  4.66batches/s]"
     ]
    },
    {
     "name": "stdout",
     "output_type": "stream",
     "text": [
      "Validation accuracy:  0.90668\n",
      "Training accuracy:  0.946011\n",
      "Test accuracy:  0.810055\n"
     ]
    },
    {
     "name": "stderr",
     "output_type": "stream",
     "text": [
      "Epoch 145/500: 100%|██████████| 1863/1863 [00:02<00:00, 636.45batches/s]\n",
      "Epoch 146/500:   9%|▊         | 162/1863 [00:00<06:02,  4.69batches/s]"
     ]
    },
    {
     "name": "stdout",
     "output_type": "stream",
     "text": [
      "Validation accuracy:  0.90719\n",
      "Training accuracy:  0.946037\n",
      "Test accuracy:  0.810135\n"
     ]
    },
    {
     "name": "stderr",
     "output_type": "stream",
     "text": [
      "Epoch 146/500: 100%|██████████| 1863/1863 [00:02<00:00, 648.33batches/s]\n",
      "Epoch 147/500:   7%|▋         | 138/1863 [00:00<06:28,  4.44batches/s]"
     ]
    },
    {
     "name": "stdout",
     "output_type": "stream",
     "text": [
      "Validation accuracy:  0.90719\n",
      "Training accuracy:  0.946145\n",
      "Test accuracy:  0.810135\n"
     ]
    },
    {
     "name": "stderr",
     "output_type": "stream",
     "text": [
      "Epoch 147/500: 100%|██████████| 1863/1863 [00:02<00:00, 650.25batches/s]\n",
      "Epoch 148/500:   5%|▍         | 84/1863 [00:00<09:16,  3.19batches/s]"
     ]
    },
    {
     "name": "stdout",
     "output_type": "stream",
     "text": [
      "Validation accuracy:  0.9077\n",
      "Training accuracy:  0.946413\n",
      "Test accuracy:  0.810372\n"
     ]
    },
    {
     "name": "stderr",
     "output_type": "stream",
     "text": [
      "Epoch 148/500: 100%|██████████| 1863/1863 [00:02<00:00, 622.33batches/s]\n",
      "Epoch 149/500:   4%|▍         | 79/1863 [00:00<09:14,  3.22batches/s]"
     ]
    },
    {
     "name": "stdout",
     "output_type": "stream",
     "text": [
      "Validation accuracy:  0.9077\n",
      "Training accuracy:  0.946601\n",
      "Test accuracy:  0.81053\n"
     ]
    },
    {
     "name": "stderr",
     "output_type": "stream",
     "text": [
      "Epoch 149/500: 100%|██████████| 1863/1863 [00:02<00:00, 680.62batches/s]\n",
      "Epoch 150/500:   9%|▊         | 159/1863 [00:00<06:38,  4.27batches/s]"
     ]
    },
    {
     "name": "stdout",
     "output_type": "stream",
     "text": [
      "Validation accuracy:  0.9077\n",
      "Training accuracy:  0.946789\n",
      "Test accuracy:  0.810768\n"
     ]
    },
    {
     "name": "stderr",
     "output_type": "stream",
     "text": [
      "Epoch 150/500: 100%|██████████| 1863/1863 [00:02<00:00, 629.78batches/s]\n",
      "Epoch 151/500:   9%|▊         | 163/1863 [00:00<06:05,  4.65batches/s]"
     ]
    },
    {
     "name": "stdout",
     "output_type": "stream",
     "text": [
      "Validation accuracy:  0.90821\n",
      "Training accuracy:  0.94687\n",
      "Test accuracy:  0.810847\n"
     ]
    },
    {
     "name": "stderr",
     "output_type": "stream",
     "text": [
      "Epoch 151/500: 100%|██████████| 1863/1863 [00:02<00:00, 668.11batches/s]\n",
      "Epoch 152/500:   7%|▋         | 127/1863 [00:00<07:00,  4.13batches/s]"
     ]
    },
    {
     "name": "stdout",
     "output_type": "stream",
     "text": [
      "Validation accuracy:  0.90872\n",
      "Training accuracy:  0.946977\n",
      "Test accuracy:  0.810689\n"
     ]
    },
    {
     "name": "stderr",
     "output_type": "stream",
     "text": [
      "Epoch 152/500: 100%|██████████| 1863/1863 [00:03<00:00, 563.76batches/s]\n",
      "Epoch 153/500:   4%|▍         | 73/1863 [00:00<10:02,  2.97batches/s]"
     ]
    },
    {
     "name": "stdout",
     "output_type": "stream",
     "text": [
      "Validation accuracy:  0.90872\n",
      "Training accuracy:  0.946977\n",
      "Test accuracy:  0.810847\n"
     ]
    },
    {
     "name": "stderr",
     "output_type": "stream",
     "text": [
      "Epoch 153/500: 100%|██████████| 1863/1863 [00:03<00:00, 563.60batches/s]\n",
      "Epoch 154/500:   4%|▍         | 72/1863 [00:00<09:46,  3.05batches/s]"
     ]
    },
    {
     "name": "stdout",
     "output_type": "stream",
     "text": [
      "Validation accuracy:  0.90872\n",
      "Training accuracy:  0.947111\n",
      "Test accuracy:  0.810847\n"
     ]
    },
    {
     "name": "stderr",
     "output_type": "stream",
     "text": [
      "Epoch 154/500: 100%|██████████| 1863/1863 [00:02<00:00, 635.12batches/s]\n",
      "Epoch 155/500:   8%|▊         | 149/1863 [00:00<06:29,  4.40batches/s]"
     ]
    },
    {
     "name": "stdout",
     "output_type": "stream",
     "text": [
      "Validation accuracy:  0.90872\n",
      "Training accuracy:  0.947219\n",
      "Test accuracy:  0.810768\n"
     ]
    },
    {
     "name": "stderr",
     "output_type": "stream",
     "text": [
      "Epoch 155/500: 100%|██████████| 1863/1863 [00:03<00:00, 570.56batches/s]\n",
      "Epoch 156/500:   7%|▋         | 135/1863 [00:00<06:53,  4.18batches/s]"
     ]
    },
    {
     "name": "stdout",
     "output_type": "stream",
     "text": [
      "Validation accuracy:  0.90872\n",
      "Training accuracy:  0.947353\n",
      "Test accuracy:  0.81061\n"
     ]
    },
    {
     "name": "stderr",
     "output_type": "stream",
     "text": [
      "Epoch 156/500: 100%|██████████| 1863/1863 [00:03<00:00, 547.44batches/s]\n",
      "Epoch 157/500:   7%|▋         | 122/1863 [00:00<07:36,  3.82batches/s]"
     ]
    },
    {
     "name": "stdout",
     "output_type": "stream",
     "text": [
      "Validation accuracy:  0.90872\n",
      "Training accuracy:  0.947514\n",
      "Test accuracy:  0.810847\n"
     ]
    },
    {
     "name": "stderr",
     "output_type": "stream",
     "text": [
      "Epoch 157/500: 100%|██████████| 1863/1863 [00:03<00:00, 510.74batches/s]\n",
      "Epoch 158/500:   3%|▎         | 53/1863 [00:00<11:03,  2.73batches/s]"
     ]
    },
    {
     "name": "stdout",
     "output_type": "stream",
     "text": [
      "Validation accuracy:  0.90872\n",
      "Training accuracy:  0.947648\n",
      "Test accuracy:  0.811085\n"
     ]
    },
    {
     "name": "stderr",
     "output_type": "stream",
     "text": [
      "Epoch 158/500: 100%|██████████| 1863/1863 [00:03<00:00, 556.44batches/s]\n",
      "Epoch 159/500:   7%|▋         | 131/1863 [00:00<06:56,  4.16batches/s]"
     ]
    },
    {
     "name": "stdout",
     "output_type": "stream",
     "text": [
      "Validation accuracy:  0.90923\n",
      "Training accuracy:  0.947702\n",
      "Test accuracy:  0.811164\n"
     ]
    },
    {
     "name": "stderr",
     "output_type": "stream",
     "text": [
      "Epoch 159/500: 100%|██████████| 1863/1863 [00:03<00:00, 553.97batches/s]\n",
      "Epoch 160/500:   8%|▊         | 153/1863 [00:00<06:32,  4.35batches/s]"
     ]
    },
    {
     "name": "stdout",
     "output_type": "stream",
     "text": [
      "Validation accuracy:  0.90923\n",
      "Training accuracy:  0.947782\n",
      "Test accuracy:  0.811322\n"
     ]
    },
    {
     "name": "stderr",
     "output_type": "stream",
     "text": [
      "Epoch 160/500: 100%|██████████| 1863/1863 [00:02<00:00, 638.61batches/s]\n",
      "Epoch 161/500:   7%|▋         | 132/1863 [00:00<06:29,  4.44batches/s]"
     ]
    },
    {
     "name": "stdout",
     "output_type": "stream",
     "text": [
      "Validation accuracy:  0.90923\n",
      "Training accuracy:  0.947917\n",
      "Test accuracy:  0.811243\n"
     ]
    },
    {
     "name": "stderr",
     "output_type": "stream",
     "text": [
      "Epoch 161/500: 100%|██████████| 1863/1863 [00:02<00:00, 622.23batches/s]\n",
      "Epoch 162/500:   8%|▊         | 152/1863 [00:00<06:10,  4.62batches/s]"
     ]
    },
    {
     "name": "stdout",
     "output_type": "stream",
     "text": [
      "Validation accuracy:  0.90872\n",
      "Training accuracy:  0.947997\n",
      "Test accuracy:  0.811322\n"
     ]
    },
    {
     "name": "stderr",
     "output_type": "stream",
     "text": [
      "Epoch 162/500: 100%|██████████| 1863/1863 [00:03<00:00, 613.56batches/s]\n",
      "Epoch 163/500:   8%|▊         | 158/1863 [00:00<06:15,  4.54batches/s]"
     ]
    },
    {
     "name": "stdout",
     "output_type": "stream",
     "text": [
      "Validation accuracy:  0.90923\n",
      "Training accuracy:  0.948051\n",
      "Test accuracy:  0.811322\n"
     ]
    },
    {
     "name": "stderr",
     "output_type": "stream",
     "text": [
      "Epoch 163/500: 100%|██████████| 1863/1863 [00:02<00:00, 654.54batches/s]\n",
      "Epoch 164/500:   7%|▋         | 138/1863 [00:00<06:23,  4.50batches/s]"
     ]
    },
    {
     "name": "stdout",
     "output_type": "stream",
     "text": [
      "Validation accuracy:  0.90974\n",
      "Training accuracy:  0.948346\n",
      "Test accuracy:  0.811401\n"
     ]
    },
    {
     "name": "stderr",
     "output_type": "stream",
     "text": [
      "Epoch 164/500: 100%|██████████| 1863/1863 [00:03<00:00, 616.62batches/s]\n",
      "Epoch 165/500:   8%|▊         | 156/1863 [00:00<06:14,  4.56batches/s]"
     ]
    },
    {
     "name": "stdout",
     "output_type": "stream",
     "text": [
      "Validation accuracy:  0.90974\n",
      "Training accuracy:  0.94848\n",
      "Test accuracy:  0.811481\n"
     ]
    },
    {
     "name": "stderr",
     "output_type": "stream",
     "text": [
      "Epoch 165/500: 100%|██████████| 1863/1863 [00:02<00:00, 625.66batches/s]\n",
      "Epoch 166/500:   7%|▋         | 137/1863 [00:00<06:38,  4.34batches/s]"
     ]
    },
    {
     "name": "stdout",
     "output_type": "stream",
     "text": [
      "Validation accuracy:  0.90974\n",
      "Training accuracy:  0.948454\n",
      "Test accuracy:  0.811481\n"
     ]
    },
    {
     "name": "stderr",
     "output_type": "stream",
     "text": [
      "Epoch 166/500: 100%|██████████| 1863/1863 [00:02<00:00, 625.60batches/s]\n",
      "Epoch 167/500:   4%|▍         | 75/1863 [00:00<09:41,  3.08batches/s]"
     ]
    },
    {
     "name": "stdout",
     "output_type": "stream",
     "text": [
      "Validation accuracy:  0.90974\n",
      "Training accuracy:  0.948507\n",
      "Test accuracy:  0.811639\n"
     ]
    },
    {
     "name": "stderr",
     "output_type": "stream",
     "text": [
      "Epoch 167/500: 100%|██████████| 1863/1863 [00:03<00:00, 608.45batches/s]\n",
      "Epoch 168/500:   8%|▊         | 157/1863 [00:00<06:11,  4.59batches/s]"
     ]
    },
    {
     "name": "stdout",
     "output_type": "stream",
     "text": [
      "Validation accuracy:  0.90974\n",
      "Training accuracy:  0.948561\n",
      "Test accuracy:  0.811718\n"
     ]
    },
    {
     "name": "stderr",
     "output_type": "stream",
     "text": [
      "Epoch 168/500: 100%|██████████| 1863/1863 [00:02<00:00, 654.46batches/s]\n",
      "Epoch 169/500:   8%|▊         | 142/1863 [00:00<06:18,  4.55batches/s]"
     ]
    },
    {
     "name": "stdout",
     "output_type": "stream",
     "text": [
      "Validation accuracy:  0.90974\n",
      "Training accuracy:  0.948776\n",
      "Test accuracy:  0.811797\n"
     ]
    },
    {
     "name": "stderr",
     "output_type": "stream",
     "text": [
      "Epoch 169/500: 100%|██████████| 1863/1863 [00:02<00:00, 625.35batches/s]\n",
      "Epoch 170/500:   4%|▍         | 78/1863 [00:00<09:44,  3.06batches/s]"
     ]
    },
    {
     "name": "stdout",
     "output_type": "stream",
     "text": [
      "Validation accuracy:  0.91025\n",
      "Training accuracy:  0.94891\n",
      "Test accuracy:  0.811718\n"
     ]
    },
    {
     "name": "stderr",
     "output_type": "stream",
     "text": [
      "Epoch 170/500: 100%|██████████| 1863/1863 [00:03<00:00, 596.58batches/s]\n",
      "Epoch 171/500:   4%|▎         | 69/1863 [00:00<09:46,  3.06batches/s]"
     ]
    },
    {
     "name": "stdout",
     "output_type": "stream",
     "text": [
      "Validation accuracy:  0.91025\n",
      "Training accuracy:  0.949125\n",
      "Test accuracy:  0.811639\n"
     ]
    },
    {
     "name": "stderr",
     "output_type": "stream",
     "text": [
      "Epoch 171/500: 100%|██████████| 1863/1863 [00:02<00:00, 637.39batches/s]\n",
      "Epoch 172/500:   4%|▍         | 71/1863 [00:00<09:36,  3.11batches/s]"
     ]
    },
    {
     "name": "stdout",
     "output_type": "stream",
     "text": [
      "Validation accuracy:  0.91025\n",
      "Training accuracy:  0.949232\n",
      "Test accuracy:  0.811639\n"
     ]
    },
    {
     "name": "stderr",
     "output_type": "stream",
     "text": [
      "Epoch 172/500: 100%|██████████| 1863/1863 [00:03<00:00, 551.03batches/s]\n",
      "Epoch 173/500:   6%|▌         | 109/1863 [00:00<08:37,  3.39batches/s]"
     ]
    },
    {
     "name": "stdout",
     "output_type": "stream",
     "text": [
      "Validation accuracy:  0.91025\n",
      "Training accuracy:  0.94942\n",
      "Test accuracy:  0.811322\n"
     ]
    },
    {
     "name": "stderr",
     "output_type": "stream",
     "text": [
      "Epoch 173/500: 100%|██████████| 1863/1863 [00:04<00:00, 446.98batches/s]\n",
      "Epoch 174/500:   3%|▎         | 49/1863 [00:00<13:05,  2.31batches/s]"
     ]
    },
    {
     "name": "stdout",
     "output_type": "stream",
     "text": [
      "Validation accuracy:  0.91076\n",
      "Training accuracy:  0.94942\n",
      "Test accuracy:  0.811322\n"
     ]
    },
    {
     "name": "stderr",
     "output_type": "stream",
     "text": [
      "Epoch 174/500: 100%|██████████| 1863/1863 [00:04<00:00, 420.25batches/s]\n",
      "Epoch 175/500:   6%|▌         | 114/1863 [00:00<07:47,  3.74batches/s]"
     ]
    },
    {
     "name": "stdout",
     "output_type": "stream",
     "text": [
      "Validation accuracy:  0.91076\n",
      "Training accuracy:  0.949608\n",
      "Test accuracy:  0.811481\n"
     ]
    },
    {
     "name": "stderr",
     "output_type": "stream",
     "text": [
      "Epoch 175/500: 100%|██████████| 1863/1863 [00:03<00:00, 568.84batches/s]\n",
      "Epoch 176/500:   8%|▊         | 140/1863 [00:00<06:33,  4.37batches/s]"
     ]
    },
    {
     "name": "stdout",
     "output_type": "stream",
     "text": [
      "Validation accuracy:  0.91076\n",
      "Training accuracy:  0.949742\n",
      "Test accuracy:  0.811481\n"
     ]
    },
    {
     "name": "stderr",
     "output_type": "stream",
     "text": [
      "Epoch 176/500: 100%|██████████| 1863/1863 [00:03<00:00, 678.18batches/s]\n",
      "Epoch 177/500:   7%|▋         | 122/1863 [00:00<06:52,  4.22batches/s]"
     ]
    },
    {
     "name": "stdout",
     "output_type": "stream",
     "text": [
      "Validation accuracy:  0.91076\n",
      "Training accuracy:  0.949823\n",
      "Test accuracy:  0.811401\n"
     ]
    },
    {
     "name": "stderr",
     "output_type": "stream",
     "text": [
      "Epoch 177/500: 100%|██████████| 1863/1863 [00:03<00:00, 552.55batches/s]\n",
      "Epoch 178/500:   8%|▊         | 151/1863 [00:00<06:41,  4.26batches/s]"
     ]
    },
    {
     "name": "stdout",
     "output_type": "stream",
     "text": [
      "Validation accuracy:  0.91076\n",
      "Training accuracy:  0.949876\n",
      "Test accuracy:  0.811401\n"
     ]
    },
    {
     "name": "stderr",
     "output_type": "stream",
     "text": [
      "Epoch 178/500: 100%|██████████| 1863/1863 [00:03<00:00, 610.31batches/s]\n",
      "Epoch 179/500:   4%|▎         | 69/1863 [00:00<10:22,  2.88batches/s]"
     ]
    },
    {
     "name": "stdout",
     "output_type": "stream",
     "text": [
      "Validation accuracy:  0.91076\n",
      "Training accuracy:  0.949957\n",
      "Test accuracy:  0.811243\n"
     ]
    },
    {
     "name": "stderr",
     "output_type": "stream",
     "text": [
      "Epoch 179/500: 100%|██████████| 1863/1863 [00:03<00:00, 595.44batches/s]\n",
      "Epoch 180/500:   9%|▊         | 161/1863 [00:00<06:23,  4.44batches/s]"
     ]
    },
    {
     "name": "stdout",
     "output_type": "stream",
     "text": [
      "Validation accuracy:  0.91076\n",
      "Training accuracy:  0.950091\n",
      "Test accuracy:  0.811164\n"
     ]
    },
    {
     "name": "stderr",
     "output_type": "stream",
     "text": [
      "Epoch 180/500: 100%|██████████| 1863/1863 [00:03<00:00, 617.51batches/s]\n",
      "Epoch 181/500:   8%|▊         | 157/1863 [00:00<06:16,  4.54batches/s]"
     ]
    },
    {
     "name": "stdout",
     "output_type": "stream",
     "text": [
      "Validation accuracy:  0.91025\n",
      "Training accuracy:  0.950226\n",
      "Test accuracy:  0.811243\n"
     ]
    },
    {
     "name": "stderr",
     "output_type": "stream",
     "text": [
      "Epoch 181/500: 100%|██████████| 1863/1863 [00:02<00:00, 666.26batches/s]\n",
      "Epoch 182/500:   8%|▊         | 144/1863 [00:00<06:27,  4.44batches/s]"
     ]
    },
    {
     "name": "stdout",
     "output_type": "stream",
     "text": [
      "Validation accuracy:  0.91025\n",
      "Training accuracy:  0.950387\n",
      "Test accuracy:  0.811243\n"
     ]
    },
    {
     "name": "stderr",
     "output_type": "stream",
     "text": [
      "Epoch 182/500: 100%|██████████| 1863/1863 [00:03<00:00, 600.55batches/s]\n",
      "Epoch 183/500:   8%|▊         | 157/1863 [00:00<06:18,  4.51batches/s]"
     ]
    },
    {
     "name": "stdout",
     "output_type": "stream",
     "text": [
      "Validation accuracy:  0.91076\n",
      "Training accuracy:  0.950413\n",
      "Test accuracy:  0.811322\n"
     ]
    },
    {
     "name": "stderr",
     "output_type": "stream",
     "text": [
      "Epoch 183/500: 100%|██████████| 1863/1863 [00:02<00:00, 624.25batches/s]\n",
      "Epoch 184/500:   3%|▎         | 57/1863 [00:00<10:42,  2.81batches/s]"
     ]
    },
    {
     "name": "stdout",
     "output_type": "stream",
     "text": [
      "Validation accuracy:  0.91076\n",
      "Training accuracy:  0.950494\n",
      "Test accuracy:  0.811322\n"
     ]
    },
    {
     "name": "stderr",
     "output_type": "stream",
     "text": [
      "Epoch 184/500: 100%|██████████| 1863/1863 [00:03<00:00, 486.86batches/s]\n",
      "Epoch 185/500:   3%|▎         | 57/1863 [00:00<11:14,  2.68batches/s]"
     ]
    },
    {
     "name": "stdout",
     "output_type": "stream",
     "text": [
      "Validation accuracy:  0.91076\n",
      "Training accuracy:  0.950601\n",
      "Test accuracy:  0.811401\n"
     ]
    },
    {
     "name": "stderr",
     "output_type": "stream",
     "text": [
      "Epoch 185/500: 100%|██████████| 1863/1863 [00:03<00:00, 473.83batches/s]\n",
      "Epoch 186/500:   3%|▎         | 61/1863 [00:00<10:50,  2.77batches/s]"
     ]
    },
    {
     "name": "stdout",
     "output_type": "stream",
     "text": [
      "Validation accuracy:  0.91025\n",
      "Training accuracy:  0.950736\n",
      "Test accuracy:  0.811401\n"
     ]
    },
    {
     "name": "stderr",
     "output_type": "stream",
     "text": [
      "Epoch 186/500: 100%|██████████| 1863/1863 [00:03<00:00, 503.73batches/s]\n",
      "Epoch 187/500:   7%|▋         | 129/1863 [00:00<07:04,  4.09batches/s]"
     ]
    },
    {
     "name": "stdout",
     "output_type": "stream",
     "text": [
      "Validation accuracy:  0.91025\n",
      "Training accuracy:  0.950789\n",
      "Test accuracy:  0.811401\n"
     ]
    },
    {
     "name": "stderr",
     "output_type": "stream",
     "text": [
      "Epoch 187/500: 100%|██████████| 1863/1863 [00:03<00:00, 540.31batches/s]\n",
      "Epoch 188/500:   6%|▌         | 111/1863 [00:00<07:21,  3.97batches/s]"
     ]
    },
    {
     "name": "stdout",
     "output_type": "stream",
     "text": [
      "Validation accuracy:  0.91025\n",
      "Training accuracy:  0.950897\n",
      "Test accuracy:  0.811243\n"
     ]
    },
    {
     "name": "stderr",
     "output_type": "stream",
     "text": [
      "Epoch 188/500: 100%|██████████| 1863/1863 [00:03<00:00, 587.34batches/s]\n",
      "Epoch 189/500:   3%|▎         | 64/1863 [00:00<10:53,  2.75batches/s]"
     ]
    },
    {
     "name": "stdout",
     "output_type": "stream",
     "text": [
      "Validation accuracy:  0.91025\n",
      "Training accuracy:  0.951031\n",
      "Test accuracy:  0.811243\n"
     ]
    },
    {
     "name": "stderr",
     "output_type": "stream",
     "text": [
      "Epoch 189/500: 100%|██████████| 1863/1863 [00:03<00:00, 530.46batches/s]\n",
      "Epoch 190/500:   8%|▊         | 142/1863 [00:00<06:39,  4.31batches/s]"
     ]
    },
    {
     "name": "stdout",
     "output_type": "stream",
     "text": [
      "Validation accuracy:  0.91025\n",
      "Training accuracy:  0.951353\n",
      "Test accuracy:  0.811085\n"
     ]
    },
    {
     "name": "stderr",
     "output_type": "stream",
     "text": [
      "Epoch 190/500: 100%|██████████| 1863/1863 [00:03<00:00, 595.13batches/s]\n",
      "Epoch 191/500:   7%|▋         | 131/1863 [00:00<06:57,  4.15batches/s]"
     ]
    },
    {
     "name": "stdout",
     "output_type": "stream",
     "text": [
      "Validation accuracy:  0.91076\n",
      "Training accuracy:  0.95146\n",
      "Test accuracy:  0.811006\n"
     ]
    },
    {
     "name": "stderr",
     "output_type": "stream",
     "text": [
      "Epoch 191/500: 100%|██████████| 1863/1863 [00:03<00:00, 590.82batches/s]\n",
      "Epoch 192/500:   8%|▊         | 141/1863 [00:00<07:00,  4.10batches/s]"
     ]
    },
    {
     "name": "stdout",
     "output_type": "stream",
     "text": [
      "Validation accuracy:  0.91076\n",
      "Training accuracy:  0.951487\n",
      "Test accuracy:  0.811164\n"
     ]
    },
    {
     "name": "stderr",
     "output_type": "stream",
     "text": [
      "Epoch 192/500: 100%|██████████| 1863/1863 [00:03<00:00, 547.08batches/s]\n",
      "Epoch 193/500:   3%|▎         | 60/1863 [00:00<10:04,  2.98batches/s]"
     ]
    },
    {
     "name": "stdout",
     "output_type": "stream",
     "text": [
      "Validation accuracy:  0.91076\n",
      "Training accuracy:  0.951514\n",
      "Test accuracy:  0.811401\n"
     ]
    },
    {
     "name": "stderr",
     "output_type": "stream",
     "text": [
      "Epoch 193/500: 100%|██████████| 1863/1863 [00:03<00:00, 524.67batches/s]\n",
      "Epoch 194/500:   3%|▎         | 65/1863 [00:00<10:43,  2.79batches/s]"
     ]
    },
    {
     "name": "stdout",
     "output_type": "stream",
     "text": [
      "Validation accuracy:  0.91076\n",
      "Training accuracy:  0.951595\n",
      "Test accuracy:  0.811322\n"
     ]
    },
    {
     "name": "stderr",
     "output_type": "stream",
     "text": [
      "Epoch 194/500: 100%|██████████| 1863/1863 [00:03<00:00, 566.45batches/s]\n",
      "Epoch 195/500:   4%|▎         | 67/1863 [00:00<10:18,  2.90batches/s]"
     ]
    },
    {
     "name": "stdout",
     "output_type": "stream",
     "text": [
      "Validation accuracy:  0.91076\n",
      "Training accuracy:  0.951675\n",
      "Test accuracy:  0.811481\n"
     ]
    },
    {
     "name": "stderr",
     "output_type": "stream",
     "text": [
      "Epoch 195/500: 100%|██████████| 1863/1863 [00:03<00:00, 512.37batches/s]\n",
      "Epoch 196/500:   6%|▌         | 115/1863 [00:00<07:36,  3.83batches/s]"
     ]
    },
    {
     "name": "stdout",
     "output_type": "stream",
     "text": [
      "Validation accuracy:  0.91076\n",
      "Training accuracy:  0.951675\n",
      "Test accuracy:  0.811481\n"
     ]
    },
    {
     "name": "stderr",
     "output_type": "stream",
     "text": [
      "Epoch 196/500: 100%|██████████| 1863/1863 [00:03<00:00, 467.89batches/s]\n",
      "Epoch 197/500:   6%|▌         | 114/1863 [00:00<07:12,  4.05batches/s]"
     ]
    },
    {
     "name": "stdout",
     "output_type": "stream",
     "text": [
      "Validation accuracy:  0.91127\n",
      "Training accuracy:  0.951702\n",
      "Test accuracy:  0.811401\n"
     ]
    },
    {
     "name": "stderr",
     "output_type": "stream",
     "text": [
      "Epoch 197/500: 100%|██████████| 1863/1863 [00:03<00:00, 472.83batches/s]\n",
      "Epoch 198/500:   7%|▋         | 122/1863 [00:00<07:07,  4.08batches/s]"
     ]
    },
    {
     "name": "stdout",
     "output_type": "stream",
     "text": [
      "Validation accuracy:  0.91127\n",
      "Training accuracy:  0.951783\n",
      "Test accuracy:  0.811322\n"
     ]
    },
    {
     "name": "stderr",
     "output_type": "stream",
     "text": [
      "Epoch 198/500: 100%|██████████| 1863/1863 [00:03<00:00, 585.39batches/s]\n",
      "Epoch 199/500:   7%|▋         | 129/1863 [00:00<06:50,  4.23batches/s]"
     ]
    },
    {
     "name": "stdout",
     "output_type": "stream",
     "text": [
      "Validation accuracy:  0.91127\n",
      "Training accuracy:  0.951863\n",
      "Test accuracy:  0.811481\n"
     ]
    },
    {
     "name": "stderr",
     "output_type": "stream",
     "text": [
      "Epoch 199/500: 100%|██████████| 1863/1863 [00:03<00:00, 607.69batches/s]\n",
      "Epoch 200/500:   4%|▍         | 79/1863 [00:00<09:29,  3.13batches/s]"
     ]
    },
    {
     "name": "stdout",
     "output_type": "stream",
     "text": [
      "Validation accuracy:  0.91127\n",
      "Training accuracy:  0.951917\n",
      "Test accuracy:  0.81156\n"
     ]
    },
    {
     "name": "stderr",
     "output_type": "stream",
     "text": [
      "Epoch 200/500: 100%|██████████| 1863/1863 [00:02<00:00, 622.15batches/s]\n",
      "Epoch 201/500:   8%|▊         | 154/1863 [00:00<06:29,  4.38batches/s]"
     ]
    },
    {
     "name": "stdout",
     "output_type": "stream",
     "text": [
      "Validation accuracy:  0.91127\n",
      "Training accuracy:  0.952024\n",
      "Test accuracy:  0.811639\n"
     ]
    },
    {
     "name": "stderr",
     "output_type": "stream",
     "text": [
      "Epoch 201/500: 100%|██████████| 1863/1863 [00:02<00:00, 742.63batches/s]\n",
      "Epoch 202/500:   4%|▍         | 74/1863 [00:00<09:31,  3.13batches/s]"
     ]
    },
    {
     "name": "stdout",
     "output_type": "stream",
     "text": [
      "Validation accuracy:  0.91127\n",
      "Training accuracy:  0.952212\n",
      "Test accuracy:  0.811718\n"
     ]
    },
    {
     "name": "stderr",
     "output_type": "stream",
     "text": [
      "Epoch 202/500: 100%|██████████| 1863/1863 [00:03<00:00, 614.11batches/s]\n",
      "Epoch 203/500:   8%|▊         | 157/1863 [00:00<06:26,  4.41batches/s]"
     ]
    },
    {
     "name": "stdout",
     "output_type": "stream",
     "text": [
      "Validation accuracy:  0.91178\n",
      "Training accuracy:  0.952239\n",
      "Test accuracy:  0.811639\n"
     ]
    },
    {
     "name": "stderr",
     "output_type": "stream",
     "text": [
      "Epoch 203/500: 100%|██████████| 1863/1863 [00:02<00:00, 646.79batches/s]\n",
      "Epoch 204/500:   8%|▊         | 147/1863 [00:00<06:21,  4.50batches/s]"
     ]
    },
    {
     "name": "stdout",
     "output_type": "stream",
     "text": [
      "Validation accuracy:  0.91127\n",
      "Training accuracy:  0.952373\n",
      "Test accuracy:  0.811718\n"
     ]
    },
    {
     "name": "stderr",
     "output_type": "stream",
     "text": [
      "Epoch 204/500: 100%|██████████| 1863/1863 [00:02<00:00, 644.48batches/s]\n",
      "Epoch 205/500:   9%|▉         | 165/1863 [00:00<06:05,  4.65batches/s]"
     ]
    },
    {
     "name": "stdout",
     "output_type": "stream",
     "text": [
      "Validation accuracy:  0.91127\n",
      "Training accuracy:  0.952588\n",
      "Test accuracy:  0.81156\n"
     ]
    },
    {
     "name": "stderr",
     "output_type": "stream",
     "text": [
      "Epoch 205/500: 100%|██████████| 1863/1863 [00:02<00:00, 633.82batches/s]\n",
      "Epoch 206/500:   8%|▊         | 153/1863 [00:00<06:30,  4.38batches/s]"
     ]
    },
    {
     "name": "stdout",
     "output_type": "stream",
     "text": [
      "Validation accuracy:  0.91178\n",
      "Training accuracy:  0.952695\n",
      "Test accuracy:  0.811481\n"
     ]
    },
    {
     "name": "stderr",
     "output_type": "stream",
     "text": [
      "Epoch 206/500: 100%|██████████| 1863/1863 [00:02<00:00, 655.60batches/s]\n",
      "Epoch 207/500:   4%|▍         | 81/1863 [00:00<09:22,  3.17batches/s]"
     ]
    },
    {
     "name": "stdout",
     "output_type": "stream",
     "text": [
      "Validation accuracy:  0.91178\n",
      "Training accuracy:  0.952722\n",
      "Test accuracy:  0.811401\n"
     ]
    },
    {
     "name": "stderr",
     "output_type": "stream",
     "text": [
      "Epoch 207/500: 100%|██████████| 1863/1863 [00:02<00:00, 624.04batches/s]\n",
      "Epoch 208/500:   4%|▍         | 82/1863 [00:00<09:08,  3.25batches/s]"
     ]
    },
    {
     "name": "stdout",
     "output_type": "stream",
     "text": [
      "Validation accuracy:  0.91178\n",
      "Training accuracy:  0.952803\n",
      "Test accuracy:  0.811322\n"
     ]
    },
    {
     "name": "stderr",
     "output_type": "stream",
     "text": [
      "Epoch 208/500: 100%|██████████| 1863/1863 [00:02<00:00, 664.84batches/s]\n",
      "Epoch 209/500:   4%|▍         | 78/1863 [00:00<09:19,  3.19batches/s]"
     ]
    },
    {
     "name": "stdout",
     "output_type": "stream",
     "text": [
      "Validation accuracy:  0.91178\n",
      "Training accuracy:  0.95283\n",
      "Test accuracy:  0.811243\n"
     ]
    },
    {
     "name": "stderr",
     "output_type": "stream",
     "text": [
      "Epoch 209/500: 100%|██████████| 1863/1863 [00:03<00:00, 620.71batches/s]\n",
      "Epoch 210/500:   9%|▊         | 160/1863 [00:00<06:17,  4.51batches/s]"
     ]
    },
    {
     "name": "stdout",
     "output_type": "stream",
     "text": [
      "Validation accuracy:  0.91178\n",
      "Training accuracy:  0.95291\n",
      "Test accuracy:  0.811164\n"
     ]
    },
    {
     "name": "stderr",
     "output_type": "stream",
     "text": [
      "Epoch 210/500: 100%|██████████| 1863/1863 [00:03<00:00, 615.20batches/s]\n",
      "Epoch 211/500:   4%|▍         | 76/1863 [00:00<09:32,  3.12batches/s]"
     ]
    },
    {
     "name": "stdout",
     "output_type": "stream",
     "text": [
      "Validation accuracy:  0.91127\n",
      "Training accuracy:  0.952964\n",
      "Test accuracy:  0.811085\n"
     ]
    },
    {
     "name": "stderr",
     "output_type": "stream",
     "text": [
      "Epoch 211/500: 100%|██████████| 1863/1863 [00:02<00:00, 651.94batches/s]\n",
      "Epoch 212/500:   8%|▊         | 142/1863 [00:00<06:27,  4.44batches/s]"
     ]
    },
    {
     "name": "stdout",
     "output_type": "stream",
     "text": [
      "Validation accuracy:  0.91178\n",
      "Training accuracy:  0.953071\n",
      "Test accuracy:  0.811164\n"
     ]
    },
    {
     "name": "stderr",
     "output_type": "stream",
     "text": [
      "Epoch 212/500: 100%|██████████| 1863/1863 [00:03<00:00, 616.73batches/s]\n",
      "Epoch 213/500:   4%|▍         | 78/1863 [00:00<09:17,  3.20batches/s]"
     ]
    },
    {
     "name": "stdout",
     "output_type": "stream",
     "text": [
      "Validation accuracy:  0.91178\n",
      "Training accuracy:  0.953152\n",
      "Test accuracy:  0.811164\n"
     ]
    },
    {
     "name": "stderr",
     "output_type": "stream",
     "text": [
      "Epoch 213/500: 100%|██████████| 1863/1863 [00:02<00:00, 660.41batches/s]\n",
      "Epoch 214/500:   4%|▍         | 73/1863 [00:00<09:42,  3.07batches/s]"
     ]
    },
    {
     "name": "stdout",
     "output_type": "stream",
     "text": [
      "Validation accuracy:  0.91178\n",
      "Training accuracy:  0.953232\n",
      "Test accuracy:  0.811164\n"
     ]
    },
    {
     "name": "stderr",
     "output_type": "stream",
     "text": [
      "Epoch 214/500: 100%|██████████| 1863/1863 [00:02<00:00, 638.68batches/s]\n",
      "Epoch 215/500:   4%|▍         | 81/1863 [00:00<09:09,  3.24batches/s]"
     ]
    },
    {
     "name": "stdout",
     "output_type": "stream",
     "text": [
      "Validation accuracy:  0.91178\n",
      "Training accuracy:  0.953259\n",
      "Test accuracy:  0.811006\n"
     ]
    },
    {
     "name": "stderr",
     "output_type": "stream",
     "text": [
      "Epoch 215/500: 100%|██████████| 1863/1863 [00:03<00:00, 613.11batches/s]\n",
      "Epoch 216/500:   8%|▊         | 150/1863 [00:00<06:29,  4.40batches/s]"
     ]
    },
    {
     "name": "stdout",
     "output_type": "stream",
     "text": [
      "Validation accuracy:  0.91178\n",
      "Training accuracy:  0.953367\n",
      "Test accuracy:  0.811085\n"
     ]
    },
    {
     "name": "stderr",
     "output_type": "stream",
     "text": [
      "Epoch 216/500: 100%|██████████| 1863/1863 [00:02<00:00, 651.72batches/s]\n",
      "Epoch 217/500:   4%|▍         | 73/1863 [00:00<09:22,  3.18batches/s]"
     ]
    },
    {
     "name": "stdout",
     "output_type": "stream",
     "text": [
      "Validation accuracy:  0.91229\n",
      "Training accuracy:  0.95342\n",
      "Test accuracy:  0.811243\n"
     ]
    },
    {
     "name": "stderr",
     "output_type": "stream",
     "text": [
      "Epoch 217/500: 100%|██████████| 1863/1863 [00:02<00:00, 633.61batches/s]\n",
      "Epoch 218/500:   8%|▊         | 158/1863 [00:00<06:13,  4.57batches/s]"
     ]
    },
    {
     "name": "stdout",
     "output_type": "stream",
     "text": [
      "Validation accuracy:  0.91229\n",
      "Training accuracy:  0.953447\n",
      "Test accuracy:  0.811243\n"
     ]
    },
    {
     "name": "stderr",
     "output_type": "stream",
     "text": [
      "Epoch 218/500: 100%|██████████| 1863/1863 [00:02<00:00, 653.89batches/s]\n",
      "Epoch 219/500:   8%|▊         | 147/1863 [00:00<06:17,  4.55batches/s]"
     ]
    },
    {
     "name": "stdout",
     "output_type": "stream",
     "text": [
      "Validation accuracy:  0.91229\n",
      "Training accuracy:  0.953555\n",
      "Test accuracy:  0.811322\n"
     ]
    },
    {
     "name": "stderr",
     "output_type": "stream",
     "text": [
      "Epoch 219/500: 100%|██████████| 1863/1863 [00:02<00:00, 653.75batches/s]\n",
      "Epoch 220/500:   9%|▉         | 170/1863 [00:00<05:59,  4.71batches/s]"
     ]
    },
    {
     "name": "stdout",
     "output_type": "stream",
     "text": [
      "Validation accuracy:  0.91229\n",
      "Training accuracy:  0.953555\n",
      "Test accuracy:  0.811322\n"
     ]
    },
    {
     "name": "stderr",
     "output_type": "stream",
     "text": [
      "Epoch 220/500: 100%|██████████| 1863/1863 [00:02<00:00, 636.28batches/s]\n",
      "Epoch 221/500:   9%|▊         | 162/1863 [00:00<06:19,  4.48batches/s]"
     ]
    },
    {
     "name": "stdout",
     "output_type": "stream",
     "text": [
      "Validation accuracy:  0.91229\n",
      "Training accuracy:  0.953635\n",
      "Test accuracy:  0.811481\n"
     ]
    },
    {
     "name": "stderr",
     "output_type": "stream",
     "text": [
      "Epoch 221/500: 100%|██████████| 1863/1863 [00:02<00:00, 647.38batches/s]\n",
      "Epoch 222/500:   3%|▎         | 64/1863 [00:00<10:10,  2.95batches/s]"
     ]
    },
    {
     "name": "stdout",
     "output_type": "stream",
     "text": [
      "Validation accuracy:  0.9128\n",
      "Training accuracy:  0.953716\n",
      "Test accuracy:  0.811481\n"
     ]
    },
    {
     "name": "stderr",
     "output_type": "stream",
     "text": [
      "Epoch 222/500: 100%|██████████| 1863/1863 [00:03<00:00, 507.57batches/s]\n",
      "Epoch 223/500:   4%|▎         | 68/1863 [00:00<11:13,  2.66batches/s]"
     ]
    },
    {
     "name": "stdout",
     "output_type": "stream",
     "text": [
      "Validation accuracy:  0.9128\n",
      "Training accuracy:  0.95385\n",
      "Test accuracy:  0.811401\n"
     ]
    },
    {
     "name": "stderr",
     "output_type": "stream",
     "text": [
      "Epoch 223/500: 100%|██████████| 1863/1863 [00:03<00:00, 486.88batches/s]\n",
      "Epoch 224/500:   8%|▊         | 150/1863 [00:00<06:55,  4.13batches/s]"
     ]
    },
    {
     "name": "stdout",
     "output_type": "stream",
     "text": [
      "Validation accuracy:  0.9128\n",
      "Training accuracy:  0.953877\n",
      "Test accuracy:  0.811401\n"
     ]
    },
    {
     "name": "stderr",
     "output_type": "stream",
     "text": [
      "Epoch 224/500: 100%|██████████| 1863/1863 [00:03<00:00, 591.11batches/s]\n",
      "Epoch 225/500:   7%|▋         | 137/1863 [00:00<06:50,  4.20batches/s]"
     ]
    },
    {
     "name": "stdout",
     "output_type": "stream",
     "text": [
      "Validation accuracy:  0.9128\n",
      "Training accuracy:  0.953984\n",
      "Test accuracy:  0.81156\n"
     ]
    },
    {
     "name": "stderr",
     "output_type": "stream",
     "text": [
      "Epoch 225/500: 100%|██████████| 1863/1863 [00:03<00:00, 589.54batches/s]\n",
      "Epoch 226/500:   7%|▋         | 125/1863 [00:00<07:01,  4.13batches/s]"
     ]
    },
    {
     "name": "stdout",
     "output_type": "stream",
     "text": [
      "Validation accuracy:  0.9128\n",
      "Training accuracy:  0.954038\n",
      "Test accuracy:  0.811401\n"
     ]
    },
    {
     "name": "stderr",
     "output_type": "stream",
     "text": [
      "Epoch 226/500: 100%|██████████| 1863/1863 [00:03<00:00, 539.79batches/s]\n",
      "Epoch 227/500:   4%|▍         | 72/1863 [00:00<09:58,  2.99batches/s]"
     ]
    },
    {
     "name": "stdout",
     "output_type": "stream",
     "text": [
      "Validation accuracy:  0.9128\n",
      "Training accuracy:  0.954172\n",
      "Test accuracy:  0.811401\n"
     ]
    },
    {
     "name": "stderr",
     "output_type": "stream",
     "text": [
      "Epoch 227/500: 100%|██████████| 1863/1863 [00:03<00:00, 555.75batches/s]\n",
      "Epoch 228/500:   7%|▋         | 129/1863 [00:00<07:16,  3.98batches/s]"
     ]
    },
    {
     "name": "stdout",
     "output_type": "stream",
     "text": [
      "Validation accuracy:  0.91331\n",
      "Training accuracy:  0.954172\n",
      "Test accuracy:  0.811401\n"
     ]
    },
    {
     "name": "stderr",
     "output_type": "stream",
     "text": [
      "Epoch 228/500: 100%|██████████| 1863/1863 [00:03<00:00, 596.82batches/s]\n",
      "Epoch 229/500:   8%|▊         | 146/1863 [00:00<07:12,  3.97batches/s]"
     ]
    },
    {
     "name": "stdout",
     "output_type": "stream",
     "text": [
      "Validation accuracy:  0.91331\n",
      "Training accuracy:  0.954226\n",
      "Test accuracy:  0.811481\n"
     ]
    },
    {
     "name": "stderr",
     "output_type": "stream",
     "text": [
      "Epoch 229/500: 100%|██████████| 1863/1863 [00:03<00:00, 593.91batches/s]\n",
      "Epoch 230/500:   4%|▍         | 80/1863 [00:00<09:19,  3.19batches/s]"
     ]
    },
    {
     "name": "stdout",
     "output_type": "stream",
     "text": [
      "Validation accuracy:  0.91331\n",
      "Training accuracy:  0.954253\n",
      "Test accuracy:  0.811401\n"
     ]
    },
    {
     "name": "stderr",
     "output_type": "stream",
     "text": [
      "Epoch 230/500: 100%|██████████| 1863/1863 [00:02<00:00, 623.95batches/s]\n",
      "Epoch 231/500:   8%|▊         | 141/1863 [00:00<06:26,  4.45batches/s]"
     ]
    },
    {
     "name": "stdout",
     "output_type": "stream",
     "text": [
      "Validation accuracy:  0.91331\n",
      "Training accuracy:  0.95436\n",
      "Test accuracy:  0.811401\n"
     ]
    },
    {
     "name": "stderr",
     "output_type": "stream",
     "text": [
      "Epoch 231/500: 100%|██████████| 1863/1863 [00:02<00:00, 624.95batches/s]\n",
      "Epoch 232/500:   7%|▋         | 126/1863 [00:00<06:36,  4.38batches/s]"
     ]
    },
    {
     "name": "stdout",
     "output_type": "stream",
     "text": [
      "Validation accuracy:  0.91331\n",
      "Training accuracy:  0.954441\n",
      "Test accuracy:  0.811322\n"
     ]
    },
    {
     "name": "stderr",
     "output_type": "stream",
     "text": [
      "Epoch 232/500: 100%|██████████| 1863/1863 [00:03<00:00, 553.44batches/s]\n",
      "Epoch 233/500:   9%|▊         | 159/1863 [00:00<06:22,  4.46batches/s]"
     ]
    },
    {
     "name": "stdout",
     "output_type": "stream",
     "text": [
      "Validation accuracy:  0.91331\n",
      "Training accuracy:  0.954521\n",
      "Test accuracy:  0.811322\n"
     ]
    },
    {
     "name": "stderr",
     "output_type": "stream",
     "text": [
      "Epoch 233/500: 100%|██████████| 1863/1863 [00:02<00:00, 641.00batches/s]\n",
      "Epoch 234/500:   8%|▊         | 152/1863 [00:00<06:13,  4.58batches/s]"
     ]
    },
    {
     "name": "stdout",
     "output_type": "stream",
     "text": [
      "Validation accuracy:  0.91331\n",
      "Training accuracy:  0.954548\n",
      "Test accuracy:  0.811401\n"
     ]
    },
    {
     "name": "stderr",
     "output_type": "stream",
     "text": [
      "Epoch 234/500: 100%|██████████| 1863/1863 [00:02<00:00, 636.83batches/s]\n",
      "Epoch 235/500:   9%|▉         | 164/1863 [00:00<06:19,  4.47batches/s]"
     ]
    },
    {
     "name": "stdout",
     "output_type": "stream",
     "text": [
      "Validation accuracy:  0.91331\n",
      "Training accuracy:  0.954655\n",
      "Test accuracy:  0.811164\n"
     ]
    },
    {
     "name": "stderr",
     "output_type": "stream",
     "text": [
      "Epoch 235/500: 100%|██████████| 1863/1863 [00:02<00:00, 653.73batches/s]\n",
      "Epoch 236/500:   8%|▊         | 146/1863 [00:00<06:22,  4.48batches/s]"
     ]
    },
    {
     "name": "stdout",
     "output_type": "stream",
     "text": [
      "Validation accuracy:  0.91331\n",
      "Training accuracy:  0.954709\n",
      "Test accuracy:  0.811243\n"
     ]
    },
    {
     "name": "stderr",
     "output_type": "stream",
     "text": [
      "Epoch 236/500: 100%|██████████| 1863/1863 [00:02<00:00, 654.51batches/s]\n",
      "Epoch 237/500:   8%|▊         | 144/1863 [00:00<06:13,  4.60batches/s]"
     ]
    },
    {
     "name": "stdout",
     "output_type": "stream",
     "text": [
      "Validation accuracy:  0.91331\n",
      "Training accuracy:  0.954763\n",
      "Test accuracy:  0.811243\n"
     ]
    },
    {
     "name": "stderr",
     "output_type": "stream",
     "text": [
      "Epoch 237/500: 100%|██████████| 1863/1863 [00:03<00:00, 576.31batches/s]\n",
      "Epoch 238/500:   8%|▊         | 147/1863 [00:00<06:24,  4.46batches/s]"
     ]
    },
    {
     "name": "stdout",
     "output_type": "stream",
     "text": [
      "Validation accuracy:  0.913819\n",
      "Training accuracy:  0.954843\n",
      "Test accuracy:  0.811164\n"
     ]
    },
    {
     "name": "stderr",
     "output_type": "stream",
     "text": [
      "Epoch 238/500: 100%|██████████| 1863/1863 [00:03<00:00, 616.71batches/s]\n",
      "Epoch 239/500:   3%|▎         | 65/1863 [00:00<10:13,  2.93batches/s]"
     ]
    },
    {
     "name": "stdout",
     "output_type": "stream",
     "text": [
      "Validation accuracy:  0.914329\n",
      "Training accuracy:  0.95487\n",
      "Test accuracy:  0.811085\n"
     ]
    },
    {
     "name": "stderr",
     "output_type": "stream",
     "text": [
      "Epoch 239/500: 100%|██████████| 1863/1863 [00:03<00:00, 575.72batches/s]\n",
      "Epoch 240/500:   8%|▊         | 157/1863 [00:00<06:22,  4.46batches/s]"
     ]
    },
    {
     "name": "stdout",
     "output_type": "stream",
     "text": [
      "Validation accuracy:  0.914329\n",
      "Training accuracy:  0.954924\n",
      "Test accuracy:  0.811243\n"
     ]
    },
    {
     "name": "stderr",
     "output_type": "stream",
     "text": [
      "Epoch 240/500: 100%|██████████| 1863/1863 [00:03<00:00, 588.77batches/s]\n",
      "Epoch 241/500:   8%|▊         | 145/1863 [00:00<06:44,  4.24batches/s]"
     ]
    },
    {
     "name": "stdout",
     "output_type": "stream",
     "text": [
      "Validation accuracy:  0.914329\n",
      "Training accuracy:  0.955058\n",
      "Test accuracy:  0.811164\n"
     ]
    },
    {
     "name": "stderr",
     "output_type": "stream",
     "text": [
      "Epoch 241/500: 100%|██████████| 1863/1863 [00:03<00:00, 602.22batches/s]\n",
      "Epoch 242/500:   7%|▋         | 138/1863 [00:00<06:50,  4.20batches/s]"
     ]
    },
    {
     "name": "stdout",
     "output_type": "stream",
     "text": [
      "Validation accuracy:  0.914329\n",
      "Training accuracy:  0.955085\n",
      "Test accuracy:  0.811322\n"
     ]
    },
    {
     "name": "stderr",
     "output_type": "stream",
     "text": [
      "Epoch 242/500: 100%|██████████| 1863/1863 [00:03<00:00, 586.24batches/s]\n",
      "Epoch 243/500:   3%|▎         | 64/1863 [00:00<09:45,  3.07batches/s]"
     ]
    },
    {
     "name": "stdout",
     "output_type": "stream",
     "text": [
      "Validation accuracy:  0.914329\n",
      "Training accuracy:  0.955112\n",
      "Test accuracy:  0.81156\n"
     ]
    },
    {
     "name": "stderr",
     "output_type": "stream",
     "text": [
      "Epoch 243/500: 100%|██████████| 1863/1863 [00:03<00:00, 549.78batches/s]\n",
      "Epoch 244/500:   3%|▎         | 63/1863 [00:00<10:28,  2.86batches/s]"
     ]
    },
    {
     "name": "stdout",
     "output_type": "stream",
     "text": [
      "Validation accuracy:  0.913819\n",
      "Training accuracy:  0.955139\n",
      "Test accuracy:  0.811322\n"
     ]
    },
    {
     "name": "stderr",
     "output_type": "stream",
     "text": [
      "Epoch 244/500: 100%|██████████| 1863/1863 [00:03<00:00, 601.46batches/s]\n",
      "Epoch 245/500:   7%|▋         | 135/1863 [00:00<06:46,  4.25batches/s]"
     ]
    },
    {
     "name": "stdout",
     "output_type": "stream",
     "text": [
      "Validation accuracy:  0.913819\n",
      "Training accuracy:  0.955246\n",
      "Test accuracy:  0.811243\n"
     ]
    },
    {
     "name": "stderr",
     "output_type": "stream",
     "text": [
      "Epoch 245/500: 100%|██████████| 1863/1863 [00:03<00:00, 570.70batches/s]\n",
      "Epoch 246/500:   4%|▍         | 81/1863 [00:00<09:18,  3.19batches/s]"
     ]
    },
    {
     "name": "stdout",
     "output_type": "stream",
     "text": [
      "Validation accuracy:  0.913819\n",
      "Training accuracy:  0.955326\n",
      "Test accuracy:  0.811322\n"
     ]
    },
    {
     "name": "stderr",
     "output_type": "stream",
     "text": [
      "Epoch 246/500: 100%|██████████| 1863/1863 [00:03<00:00, 585.21batches/s]\n",
      "Epoch 247/500:   4%|▍         | 75/1863 [00:00<10:04,  2.96batches/s]"
     ]
    },
    {
     "name": "stdout",
     "output_type": "stream",
     "text": [
      "Validation accuracy:  0.913819\n",
      "Training accuracy:  0.955488\n",
      "Test accuracy:  0.811243\n"
     ]
    },
    {
     "name": "stderr",
     "output_type": "stream",
     "text": [
      "Epoch 247/500: 100%|██████████| 1863/1863 [00:02<00:00, 640.89batches/s]\n",
      "Epoch 248/500:   4%|▍         | 75/1863 [00:00<09:09,  3.25batches/s]"
     ]
    },
    {
     "name": "stdout",
     "output_type": "stream",
     "text": [
      "Validation accuracy:  0.913819\n",
      "Training accuracy:  0.955514\n",
      "Test accuracy:  0.811322\n"
     ]
    },
    {
     "name": "stderr",
     "output_type": "stream",
     "text": [
      "Epoch 248/500: 100%|██████████| 1863/1863 [00:03<00:00, 599.36batches/s]\n",
      "Epoch 249/500:   8%|▊         | 150/1863 [00:00<06:40,  4.28batches/s]"
     ]
    },
    {
     "name": "stdout",
     "output_type": "stream",
     "text": [
      "Validation accuracy:  0.913819\n",
      "Training accuracy:  0.955541\n",
      "Test accuracy:  0.811322\n"
     ]
    },
    {
     "name": "stderr",
     "output_type": "stream",
     "text": [
      "Epoch 249/500: 100%|██████████| 1863/1863 [00:03<00:00, 540.81batches/s]\n",
      "Epoch 250/500:   3%|▎         | 62/1863 [00:00<10:31,  2.85batches/s]"
     ]
    },
    {
     "name": "stdout",
     "output_type": "stream",
     "text": [
      "Validation accuracy:  0.913819\n",
      "Training accuracy:  0.955595\n",
      "Test accuracy:  0.811401\n"
     ]
    },
    {
     "name": "stderr",
     "output_type": "stream",
     "text": [
      "Epoch 250/500: 100%|██████████| 1863/1863 [00:03<00:00, 594.32batches/s]\n",
      "Epoch 251/500:   4%|▎         | 66/1863 [00:00<10:06,  2.96batches/s]"
     ]
    },
    {
     "name": "stdout",
     "output_type": "stream",
     "text": [
      "Validation accuracy:  0.913819\n",
      "Training accuracy:  0.955675\n",
      "Test accuracy:  0.811243\n"
     ]
    },
    {
     "name": "stderr",
     "output_type": "stream",
     "text": [
      "Epoch 251/500: 100%|██████████| 1863/1863 [00:03<00:00, 537.28batches/s]\n",
      "Epoch 252/500:   8%|▊         | 155/1863 [00:00<06:28,  4.40batches/s]"
     ]
    },
    {
     "name": "stdout",
     "output_type": "stream",
     "text": [
      "Validation accuracy:  0.913819\n",
      "Training accuracy:  0.955702\n",
      "Test accuracy:  0.811243\n"
     ]
    },
    {
     "name": "stderr",
     "output_type": "stream",
     "text": [
      "Epoch 252/500: 100%|██████████| 1863/1863 [00:03<00:00, 599.68batches/s]\n",
      "Epoch 253/500:   8%|▊         | 143/1863 [00:00<07:04,  4.05batches/s]"
     ]
    },
    {
     "name": "stdout",
     "output_type": "stream",
     "text": [
      "Validation accuracy:  0.914329\n",
      "Training accuracy:  0.955729\n",
      "Test accuracy:  0.811243\n"
     ]
    },
    {
     "name": "stderr",
     "output_type": "stream",
     "text": [
      "Epoch 253/500: 100%|██████████| 1863/1863 [00:03<00:00, 613.63batches/s]\n",
      "Epoch 254/500:   4%|▍         | 73/1863 [00:00<10:03,  2.97batches/s]"
     ]
    },
    {
     "name": "stdout",
     "output_type": "stream",
     "text": [
      "Validation accuracy:  0.914839\n",
      "Training accuracy:  0.95581\n",
      "Test accuracy:  0.811322\n"
     ]
    },
    {
     "name": "stderr",
     "output_type": "stream",
     "text": [
      "Epoch 254/500: 100%|██████████| 1863/1863 [00:03<00:00, 568.50batches/s]\n",
      "Epoch 255/500:   4%|▍         | 78/1863 [00:00<09:57,  2.99batches/s]"
     ]
    },
    {
     "name": "stdout",
     "output_type": "stream",
     "text": [
      "Validation accuracy:  0.914839\n",
      "Training accuracy:  0.955837\n",
      "Test accuracy:  0.811322\n"
     ]
    },
    {
     "name": "stderr",
     "output_type": "stream",
     "text": [
      "Epoch 255/500: 100%|██████████| 1863/1863 [00:03<00:00, 591.59batches/s]\n",
      "Epoch 256/500:   7%|▋         | 137/1863 [00:00<07:02,  4.08batches/s]"
     ]
    },
    {
     "name": "stdout",
     "output_type": "stream",
     "text": [
      "Validation accuracy:  0.914329\n",
      "Training accuracy:  0.95589\n",
      "Test accuracy:  0.811322\n"
     ]
    },
    {
     "name": "stderr",
     "output_type": "stream",
     "text": [
      "Epoch 256/500: 100%|██████████| 1863/1863 [00:03<00:00, 594.87batches/s]\n",
      "Epoch 257/500:   7%|▋         | 129/1863 [00:00<07:05,  4.08batches/s]"
     ]
    },
    {
     "name": "stdout",
     "output_type": "stream",
     "text": [
      "Validation accuracy:  0.914329\n",
      "Training accuracy:  0.955998\n",
      "Test accuracy:  0.811243\n"
     ]
    },
    {
     "name": "stderr",
     "output_type": "stream",
     "text": [
      "Epoch 257/500: 100%|██████████| 1863/1863 [00:03<00:00, 532.11batches/s]\n",
      "Epoch 258/500:   8%|▊         | 150/1863 [00:00<06:36,  4.33batches/s]"
     ]
    },
    {
     "name": "stdout",
     "output_type": "stream",
     "text": [
      "Validation accuracy:  0.914329\n",
      "Training accuracy:  0.955998\n",
      "Test accuracy:  0.811164\n"
     ]
    },
    {
     "name": "stderr",
     "output_type": "stream",
     "text": [
      "Epoch 258/500: 100%|██████████| 1863/1863 [00:03<00:00, 574.16batches/s]\n",
      "Epoch 259/500:   4%|▎         | 69/1863 [00:00<09:58,  3.00batches/s]"
     ]
    },
    {
     "name": "stdout",
     "output_type": "stream",
     "text": [
      "Validation accuracy:  0.914329\n",
      "Training accuracy:  0.956078\n",
      "Test accuracy:  0.811243\n"
     ]
    },
    {
     "name": "stderr",
     "output_type": "stream",
     "text": [
      "Epoch 259/500: 100%|██████████| 1863/1863 [00:03<00:00, 604.38batches/s]\n",
      "Epoch 260/500:   4%|▍         | 73/1863 [00:00<09:20,  3.20batches/s]"
     ]
    },
    {
     "name": "stdout",
     "output_type": "stream",
     "text": [
      "Validation accuracy:  0.914329\n",
      "Training accuracy:  0.956105\n",
      "Test accuracy:  0.811322\n"
     ]
    },
    {
     "name": "stderr",
     "output_type": "stream",
     "text": [
      "Epoch 260/500: 100%|██████████| 1863/1863 [00:03<00:00, 596.45batches/s]\n",
      "Epoch 261/500:   8%|▊         | 149/1863 [00:00<06:33,  4.36batches/s]"
     ]
    },
    {
     "name": "stdout",
     "output_type": "stream",
     "text": [
      "Validation accuracy:  0.914329\n",
      "Training accuracy:  0.956132\n",
      "Test accuracy:  0.811401\n"
     ]
    },
    {
     "name": "stderr",
     "output_type": "stream",
     "text": [
      "Epoch 261/500: 100%|██████████| 1863/1863 [00:03<00:00, 591.62batches/s]\n",
      "Epoch 262/500:   4%|▎         | 68/1863 [00:00<09:54,  3.02batches/s]"
     ]
    },
    {
     "name": "stdout",
     "output_type": "stream",
     "text": [
      "Validation accuracy:  0.914329\n",
      "Training accuracy:  0.956293\n",
      "Test accuracy:  0.811481\n"
     ]
    },
    {
     "name": "stderr",
     "output_type": "stream",
     "text": [
      "Epoch 262/500: 100%|██████████| 1863/1863 [00:03<00:00, 573.30batches/s]\n",
      "Epoch 263/500:   4%|▍         | 77/1863 [00:00<10:33,  2.82batches/s]"
     ]
    },
    {
     "name": "stdout",
     "output_type": "stream",
     "text": [
      "Validation accuracy:  0.914329\n",
      "Training accuracy:  0.9564\n",
      "Test accuracy:  0.811401\n"
     ]
    },
    {
     "name": "stderr",
     "output_type": "stream",
     "text": [
      "Epoch 263/500: 100%|██████████| 1863/1863 [00:03<00:00, 577.87batches/s]\n",
      "Epoch 264/500:   8%|▊         | 142/1863 [00:00<06:39,  4.31batches/s]"
     ]
    },
    {
     "name": "stdout",
     "output_type": "stream",
     "text": [
      "Validation accuracy:  0.914329\n",
      "Training accuracy:  0.956427\n",
      "Test accuracy:  0.811401\n"
     ]
    },
    {
     "name": "stderr",
     "output_type": "stream",
     "text": [
      "Epoch 264/500: 100%|██████████| 1863/1863 [00:02<00:00, 631.51batches/s]\n",
      "Epoch 265/500:   8%|▊         | 158/1863 [00:00<06:26,  4.41batches/s]"
     ]
    },
    {
     "name": "stdout",
     "output_type": "stream",
     "text": [
      "Validation accuracy:  0.914329\n",
      "Training accuracy:  0.956535\n",
      "Test accuracy:  0.811401\n"
     ]
    },
    {
     "name": "stderr",
     "output_type": "stream",
     "text": [
      "Epoch 265/500: 100%|██████████| 1863/1863 [00:02<00:00, 722.07batches/s]\n",
      "Epoch 266/500:   8%|▊         | 152/1863 [00:00<06:05,  4.68batches/s]"
     ]
    },
    {
     "name": "stdout",
     "output_type": "stream",
     "text": [
      "Validation accuracy:  0.915349\n",
      "Training accuracy:  0.956588\n",
      "Test accuracy:  0.81156\n"
     ]
    },
    {
     "name": "stderr",
     "output_type": "stream",
     "text": [
      "Epoch 266/500: 100%|██████████| 1863/1863 [00:02<00:00, 645.98batches/s]\n",
      "Epoch 267/500:   4%|▍         | 78/1863 [00:00<09:10,  3.24batches/s]"
     ]
    },
    {
     "name": "stdout",
     "output_type": "stream",
     "text": [
      "Validation accuracy:  0.915349\n",
      "Training accuracy:  0.956588\n",
      "Test accuracy:  0.811481\n"
     ]
    },
    {
     "name": "stderr",
     "output_type": "stream",
     "text": [
      "Epoch 267/500: 100%|██████████| 1863/1863 [00:02<00:00, 674.42batches/s]\n",
      "Epoch 268/500:   9%|▊         | 160/1863 [00:00<06:04,  4.67batches/s]"
     ]
    },
    {
     "name": "stdout",
     "output_type": "stream",
     "text": [
      "Validation accuracy:  0.915859\n",
      "Training accuracy:  0.956615\n",
      "Test accuracy:  0.811322\n"
     ]
    },
    {
     "name": "stderr",
     "output_type": "stream",
     "text": [
      "Epoch 268/500: 100%|██████████| 1863/1863 [00:02<00:00, 666.76batches/s]\n",
      "Epoch 269/500:   5%|▍         | 84/1863 [00:00<09:01,  3.29batches/s]"
     ]
    },
    {
     "name": "stdout",
     "output_type": "stream",
     "text": [
      "Validation accuracy:  0.915349\n",
      "Training accuracy:  0.956669\n",
      "Test accuracy:  0.811401\n"
     ]
    },
    {
     "name": "stderr",
     "output_type": "stream",
     "text": [
      "Epoch 269/500: 100%|██████████| 1863/1863 [00:02<00:00, 674.99batches/s]\n",
      "Epoch 270/500:   4%|▍         | 82/1863 [00:00<08:56,  3.32batches/s]"
     ]
    },
    {
     "name": "stdout",
     "output_type": "stream",
     "text": [
      "Validation accuracy:  0.915349\n",
      "Training accuracy:  0.956803\n",
      "Test accuracy:  0.811401\n"
     ]
    },
    {
     "name": "stderr",
     "output_type": "stream",
     "text": [
      "Epoch 270/500: 100%|██████████| 1863/1863 [00:02<00:00, 687.54batches/s]\n",
      "Epoch 271/500:   4%|▍         | 80/1863 [00:00<09:16,  3.21batches/s]"
     ]
    },
    {
     "name": "stdout",
     "output_type": "stream",
     "text": [
      "Validation accuracy:  0.915349\n",
      "Training accuracy:  0.956857\n",
      "Test accuracy:  0.811322\n"
     ]
    },
    {
     "name": "stderr",
     "output_type": "stream",
     "text": [
      "Epoch 271/500: 100%|██████████| 1863/1863 [00:02<00:00, 664.53batches/s]\n",
      "Epoch 272/500:   9%|▊         | 160/1863 [00:00<06:06,  4.65batches/s]"
     ]
    },
    {
     "name": "stdout",
     "output_type": "stream",
     "text": [
      "Validation accuracy:  0.915349\n",
      "Training accuracy:  0.956884\n",
      "Test accuracy:  0.811401\n"
     ]
    },
    {
     "name": "stderr",
     "output_type": "stream",
     "text": [
      "Epoch 272/500: 100%|██████████| 1863/1863 [00:02<00:00, 681.97batches/s]\n",
      "Epoch 273/500:   8%|▊         | 150/1863 [00:00<05:54,  4.83batches/s]"
     ]
    },
    {
     "name": "stdout",
     "output_type": "stream",
     "text": [
      "Validation accuracy:  0.914839\n",
      "Training accuracy:  0.956964\n",
      "Test accuracy:  0.811481\n"
     ]
    },
    {
     "name": "stderr",
     "output_type": "stream",
     "text": [
      "Epoch 273/500: 100%|██████████| 1863/1863 [00:02<00:00, 671.79batches/s]\n",
      "Epoch 274/500:   9%|▊         | 159/1863 [00:00<06:08,  4.63batches/s]"
     ]
    },
    {
     "name": "stdout",
     "output_type": "stream",
     "text": [
      "Validation accuracy:  0.914839\n",
      "Training accuracy:  0.956991\n",
      "Test accuracy:  0.811401\n"
     ]
    },
    {
     "name": "stderr",
     "output_type": "stream",
     "text": [
      "Epoch 274/500: 100%|██████████| 1863/1863 [00:02<00:00, 675.18batches/s]\n",
      "Epoch 275/500:   9%|▉         | 164/1863 [00:00<06:07,  4.62batches/s]"
     ]
    },
    {
     "name": "stdout",
     "output_type": "stream",
     "text": [
      "Validation accuracy:  0.914839\n",
      "Training accuracy:  0.957072\n",
      "Test accuracy:  0.811481\n"
     ]
    },
    {
     "name": "stderr",
     "output_type": "stream",
     "text": [
      "Epoch 275/500: 100%|██████████| 1863/1863 [00:02<00:00, 665.80batches/s]\n",
      "Epoch 276/500:   9%|▉         | 164/1863 [00:00<06:09,  4.59batches/s]"
     ]
    },
    {
     "name": "stdout",
     "output_type": "stream",
     "text": [
      "Validation accuracy:  0.914839\n",
      "Training accuracy:  0.957125\n",
      "Test accuracy:  0.811481\n"
     ]
    },
    {
     "name": "stderr",
     "output_type": "stream",
     "text": [
      "Epoch 276/500: 100%|██████████| 1863/1863 [00:02<00:00, 657.01batches/s]\n",
      "Epoch 277/500:   4%|▍         | 80/1863 [00:00<09:03,  3.28batches/s]"
     ]
    },
    {
     "name": "stdout",
     "output_type": "stream",
     "text": [
      "Validation accuracy:  0.914839\n",
      "Training accuracy:  0.957286\n",
      "Test accuracy:  0.811401\n"
     ]
    },
    {
     "name": "stderr",
     "output_type": "stream",
     "text": [
      "Epoch 277/500: 100%|██████████| 1863/1863 [00:02<00:00, 670.50batches/s]\n",
      "Epoch 278/500:   9%|▉         | 165/1863 [00:00<06:02,  4.68batches/s]"
     ]
    },
    {
     "name": "stdout",
     "output_type": "stream",
     "text": [
      "Validation accuracy:  0.915349\n",
      "Training accuracy:  0.95734\n",
      "Test accuracy:  0.811481\n"
     ]
    },
    {
     "name": "stderr",
     "output_type": "stream",
     "text": [
      "Epoch 278/500: 100%|██████████| 1863/1863 [00:02<00:00, 678.75batches/s]\n",
      "Epoch 279/500:   9%|▉         | 165/1863 [00:00<06:06,  4.63batches/s]"
     ]
    },
    {
     "name": "stdout",
     "output_type": "stream",
     "text": [
      "Validation accuracy:  0.914839\n",
      "Training accuracy:  0.95734\n",
      "Test accuracy:  0.811481\n"
     ]
    },
    {
     "name": "stderr",
     "output_type": "stream",
     "text": [
      "Epoch 279/500: 100%|██████████| 1863/1863 [00:02<00:00, 683.51batches/s]\n",
      "Epoch 280/500:   4%|▍         | 75/1863 [00:00<08:45,  3.40batches/s]"
     ]
    },
    {
     "name": "stdout",
     "output_type": "stream",
     "text": [
      "Validation accuracy:  0.914839\n",
      "Training accuracy:  0.957367\n",
      "Test accuracy:  0.811401\n"
     ]
    },
    {
     "name": "stderr",
     "output_type": "stream",
     "text": [
      "Epoch 280/500: 100%|██████████| 1863/1863 [00:02<00:00, 678.75batches/s]\n",
      "Epoch 281/500:   8%|▊         | 157/1863 [00:00<06:02,  4.70batches/s]"
     ]
    },
    {
     "name": "stdout",
     "output_type": "stream",
     "text": [
      "Validation accuracy:  0.914839\n",
      "Training accuracy:  0.957421\n",
      "Test accuracy:  0.811322\n"
     ]
    },
    {
     "name": "stderr",
     "output_type": "stream",
     "text": [
      "Epoch 281/500: 100%|██████████| 1863/1863 [00:02<00:00, 658.77batches/s]\n",
      "Epoch 282/500:   7%|▋         | 135/1863 [00:00<06:20,  4.54batches/s]"
     ]
    },
    {
     "name": "stdout",
     "output_type": "stream",
     "text": [
      "Validation accuracy:  0.914839\n",
      "Training accuracy:  0.957421\n",
      "Test accuracy:  0.811322\n"
     ]
    },
    {
     "name": "stderr",
     "output_type": "stream",
     "text": [
      "Epoch 282/500: 100%|██████████| 1863/1863 [00:03<00:00, 543.77batches/s]\n",
      "Epoch 283/500:   8%|▊         | 146/1863 [00:00<06:42,  4.27batches/s]"
     ]
    },
    {
     "name": "stdout",
     "output_type": "stream",
     "text": [
      "Validation accuracy:  0.914839\n",
      "Training accuracy:  0.957474\n",
      "Test accuracy:  0.811401\n"
     ]
    },
    {
     "name": "stderr",
     "output_type": "stream",
     "text": [
      "Epoch 283/500: 100%|██████████| 1863/1863 [00:03<00:00, 577.02batches/s]\n",
      "Epoch 284/500:   8%|▊         | 148/1863 [00:00<06:36,  4.33batches/s]"
     ]
    },
    {
     "name": "stdout",
     "output_type": "stream",
     "text": [
      "Validation accuracy:  0.914839\n",
      "Training accuracy:  0.957555\n",
      "Test accuracy:  0.811401\n"
     ]
    },
    {
     "name": "stderr",
     "output_type": "stream",
     "text": [
      "Epoch 284/500: 100%|██████████| 1863/1863 [00:02<00:00, 623.65batches/s]\n",
      "Epoch 285/500:   8%|▊         | 151/1863 [00:00<06:16,  4.54batches/s]"
     ]
    },
    {
     "name": "stdout",
     "output_type": "stream",
     "text": [
      "Validation accuracy:  0.914839\n",
      "Training accuracy:  0.957635\n",
      "Test accuracy:  0.811481\n"
     ]
    },
    {
     "name": "stderr",
     "output_type": "stream",
     "text": [
      "Epoch 285/500: 100%|██████████| 1863/1863 [00:02<00:00, 638.13batches/s]\n",
      "Epoch 286/500:   9%|▉         | 165/1863 [00:00<06:04,  4.66batches/s]"
     ]
    },
    {
     "name": "stdout",
     "output_type": "stream",
     "text": [
      "Validation accuracy:  0.914839\n",
      "Training accuracy:  0.957608\n",
      "Test accuracy:  0.811481\n"
     ]
    },
    {
     "name": "stderr",
     "output_type": "stream",
     "text": [
      "Epoch 286/500: 100%|██████████| 1863/1863 [00:02<00:00, 684.29batches/s]\n",
      "Epoch 287/500:   8%|▊         | 155/1863 [00:00<06:02,  4.71batches/s]"
     ]
    },
    {
     "name": "stdout",
     "output_type": "stream",
     "text": [
      "Validation accuracy:  0.914839\n",
      "Training accuracy:  0.957662\n",
      "Test accuracy:  0.811481\n"
     ]
    },
    {
     "name": "stderr",
     "output_type": "stream",
     "text": [
      "Epoch 287/500: 100%|██████████| 1863/1863 [00:03<00:00, 595.34batches/s]\n",
      "Epoch 288/500:   6%|▌         | 107/1863 [00:00<07:14,  4.04batches/s]"
     ]
    },
    {
     "name": "stdout",
     "output_type": "stream",
     "text": [
      "Validation accuracy:  0.914839\n",
      "Training accuracy:  0.95777\n",
      "Test accuracy:  0.811401\n"
     ]
    },
    {
     "name": "stderr",
     "output_type": "stream",
     "text": [
      "Epoch 288/500: 100%|██████████| 1863/1863 [00:03<00:00, 553.69batches/s]\n",
      "Epoch 289/500:   8%|▊         | 142/1863 [00:00<06:37,  4.33batches/s]"
     ]
    },
    {
     "name": "stdout",
     "output_type": "stream",
     "text": [
      "Validation accuracy:  0.914839\n",
      "Training accuracy:  0.957796\n",
      "Test accuracy:  0.811322\n"
     ]
    },
    {
     "name": "stderr",
     "output_type": "stream",
     "text": [
      "Epoch 289/500: 100%|██████████| 1863/1863 [00:02<00:00, 638.48batches/s]\n",
      "Epoch 290/500:   8%|▊         | 151/1863 [00:00<06:10,  4.62batches/s]"
     ]
    },
    {
     "name": "stdout",
     "output_type": "stream",
     "text": [
      "Validation accuracy:  0.915859\n",
      "Training accuracy:  0.957823\n",
      "Test accuracy:  0.811481\n"
     ]
    },
    {
     "name": "stderr",
     "output_type": "stream",
     "text": [
      "Epoch 290/500: 100%|██████████| 1863/1863 [00:02<00:00, 658.98batches/s]\n",
      "Epoch 291/500:   4%|▍         | 81/1863 [00:00<09:42,  3.06batches/s]"
     ]
    },
    {
     "name": "stdout",
     "output_type": "stream",
     "text": [
      "Validation accuracy:  0.915859\n",
      "Training accuracy:  0.95785\n",
      "Test accuracy:  0.81156\n"
     ]
    },
    {
     "name": "stderr",
     "output_type": "stream",
     "text": [
      "Epoch 291/500: 100%|██████████| 1863/1863 [00:02<00:00, 627.59batches/s]\n",
      "Epoch 292/500:   4%|▍         | 78/1863 [00:00<09:28,  3.14batches/s]"
     ]
    },
    {
     "name": "stdout",
     "output_type": "stream",
     "text": [
      "Validation accuracy:  0.915859\n",
      "Training accuracy:  0.957931\n",
      "Test accuracy:  0.811481\n"
     ]
    },
    {
     "name": "stderr",
     "output_type": "stream",
     "text": [
      "Epoch 292/500: 100%|██████████| 1863/1863 [00:02<00:00, 654.67batches/s]\n",
      "Epoch 293/500:   4%|▍         | 72/1863 [00:00<09:55,  3.01batches/s]"
     ]
    },
    {
     "name": "stdout",
     "output_type": "stream",
     "text": [
      "Validation accuracy:  0.915859\n",
      "Training accuracy:  0.957984\n",
      "Test accuracy:  0.811797\n"
     ]
    },
    {
     "name": "stderr",
     "output_type": "stream",
     "text": [
      "Epoch 293/500: 100%|██████████| 1863/1863 [00:02<00:00, 630.31batches/s]\n",
      "Epoch 294/500:   8%|▊         | 154/1863 [00:00<06:23,  4.46batches/s]"
     ]
    },
    {
     "name": "stdout",
     "output_type": "stream",
     "text": [
      "Validation accuracy:  0.915859\n",
      "Training accuracy:  0.958038\n",
      "Test accuracy:  0.811718\n"
     ]
    },
    {
     "name": "stderr",
     "output_type": "stream",
     "text": [
      "Epoch 294/500: 100%|██████████| 1863/1863 [00:02<00:00, 670.76batches/s]\n",
      "Epoch 295/500:   9%|▉         | 165/1863 [00:00<05:57,  4.75batches/s]"
     ]
    },
    {
     "name": "stdout",
     "output_type": "stream",
     "text": [
      "Validation accuracy:  0.915859\n",
      "Training accuracy:  0.958092\n",
      "Test accuracy:  0.811876\n"
     ]
    },
    {
     "name": "stderr",
     "output_type": "stream",
     "text": [
      "Epoch 295/500: 100%|██████████| 1863/1863 [00:03<00:00, 618.67batches/s]\n",
      "Epoch 296/500:   7%|▋         | 123/1863 [00:00<06:31,  4.44batches/s]"
     ]
    },
    {
     "name": "stdout",
     "output_type": "stream",
     "text": [
      "Validation accuracy:  0.915859\n",
      "Training accuracy:  0.958092\n",
      "Test accuracy:  0.812114\n"
     ]
    },
    {
     "name": "stderr",
     "output_type": "stream",
     "text": [
      "Epoch 296/500: 100%|██████████| 1863/1863 [00:03<00:00, 528.74batches/s]\n",
      "Epoch 297/500:   7%|▋         | 133/1863 [00:00<07:00,  4.11batches/s]"
     ]
    },
    {
     "name": "stdout",
     "output_type": "stream",
     "text": [
      "Validation accuracy:  0.915859\n",
      "Training accuracy:  0.958199\n",
      "Test accuracy:  0.812193\n"
     ]
    },
    {
     "name": "stderr",
     "output_type": "stream",
     "text": [
      "Epoch 297/500: 100%|██████████| 1863/1863 [00:03<00:00, 567.43batches/s]\n",
      "Epoch 298/500:   4%|▍         | 75/1863 [00:00<09:26,  3.16batches/s]"
     ]
    },
    {
     "name": "stdout",
     "output_type": "stream",
     "text": [
      "Validation accuracy:  0.915859\n",
      "Training accuracy:  0.958226\n",
      "Test accuracy:  0.812352\n"
     ]
    },
    {
     "name": "stderr",
     "output_type": "stream",
     "text": [
      "Epoch 298/500: 100%|██████████| 1863/1863 [00:02<00:00, 632.51batches/s]\n",
      "Epoch 299/500:   8%|▊         | 157/1863 [00:00<06:08,  4.63batches/s]"
     ]
    },
    {
     "name": "stdout",
     "output_type": "stream",
     "text": [
      "Validation accuracy:  0.915859\n",
      "Training accuracy:  0.958172\n",
      "Test accuracy:  0.812272\n"
     ]
    },
    {
     "name": "stderr",
     "output_type": "stream",
     "text": [
      "Epoch 299/500: 100%|██████████| 1863/1863 [00:02<00:00, 637.44batches/s]\n",
      "Epoch 300/500:   8%|▊         | 156/1863 [00:00<06:18,  4.50batches/s]"
     ]
    },
    {
     "name": "stdout",
     "output_type": "stream",
     "text": [
      "Validation accuracy:  0.915859\n",
      "Training accuracy:  0.958199\n",
      "Test accuracy:  0.812114\n"
     ]
    },
    {
     "name": "stderr",
     "output_type": "stream",
     "text": [
      "Epoch 300/500: 100%|██████████| 1863/1863 [00:02<00:00, 645.75batches/s]\n",
      "Epoch 301/500:   4%|▍         | 72/1863 [00:00<09:47,  3.05batches/s]"
     ]
    },
    {
     "name": "stdout",
     "output_type": "stream",
     "text": [
      "Validation accuracy:  0.915859\n",
      "Training accuracy:  0.958306\n",
      "Test accuracy:  0.812193\n"
     ]
    },
    {
     "name": "stderr",
     "output_type": "stream",
     "text": [
      "Epoch 301/500: 100%|██████████| 1863/1863 [00:02<00:00, 623.59batches/s]\n",
      "Epoch 302/500:   4%|▍         | 76/1863 [00:00<09:18,  3.20batches/s]"
     ]
    },
    {
     "name": "stdout",
     "output_type": "stream",
     "text": [
      "Validation accuracy:  0.915859\n",
      "Training accuracy:  0.958306\n",
      "Test accuracy:  0.812193\n"
     ]
    },
    {
     "name": "stderr",
     "output_type": "stream",
     "text": [
      "Epoch 302/500: 100%|██████████| 1863/1863 [00:02<00:00, 634.96batches/s]\n",
      "Epoch 303/500:   8%|▊         | 143/1863 [00:00<06:24,  4.47batches/s]"
     ]
    },
    {
     "name": "stdout",
     "output_type": "stream",
     "text": [
      "Validation accuracy:  0.916879\n",
      "Training accuracy:  0.958306\n",
      "Test accuracy:  0.812272\n"
     ]
    },
    {
     "name": "stderr",
     "output_type": "stream",
     "text": [
      "Epoch 303/500: 100%|██████████| 1863/1863 [00:03<00:00, 576.35batches/s]\n",
      "Epoch 304/500:   6%|▋         | 117/1863 [00:00<06:55,  4.20batches/s]"
     ]
    },
    {
     "name": "stdout",
     "output_type": "stream",
     "text": [
      "Validation accuracy:  0.916879\n",
      "Training accuracy:  0.958414\n",
      "Test accuracy:  0.812272\n"
     ]
    },
    {
     "name": "stderr",
     "output_type": "stream",
     "text": [
      "Epoch 304/500: 100%|██████████| 1863/1863 [00:03<00:00, 545.83batches/s]\n",
      "Epoch 305/500:   4%|▍         | 74/1863 [00:00<10:01,  2.97batches/s]"
     ]
    },
    {
     "name": "stdout",
     "output_type": "stream",
     "text": [
      "Validation accuracy:  0.917389\n",
      "Training accuracy:  0.958521\n",
      "Test accuracy:  0.812114\n"
     ]
    },
    {
     "name": "stderr",
     "output_type": "stream",
     "text": [
      "Epoch 305/500: 100%|██████████| 1863/1863 [00:03<00:00, 591.13batches/s]\n",
      "Epoch 306/500:   7%|▋         | 133/1863 [00:00<06:35,  4.37batches/s]"
     ]
    },
    {
     "name": "stdout",
     "output_type": "stream",
     "text": [
      "Validation accuracy:  0.917389\n",
      "Training accuracy:  0.958548\n",
      "Test accuracy:  0.812272\n"
     ]
    },
    {
     "name": "stderr",
     "output_type": "stream",
     "text": [
      "Epoch 306/500: 100%|██████████| 1863/1863 [00:03<00:00, 510.40batches/s]\n",
      "Epoch 307/500:   6%|▌         | 113/1863 [00:00<08:27,  3.45batches/s]"
     ]
    },
    {
     "name": "stdout",
     "output_type": "stream",
     "text": [
      "Validation accuracy:  0.917389\n",
      "Training accuracy:  0.958575\n",
      "Test accuracy:  0.812193\n"
     ]
    },
    {
     "name": "stderr",
     "output_type": "stream",
     "text": [
      "Epoch 307/500: 100%|██████████| 1863/1863 [00:03<00:00, 490.44batches/s]\n",
      "Epoch 308/500:   7%|▋         | 128/1863 [00:00<08:20,  3.47batches/s]"
     ]
    },
    {
     "name": "stdout",
     "output_type": "stream",
     "text": [
      "Validation accuracy:  0.917389\n",
      "Training accuracy:  0.958655\n",
      "Test accuracy:  0.812114\n"
     ]
    },
    {
     "name": "stderr",
     "output_type": "stream",
     "text": [
      "Epoch 308/500: 100%|██████████| 1863/1863 [00:03<00:00, 470.33batches/s]\n",
      "Epoch 309/500:   3%|▎         | 65/1863 [00:00<11:20,  2.64batches/s]"
     ]
    },
    {
     "name": "stdout",
     "output_type": "stream",
     "text": [
      "Validation accuracy:  0.917389\n",
      "Training accuracy:  0.958709\n",
      "Test accuracy:  0.812114\n"
     ]
    },
    {
     "name": "stderr",
     "output_type": "stream",
     "text": [
      "Epoch 309/500: 100%|██████████| 1863/1863 [00:03<00:00, 518.23batches/s]\n",
      "Epoch 310/500:   8%|▊         | 141/1863 [00:00<06:57,  4.12batches/s]"
     ]
    },
    {
     "name": "stdout",
     "output_type": "stream",
     "text": [
      "Validation accuracy:  0.917899\n",
      "Training accuracy:  0.958736\n",
      "Test accuracy:  0.812035\n"
     ]
    },
    {
     "name": "stderr",
     "output_type": "stream",
     "text": [
      "Epoch 310/500: 100%|██████████| 1863/1863 [00:03<00:00, 576.50batches/s]\n",
      "Epoch 311/500:   3%|▎         | 55/1863 [00:00<10:49,  2.78batches/s]"
     ]
    },
    {
     "name": "stdout",
     "output_type": "stream",
     "text": [
      "Validation accuracy:  0.917899\n",
      "Training accuracy:  0.958709\n",
      "Test accuracy:  0.811956\n"
     ]
    },
    {
     "name": "stderr",
     "output_type": "stream",
     "text": [
      "Epoch 311/500: 100%|██████████| 1863/1863 [00:03<00:00, 555.20batches/s]\n",
      "Epoch 312/500:   4%|▍         | 73/1863 [00:00<10:07,  2.95batches/s]"
     ]
    },
    {
     "name": "stdout",
     "output_type": "stream",
     "text": [
      "Validation accuracy:  0.917899\n",
      "Training accuracy:  0.958736\n",
      "Test accuracy:  0.811876\n"
     ]
    },
    {
     "name": "stderr",
     "output_type": "stream",
     "text": [
      "Epoch 312/500: 100%|██████████| 1863/1863 [00:03<00:00, 587.00batches/s]\n",
      "Epoch 313/500:   4%|▍         | 74/1863 [00:00<09:47,  3.04batches/s]"
     ]
    },
    {
     "name": "stdout",
     "output_type": "stream",
     "text": [
      "Validation accuracy:  0.917899\n",
      "Training accuracy:  0.958763\n",
      "Test accuracy:  0.811876\n"
     ]
    },
    {
     "name": "stderr",
     "output_type": "stream",
     "text": [
      "Epoch 313/500: 100%|██████████| 1863/1863 [00:03<00:00, 614.61batches/s]\n",
      "Epoch 314/500:   7%|▋         | 136/1863 [00:00<06:58,  4.13batches/s]"
     ]
    },
    {
     "name": "stdout",
     "output_type": "stream",
     "text": [
      "Validation accuracy:  0.917899\n",
      "Training accuracy:  0.958843\n",
      "Test accuracy:  0.811876\n"
     ]
    },
    {
     "name": "stderr",
     "output_type": "stream",
     "text": [
      "Epoch 314/500: 100%|██████████| 1863/1863 [00:03<00:00, 573.79batches/s]\n",
      "Epoch 315/500:   6%|▌         | 112/1863 [00:00<08:22,  3.49batches/s]"
     ]
    },
    {
     "name": "stdout",
     "output_type": "stream",
     "text": [
      "Validation accuracy:  0.917899\n",
      "Training accuracy:  0.958924\n",
      "Test accuracy:  0.811797\n"
     ]
    },
    {
     "name": "stderr",
     "output_type": "stream",
     "text": [
      "Epoch 315/500: 100%|██████████| 1863/1863 [00:03<00:00, 494.52batches/s]\n",
      "Epoch 316/500:   6%|▋         | 119/1863 [00:00<07:51,  3.70batches/s]"
     ]
    },
    {
     "name": "stdout",
     "output_type": "stream",
     "text": [
      "Validation accuracy:  0.917899\n",
      "Training accuracy:  0.958978\n",
      "Test accuracy:  0.811797\n"
     ]
    },
    {
     "name": "stderr",
     "output_type": "stream",
     "text": [
      "Epoch 316/500: 100%|██████████| 1863/1863 [00:03<00:00, 483.88batches/s]\n",
      "Epoch 317/500:   6%|▌         | 110/1863 [00:00<08:11,  3.57batches/s]"
     ]
    },
    {
     "name": "stdout",
     "output_type": "stream",
     "text": [
      "Validation accuracy:  0.918409\n",
      "Training accuracy:  0.959005\n",
      "Test accuracy:  0.811718\n"
     ]
    },
    {
     "name": "stderr",
     "output_type": "stream",
     "text": [
      "Epoch 317/500: 100%|██████████| 1863/1863 [00:03<00:00, 505.40batches/s]\n",
      "Epoch 318/500:   7%|▋         | 122/1863 [00:00<07:26,  3.90batches/s]"
     ]
    },
    {
     "name": "stdout",
     "output_type": "stream",
     "text": [
      "Validation accuracy:  0.918409\n",
      "Training accuracy:  0.959005\n",
      "Test accuracy:  0.811956\n"
     ]
    },
    {
     "name": "stderr",
     "output_type": "stream",
     "text": [
      "Epoch 318/500: 100%|██████████| 1863/1863 [00:03<00:00, 553.56batches/s]\n",
      "Epoch 319/500:   7%|▋         | 136/1863 [00:00<06:47,  4.24batches/s]"
     ]
    },
    {
     "name": "stdout",
     "output_type": "stream",
     "text": [
      "Validation accuracy:  0.918409\n",
      "Training accuracy:  0.959031\n",
      "Test accuracy:  0.811956\n"
     ]
    },
    {
     "name": "stderr",
     "output_type": "stream",
     "text": [
      "Epoch 319/500: 100%|██████████| 1863/1863 [00:03<00:00, 575.49batches/s]\n",
      "Epoch 320/500:   7%|▋         | 136/1863 [00:00<06:51,  4.20batches/s]"
     ]
    },
    {
     "name": "stdout",
     "output_type": "stream",
     "text": [
      "Validation accuracy:  0.918409\n",
      "Training accuracy:  0.959112\n",
      "Test accuracy:  0.811876\n"
     ]
    },
    {
     "name": "stderr",
     "output_type": "stream",
     "text": [
      "Epoch 320/500: 100%|██████████| 1863/1863 [00:03<00:00, 567.33batches/s]\n",
      "Epoch 321/500:   7%|▋         | 126/1863 [00:00<07:57,  3.64batches/s]"
     ]
    },
    {
     "name": "stdout",
     "output_type": "stream",
     "text": [
      "Validation accuracy:  0.918409\n",
      "Training accuracy:  0.959166\n",
      "Test accuracy:  0.811797\n"
     ]
    },
    {
     "name": "stderr",
     "output_type": "stream",
     "text": [
      "Epoch 321/500: 100%|██████████| 1863/1863 [00:03<00:00, 529.74batches/s]\n",
      "Epoch 322/500:   4%|▎         | 68/1863 [00:00<10:23,  2.88batches/s]"
     ]
    },
    {
     "name": "stdout",
     "output_type": "stream",
     "text": [
      "Validation accuracy:  0.917899\n",
      "Training accuracy:  0.959192\n",
      "Test accuracy:  0.811718\n"
     ]
    },
    {
     "name": "stderr",
     "output_type": "stream",
     "text": [
      "Epoch 322/500: 100%|██████████| 1863/1863 [00:03<00:00, 518.07batches/s]\n",
      "Epoch 323/500:   7%|▋         | 130/1863 [00:00<07:11,  4.01batches/s]"
     ]
    },
    {
     "name": "stdout",
     "output_type": "stream",
     "text": [
      "Validation accuracy:  0.917899\n",
      "Training accuracy:  0.959219\n",
      "Test accuracy:  0.811639\n"
     ]
    },
    {
     "name": "stderr",
     "output_type": "stream",
     "text": [
      "Epoch 323/500: 100%|██████████| 1863/1863 [00:03<00:00, 544.24batches/s]\n",
      "Epoch 324/500:   7%|▋         | 125/1863 [00:00<07:19,  3.95batches/s]"
     ]
    },
    {
     "name": "stdout",
     "output_type": "stream",
     "text": [
      "Validation accuracy:  0.917899\n",
      "Training accuracy:  0.959273\n",
      "Test accuracy:  0.811639\n"
     ]
    },
    {
     "name": "stderr",
     "output_type": "stream",
     "text": [
      "Epoch 324/500: 100%|██████████| 1863/1863 [00:03<00:00, 516.40batches/s]\n",
      "Epoch 325/500:   3%|▎         | 56/1863 [00:00<10:53,  2.77batches/s]"
     ]
    },
    {
     "name": "stdout",
     "output_type": "stream",
     "text": [
      "Validation accuracy:  0.918409\n",
      "Training accuracy:  0.9593\n",
      "Test accuracy:  0.81156\n"
     ]
    },
    {
     "name": "stderr",
     "output_type": "stream",
     "text": [
      "Epoch 325/500: 100%|██████████| 1863/1863 [00:03<00:00, 505.95batches/s]\n",
      "Epoch 326/500:   6%|▋         | 119/1863 [00:00<07:17,  3.99batches/s]"
     ]
    },
    {
     "name": "stdout",
     "output_type": "stream",
     "text": [
      "Validation accuracy:  0.918409\n",
      "Training accuracy:  0.9593\n",
      "Test accuracy:  0.811639\n"
     ]
    },
    {
     "name": "stderr",
     "output_type": "stream",
     "text": [
      "Epoch 326/500: 100%|██████████| 1863/1863 [00:03<00:00, 513.73batches/s]\n",
      "Epoch 327/500:   7%|▋         | 122/1863 [00:00<07:19,  3.96batches/s]"
     ]
    },
    {
     "name": "stdout",
     "output_type": "stream",
     "text": [
      "Validation accuracy:  0.918409\n",
      "Training accuracy:  0.9593\n",
      "Test accuracy:  0.811797\n"
     ]
    },
    {
     "name": "stderr",
     "output_type": "stream",
     "text": [
      "Epoch 327/500: 100%|██████████| 1863/1863 [00:03<00:00, 546.30batches/s]\n",
      "Epoch 328/500:   7%|▋         | 127/1863 [00:00<07:38,  3.79batches/s]"
     ]
    },
    {
     "name": "stdout",
     "output_type": "stream",
     "text": [
      "Validation accuracy:  0.918409\n",
      "Training accuracy:  0.9593\n",
      "Test accuracy:  0.811718\n"
     ]
    },
    {
     "name": "stderr",
     "output_type": "stream",
     "text": [
      "Epoch 328/500: 100%|██████████| 1863/1863 [00:03<00:00, 510.40batches/s]\n",
      "Epoch 329/500:   6%|▌         | 114/1863 [00:00<07:18,  3.98batches/s]"
     ]
    },
    {
     "name": "stdout",
     "output_type": "stream",
     "text": [
      "Validation accuracy:  0.918409\n",
      "Training accuracy:  0.959407\n",
      "Test accuracy:  0.811876\n"
     ]
    },
    {
     "name": "stderr",
     "output_type": "stream",
     "text": [
      "Epoch 329/500: 100%|██████████| 1863/1863 [00:03<00:00, 505.69batches/s]\n",
      "Epoch 330/500:   6%|▋         | 121/1863 [00:00<07:28,  3.88batches/s]"
     ]
    },
    {
     "name": "stdout",
     "output_type": "stream",
     "text": [
      "Validation accuracy:  0.918409\n",
      "Training accuracy:  0.959461\n",
      "Test accuracy:  0.811797\n"
     ]
    },
    {
     "name": "stderr",
     "output_type": "stream",
     "text": [
      "Epoch 330/500: 100%|██████████| 1863/1863 [00:04<00:00, 457.94batches/s]\n",
      "Epoch 331/500:   3%|▎         | 60/1863 [00:00<11:31,  2.61batches/s]"
     ]
    },
    {
     "name": "stdout",
     "output_type": "stream",
     "text": [
      "Validation accuracy:  0.917899\n",
      "Training accuracy:  0.959541\n",
      "Test accuracy:  0.811797\n"
     ]
    },
    {
     "name": "stderr",
     "output_type": "stream",
     "text": [
      "Epoch 331/500: 100%|██████████| 1863/1863 [00:03<00:00, 506.34batches/s]\n",
      "Epoch 332/500:   3%|▎         | 62/1863 [00:00<10:55,  2.75batches/s]"
     ]
    },
    {
     "name": "stdout",
     "output_type": "stream",
     "text": [
      "Validation accuracy:  0.917899\n",
      "Training accuracy:  0.959568\n",
      "Test accuracy:  0.811718\n"
     ]
    },
    {
     "name": "stderr",
     "output_type": "stream",
     "text": [
      "Epoch 332/500: 100%|██████████| 1863/1863 [00:03<00:00, 582.34batches/s]\n",
      "Epoch 333/500:   4%|▍         | 83/1863 [00:00<09:08,  3.24batches/s]"
     ]
    },
    {
     "name": "stdout",
     "output_type": "stream",
     "text": [
      "Validation accuracy:  0.917899\n",
      "Training accuracy:  0.959595\n",
      "Test accuracy:  0.81156\n"
     ]
    },
    {
     "name": "stderr",
     "output_type": "stream",
     "text": [
      "Epoch 333/500: 100%|██████████| 1863/1863 [00:02<00:00, 634.65batches/s]\n",
      "Epoch 334/500:   8%|▊         | 156/1863 [00:00<06:16,  4.54batches/s]"
     ]
    },
    {
     "name": "stdout",
     "output_type": "stream",
     "text": [
      "Validation accuracy:  0.917389\n",
      "Training accuracy:  0.959676\n",
      "Test accuracy:  0.81156\n"
     ]
    },
    {
     "name": "stderr",
     "output_type": "stream",
     "text": [
      "Epoch 334/500: 100%|██████████| 1863/1863 [00:02<00:00, 676.91batches/s]\n",
      "Epoch 335/500:   9%|▉         | 164/1863 [00:00<05:56,  4.77batches/s]"
     ]
    },
    {
     "name": "stdout",
     "output_type": "stream",
     "text": [
      "Validation accuracy:  0.917389\n",
      "Training accuracy:  0.959703\n",
      "Test accuracy:  0.811481\n"
     ]
    },
    {
     "name": "stderr",
     "output_type": "stream",
     "text": [
      "Epoch 335/500: 100%|██████████| 1863/1863 [00:02<00:00, 667.26batches/s]\n",
      "Epoch 336/500:   8%|▊         | 149/1863 [00:00<06:13,  4.59batches/s]"
     ]
    },
    {
     "name": "stdout",
     "output_type": "stream",
     "text": [
      "Validation accuracy:  0.917389\n",
      "Training accuracy:  0.959756\n",
      "Test accuracy:  0.81156\n"
     ]
    },
    {
     "name": "stderr",
     "output_type": "stream",
     "text": [
      "Epoch 336/500: 100%|██████████| 1863/1863 [00:03<00:00, 618.25batches/s]\n",
      "Epoch 337/500:   7%|▋         | 134/1863 [00:00<07:06,  4.05batches/s]"
     ]
    },
    {
     "name": "stdout",
     "output_type": "stream",
     "text": [
      "Validation accuracy:  0.917389\n",
      "Training accuracy:  0.959756\n",
      "Test accuracy:  0.81156\n"
     ]
    },
    {
     "name": "stderr",
     "output_type": "stream",
     "text": [
      "Epoch 337/500: 100%|██████████| 1863/1863 [00:03<00:00, 606.22batches/s]\n",
      "Epoch 338/500:   4%|▎         | 69/1863 [00:00<09:24,  3.18batches/s]"
     ]
    },
    {
     "name": "stdout",
     "output_type": "stream",
     "text": [
      "Validation accuracy:  0.917899\n",
      "Training accuracy:  0.959729\n",
      "Test accuracy:  0.81156\n"
     ]
    },
    {
     "name": "stderr",
     "output_type": "stream",
     "text": [
      "Epoch 338/500: 100%|██████████| 1863/1863 [00:03<00:00, 601.38batches/s]\n",
      "Epoch 339/500:   8%|▊         | 140/1863 [00:00<07:10,  4.00batches/s]"
     ]
    },
    {
     "name": "stdout",
     "output_type": "stream",
     "text": [
      "Validation accuracy:  0.917899\n",
      "Training accuracy:  0.959783\n",
      "Test accuracy:  0.811401\n"
     ]
    },
    {
     "name": "stderr",
     "output_type": "stream",
     "text": [
      "Epoch 339/500: 100%|██████████| 1863/1863 [00:03<00:00, 582.30batches/s]\n",
      "Epoch 340/500:   7%|▋         | 129/1863 [00:00<07:08,  4.05batches/s]"
     ]
    },
    {
     "name": "stdout",
     "output_type": "stream",
     "text": [
      "Validation accuracy:  0.917899\n",
      "Training accuracy:  0.959837\n",
      "Test accuracy:  0.811481\n"
     ]
    },
    {
     "name": "stderr",
     "output_type": "stream",
     "text": [
      "Epoch 340/500: 100%|██████████| 1863/1863 [00:03<00:00, 561.68batches/s]\n",
      "Epoch 341/500:   7%|▋         | 136/1863 [00:00<06:37,  4.34batches/s]"
     ]
    },
    {
     "name": "stdout",
     "output_type": "stream",
     "text": [
      "Validation accuracy:  0.917899\n",
      "Training accuracy:  0.959917\n",
      "Test accuracy:  0.811481\n"
     ]
    },
    {
     "name": "stderr",
     "output_type": "stream",
     "text": [
      "Epoch 341/500: 100%|██████████| 1863/1863 [00:03<00:00, 546.62batches/s]\n",
      "Epoch 342/500:   8%|▊         | 142/1863 [00:00<07:04,  4.06batches/s]"
     ]
    },
    {
     "name": "stdout",
     "output_type": "stream",
     "text": [
      "Validation accuracy:  0.917899\n",
      "Training accuracy:  0.960025\n",
      "Test accuracy:  0.811639\n"
     ]
    },
    {
     "name": "stderr",
     "output_type": "stream",
     "text": [
      "Epoch 342/500: 100%|██████████| 1863/1863 [00:03<00:00, 591.30batches/s]\n",
      "Epoch 343/500:   8%|▊         | 149/1863 [00:00<06:36,  4.32batches/s]"
     ]
    },
    {
     "name": "stdout",
     "output_type": "stream",
     "text": [
      "Validation accuracy:  0.917899\n",
      "Training accuracy:  0.960025\n",
      "Test accuracy:  0.81156\n"
     ]
    },
    {
     "name": "stderr",
     "output_type": "stream",
     "text": [
      "Epoch 343/500: 100%|██████████| 1863/1863 [00:02<00:00, 642.12batches/s]\n",
      "Epoch 344/500:   4%|▍         | 81/1863 [00:00<09:26,  3.15batches/s]"
     ]
    },
    {
     "name": "stdout",
     "output_type": "stream",
     "text": [
      "Validation accuracy:  0.917899\n",
      "Training accuracy:  0.960052\n",
      "Test accuracy:  0.81156\n"
     ]
    },
    {
     "name": "stderr",
     "output_type": "stream",
     "text": [
      "Epoch 344/500: 100%|██████████| 1863/1863 [00:02<00:00, 625.95batches/s]\n",
      "Epoch 345/500:   8%|▊         | 148/1863 [00:00<06:40,  4.28batches/s]"
     ]
    },
    {
     "name": "stdout",
     "output_type": "stream",
     "text": [
      "Validation accuracy:  0.917899\n",
      "Training accuracy:  0.960132\n",
      "Test accuracy:  0.811481\n"
     ]
    },
    {
     "name": "stderr",
     "output_type": "stream",
     "text": [
      "Epoch 345/500: 100%|██████████| 1863/1863 [00:02<00:00, 645.35batches/s]\n",
      "Epoch 346/500:   4%|▍         | 78/1863 [00:00<09:37,  3.09batches/s]"
     ]
    },
    {
     "name": "stdout",
     "output_type": "stream",
     "text": [
      "Validation accuracy:  0.917899\n",
      "Training accuracy:  0.960159\n",
      "Test accuracy:  0.811481\n"
     ]
    },
    {
     "name": "stderr",
     "output_type": "stream",
     "text": [
      "Epoch 346/500: 100%|██████████| 1863/1863 [00:02<00:00, 649.69batches/s]\n",
      "Epoch 347/500:   9%|▉         | 164/1863 [00:00<06:39,  4.25batches/s]"
     ]
    },
    {
     "name": "stdout",
     "output_type": "stream",
     "text": [
      "Validation accuracy:  0.917899\n",
      "Training accuracy:  0.960239\n",
      "Test accuracy:  0.81156\n"
     ]
    },
    {
     "name": "stderr",
     "output_type": "stream",
     "text": [
      "Epoch 347/500: 100%|██████████| 1863/1863 [00:03<00:00, 605.69batches/s]\n",
      "Epoch 348/500:   6%|▌         | 109/1863 [00:00<07:35,  3.85batches/s]"
     ]
    },
    {
     "name": "stdout",
     "output_type": "stream",
     "text": [
      "Validation accuracy:  0.917899\n",
      "Training accuracy:  0.960293\n",
      "Test accuracy:  0.811718\n"
     ]
    },
    {
     "name": "stderr",
     "output_type": "stream",
     "text": [
      "Epoch 348/500: 100%|██████████| 1863/1863 [00:03<00:00, 478.22batches/s]\n",
      "Epoch 349/500:   5%|▍         | 93/1863 [00:00<08:37,  3.42batches/s]"
     ]
    },
    {
     "name": "stdout",
     "output_type": "stream",
     "text": [
      "Validation accuracy:  0.917899\n",
      "Training accuracy:  0.960401\n",
      "Test accuracy:  0.811718\n"
     ]
    },
    {
     "name": "stderr",
     "output_type": "stream",
     "text": [
      "Epoch 349/500: 100%|██████████| 1863/1863 [00:04<00:00, 391.58batches/s]\n",
      "Epoch 350/500:   5%|▍         | 92/1863 [00:00<09:52,  2.99batches/s]"
     ]
    },
    {
     "name": "stdout",
     "output_type": "stream",
     "text": [
      "Validation accuracy:  0.917899\n",
      "Training accuracy:  0.960347\n",
      "Test accuracy:  0.81156\n"
     ]
    },
    {
     "name": "stderr",
     "output_type": "stream",
     "text": [
      "Epoch 350/500: 100%|██████████| 1863/1863 [00:04<00:00, 394.37batches/s]\n",
      "Epoch 351/500:   3%|▎         | 55/1863 [00:00<12:14,  2.46batches/s]"
     ]
    },
    {
     "name": "stdout",
     "output_type": "stream",
     "text": [
      "Validation accuracy:  0.917899\n",
      "Training accuracy:  0.960427\n",
      "Test accuracy:  0.811639\n"
     ]
    },
    {
     "name": "stderr",
     "output_type": "stream",
     "text": [
      "Epoch 351/500: 100%|██████████| 1863/1863 [00:04<00:00, 427.69batches/s]\n",
      "Epoch 352/500:   6%|▌         | 104/1863 [00:00<07:35,  3.86batches/s]"
     ]
    },
    {
     "name": "stdout",
     "output_type": "stream",
     "text": [
      "Validation accuracy:  0.917389\n",
      "Training accuracy:  0.960401\n",
      "Test accuracy:  0.811639\n"
     ]
    },
    {
     "name": "stderr",
     "output_type": "stream",
     "text": [
      "Epoch 352/500: 100%|██████████| 1863/1863 [00:03<00:00, 513.64batches/s]\n",
      "Epoch 353/500:   4%|▍         | 77/1863 [00:00<09:27,  3.15batches/s]"
     ]
    },
    {
     "name": "stdout",
     "output_type": "stream",
     "text": [
      "Validation accuracy:  0.917389\n",
      "Training accuracy:  0.960401\n",
      "Test accuracy:  0.811718\n"
     ]
    },
    {
     "name": "stderr",
     "output_type": "stream",
     "text": [
      "Epoch 353/500: 100%|██████████| 1863/1863 [00:02<00:00, 657.05batches/s]\n",
      "Epoch 354/500:   8%|▊         | 154/1863 [00:00<06:02,  4.71batches/s]"
     ]
    },
    {
     "name": "stdout",
     "output_type": "stream",
     "text": [
      "Validation accuracy:  0.916879\n",
      "Training accuracy:  0.960481\n",
      "Test accuracy:  0.811718\n"
     ]
    },
    {
     "name": "stderr",
     "output_type": "stream",
     "text": [
      "Epoch 354/500: 100%|██████████| 1863/1863 [00:02<00:00, 678.70batches/s]\n",
      "Epoch 355/500:   9%|▉         | 170/1863 [00:00<05:56,  4.75batches/s]"
     ]
    },
    {
     "name": "stdout",
     "output_type": "stream",
     "text": [
      "Validation accuracy:  0.916879\n",
      "Training accuracy:  0.960562\n",
      "Test accuracy:  0.811718\n"
     ]
    },
    {
     "name": "stderr",
     "output_type": "stream",
     "text": [
      "Epoch 355/500: 100%|██████████| 1863/1863 [00:02<00:00, 649.55batches/s]\n",
      "Epoch 356/500:   4%|▎         | 68/1863 [00:00<10:06,  2.96batches/s]"
     ]
    },
    {
     "name": "stdout",
     "output_type": "stream",
     "text": [
      "Validation accuracy:  0.916879\n",
      "Training accuracy:  0.960642\n",
      "Test accuracy:  0.811718\n"
     ]
    },
    {
     "name": "stderr",
     "output_type": "stream",
     "text": [
      "Epoch 356/500: 100%|██████████| 1863/1863 [00:03<00:00, 576.18batches/s]\n",
      "Epoch 357/500:   6%|▌         | 111/1863 [00:00<07:47,  3.74batches/s]"
     ]
    },
    {
     "name": "stdout",
     "output_type": "stream",
     "text": [
      "Validation accuracy:  0.916879\n",
      "Training accuracy:  0.96075\n",
      "Test accuracy:  0.811718\n"
     ]
    },
    {
     "name": "stderr",
     "output_type": "stream",
     "text": [
      "Epoch 357/500: 100%|██████████| 1863/1863 [00:03<00:00, 503.85batches/s]\n",
      "Epoch 358/500:   7%|▋         | 136/1863 [00:00<06:59,  4.12batches/s]"
     ]
    },
    {
     "name": "stdout",
     "output_type": "stream",
     "text": [
      "Validation accuracy:  0.916879\n",
      "Training accuracy:  0.960723\n",
      "Test accuracy:  0.811718\n"
     ]
    },
    {
     "name": "stderr",
     "output_type": "stream",
     "text": [
      "Epoch 358/500: 100%|██████████| 1863/1863 [00:03<00:00, 534.34batches/s]\n",
      "Epoch 359/500:   8%|▊         | 155/1863 [00:00<06:29,  4.38batches/s]"
     ]
    },
    {
     "name": "stdout",
     "output_type": "stream",
     "text": [
      "Validation accuracy:  0.916879\n",
      "Training accuracy:  0.960696\n",
      "Test accuracy:  0.811639\n"
     ]
    },
    {
     "name": "stderr",
     "output_type": "stream",
     "text": [
      "Epoch 359/500: 100%|██████████| 1863/1863 [00:02<00:00, 660.46batches/s]\n",
      "Epoch 360/500:   8%|▊         | 156/1863 [00:00<06:18,  4.51batches/s]"
     ]
    },
    {
     "name": "stdout",
     "output_type": "stream",
     "text": [
      "Validation accuracy:  0.916879\n",
      "Training accuracy:  0.960723\n",
      "Test accuracy:  0.811639\n"
     ]
    },
    {
     "name": "stderr",
     "output_type": "stream",
     "text": [
      "Epoch 360/500: 100%|██████████| 1863/1863 [00:02<00:00, 656.25batches/s]\n",
      "Epoch 361/500:   3%|▎         | 65/1863 [00:00<10:26,  2.87batches/s]"
     ]
    },
    {
     "name": "stdout",
     "output_type": "stream",
     "text": [
      "Validation accuracy:  0.916879\n",
      "Training accuracy:  0.960723\n",
      "Test accuracy:  0.811718\n"
     ]
    },
    {
     "name": "stderr",
     "output_type": "stream",
     "text": [
      "Epoch 361/500: 100%|██████████| 1863/1863 [00:03<00:00, 523.19batches/s]\n",
      "Epoch 362/500:   6%|▋         | 117/1863 [00:00<07:36,  3.82batches/s]"
     ]
    },
    {
     "name": "stdout",
     "output_type": "stream",
     "text": [
      "Validation accuracy:  0.916879\n",
      "Training accuracy:  0.96075\n",
      "Test accuracy:  0.811718\n"
     ]
    },
    {
     "name": "stderr",
     "output_type": "stream",
     "text": [
      "Epoch 362/500: 100%|██████████| 1863/1863 [00:03<00:00, 522.04batches/s]\n",
      "Epoch 363/500:   7%|▋         | 138/1863 [00:00<06:54,  4.16batches/s]"
     ]
    },
    {
     "name": "stdout",
     "output_type": "stream",
     "text": [
      "Validation accuracy:  0.917389\n",
      "Training accuracy:  0.960776\n",
      "Test accuracy:  0.811639\n"
     ]
    },
    {
     "name": "stderr",
     "output_type": "stream",
     "text": [
      "Epoch 363/500: 100%|██████████| 1863/1863 [00:03<00:00, 605.34batches/s]\n",
      "Epoch 364/500:   9%|▉         | 164/1863 [00:00<06:04,  4.66batches/s]"
     ]
    },
    {
     "name": "stdout",
     "output_type": "stream",
     "text": [
      "Validation accuracy:  0.917389\n",
      "Training accuracy:  0.960803\n",
      "Test accuracy:  0.811481\n"
     ]
    },
    {
     "name": "stderr",
     "output_type": "stream",
     "text": [
      "Epoch 364/500: 100%|██████████| 1863/1863 [00:02<00:00, 668.72batches/s]\n",
      "Epoch 365/500:   5%|▍         | 85/1863 [00:00<09:11,  3.23batches/s]"
     ]
    },
    {
     "name": "stdout",
     "output_type": "stream",
     "text": [
      "Validation accuracy:  0.917389\n",
      "Training accuracy:  0.960803\n",
      "Test accuracy:  0.811481\n"
     ]
    },
    {
     "name": "stderr",
     "output_type": "stream",
     "text": [
      "Epoch 365/500: 100%|██████████| 1863/1863 [00:02<00:00, 692.34batches/s]\n",
      "Epoch 366/500:   8%|▊         | 155/1863 [00:00<06:12,  4.59batches/s]"
     ]
    },
    {
     "name": "stdout",
     "output_type": "stream",
     "text": [
      "Validation accuracy:  0.916879\n",
      "Training accuracy:  0.960857\n",
      "Test accuracy:  0.811481\n"
     ]
    },
    {
     "name": "stderr",
     "output_type": "stream",
     "text": [
      "Epoch 366/500: 100%|██████████| 1863/1863 [00:02<00:00, 668.21batches/s]\n",
      "Epoch 367/500:   5%|▍         | 85/1863 [00:00<09:01,  3.28batches/s]"
     ]
    },
    {
     "name": "stdout",
     "output_type": "stream",
     "text": [
      "Validation accuracy:  0.916879\n",
      "Training accuracy:  0.960857\n",
      "Test accuracy:  0.811322\n"
     ]
    },
    {
     "name": "stderr",
     "output_type": "stream",
     "text": [
      "Epoch 367/500: 100%|██████████| 1863/1863 [00:02<00:00, 683.93batches/s]\n",
      "Epoch 368/500:   9%|▊         | 163/1863 [00:00<05:56,  4.77batches/s]"
     ]
    },
    {
     "name": "stdout",
     "output_type": "stream",
     "text": [
      "Validation accuracy:  0.916879\n",
      "Training accuracy:  0.960803\n",
      "Test accuracy:  0.811243\n"
     ]
    },
    {
     "name": "stderr",
     "output_type": "stream",
     "text": [
      "Epoch 368/500: 100%|██████████| 1863/1863 [00:02<00:00, 657.22batches/s]\n",
      "Epoch 369/500:   7%|▋         | 130/1863 [00:00<06:40,  4.32batches/s]"
     ]
    },
    {
     "name": "stdout",
     "output_type": "stream",
     "text": [
      "Validation accuracy:  0.916879\n",
      "Training accuracy:  0.960884\n",
      "Test accuracy:  0.811243\n"
     ]
    },
    {
     "name": "stderr",
     "output_type": "stream",
     "text": [
      "Epoch 369/500: 100%|██████████| 1863/1863 [00:03<00:00, 527.30batches/s]\n",
      "Epoch 370/500:   6%|▌         | 113/1863 [00:00<07:22,  3.96batches/s]"
     ]
    },
    {
     "name": "stdout",
     "output_type": "stream",
     "text": [
      "Validation accuracy:  0.916879\n",
      "Training accuracy:  0.960884\n",
      "Test accuracy:  0.811243\n"
     ]
    },
    {
     "name": "stderr",
     "output_type": "stream",
     "text": [
      "Epoch 370/500: 100%|██████████| 1863/1863 [00:03<00:00, 505.66batches/s]\n",
      "Epoch 371/500:   6%|▋         | 120/1863 [00:00<07:25,  3.91batches/s]"
     ]
    },
    {
     "name": "stdout",
     "output_type": "stream",
     "text": [
      "Validation accuracy:  0.916879\n",
      "Training accuracy:  0.960964\n",
      "Test accuracy:  0.811322\n"
     ]
    },
    {
     "name": "stderr",
     "output_type": "stream",
     "text": [
      "Epoch 371/500: 100%|██████████| 1863/1863 [00:03<00:00, 503.74batches/s]\n",
      "Epoch 372/500:   6%|▌         | 112/1863 [00:00<08:29,  3.44batches/s]"
     ]
    },
    {
     "name": "stdout",
     "output_type": "stream",
     "text": [
      "Validation accuracy:  0.916879\n",
      "Training accuracy:  0.960991\n",
      "Test accuracy:  0.811243\n"
     ]
    },
    {
     "name": "stderr",
     "output_type": "stream",
     "text": [
      "Epoch 372/500: 100%|██████████| 1863/1863 [00:03<00:00, 516.21batches/s]\n",
      "Epoch 373/500:   4%|▍         | 78/1863 [00:00<09:29,  3.14batches/s]"
     ]
    },
    {
     "name": "stdout",
     "output_type": "stream",
     "text": [
      "Validation accuracy:  0.916879\n",
      "Training accuracy:  0.961045\n",
      "Test accuracy:  0.811164\n"
     ]
    },
    {
     "name": "stderr",
     "output_type": "stream",
     "text": [
      "Epoch 373/500: 100%|██████████| 1863/1863 [00:02<00:00, 641.70batches/s]\n",
      "Epoch 374/500:   4%|▍         | 76/1863 [00:00<09:21,  3.18batches/s]"
     ]
    },
    {
     "name": "stdout",
     "output_type": "stream",
     "text": [
      "Validation accuracy:  0.916879\n",
      "Training accuracy:  0.961152\n",
      "Test accuracy:  0.811085\n"
     ]
    },
    {
     "name": "stderr",
     "output_type": "stream",
     "text": [
      "Epoch 374/500: 100%|██████████| 1863/1863 [00:02<00:00, 679.03batches/s]\n",
      "Epoch 375/500:   9%|▉         | 171/1863 [00:00<05:55,  4.77batches/s]"
     ]
    },
    {
     "name": "stdout",
     "output_type": "stream",
     "text": [
      "Validation accuracy:  0.916879\n",
      "Training accuracy:  0.961152\n",
      "Test accuracy:  0.811085\n"
     ]
    },
    {
     "name": "stderr",
     "output_type": "stream",
     "text": [
      "Epoch 375/500: 100%|██████████| 1863/1863 [00:02<00:00, 685.08batches/s]\n",
      "Epoch 376/500:   9%|▉         | 172/1863 [00:00<05:48,  4.85batches/s]"
     ]
    },
    {
     "name": "stdout",
     "output_type": "stream",
     "text": [
      "Validation accuracy:  0.916879\n",
      "Training accuracy:  0.961179\n",
      "Test accuracy:  0.811085\n"
     ]
    },
    {
     "name": "stderr",
     "output_type": "stream",
     "text": [
      "Epoch 376/500: 100%|██████████| 1863/1863 [00:02<00:00, 719.03batches/s]\n",
      "Epoch 377/500:   8%|▊         | 157/1863 [00:00<06:11,  4.60batches/s]"
     ]
    },
    {
     "name": "stdout",
     "output_type": "stream",
     "text": [
      "Validation accuracy:  0.916879\n",
      "Training accuracy:  0.96126\n",
      "Test accuracy:  0.811164\n"
     ]
    },
    {
     "name": "stderr",
     "output_type": "stream",
     "text": [
      "Epoch 377/500: 100%|██████████| 1863/1863 [00:02<00:00, 690.64batches/s]\n",
      "Epoch 378/500:   9%|▉         | 170/1863 [00:00<05:56,  4.74batches/s]"
     ]
    },
    {
     "name": "stdout",
     "output_type": "stream",
     "text": [
      "Validation accuracy:  0.917389\n",
      "Training accuracy:  0.96134\n",
      "Test accuracy:  0.811164\n"
     ]
    },
    {
     "name": "stderr",
     "output_type": "stream",
     "text": [
      "Epoch 378/500: 100%|██████████| 1863/1863 [00:02<00:00, 708.85batches/s]\n",
      "Epoch 379/500:   9%|▊         | 161/1863 [00:00<05:56,  4.77batches/s]"
     ]
    },
    {
     "name": "stdout",
     "output_type": "stream",
     "text": [
      "Validation accuracy:  0.917389\n",
      "Training accuracy:  0.961394\n",
      "Test accuracy:  0.811164\n"
     ]
    },
    {
     "name": "stderr",
     "output_type": "stream",
     "text": [
      "Epoch 379/500: 100%|██████████| 1863/1863 [00:02<00:00, 694.60batches/s]\n",
      "Epoch 380/500:   5%|▍         | 87/1863 [00:00<08:57,  3.30batches/s]"
     ]
    },
    {
     "name": "stdout",
     "output_type": "stream",
     "text": [
      "Validation accuracy:  0.917389\n",
      "Training accuracy:  0.961421\n",
      "Test accuracy:  0.811322\n"
     ]
    },
    {
     "name": "stderr",
     "output_type": "stream",
     "text": [
      "Epoch 380/500: 100%|██████████| 1863/1863 [00:02<00:00, 703.55batches/s]\n",
      "Epoch 381/500:   9%|▉         | 166/1863 [00:00<05:56,  4.76batches/s]"
     ]
    },
    {
     "name": "stdout",
     "output_type": "stream",
     "text": [
      "Validation accuracy:  0.917389\n",
      "Training accuracy:  0.961474\n",
      "Test accuracy:  0.811401\n"
     ]
    },
    {
     "name": "stderr",
     "output_type": "stream",
     "text": [
      "Epoch 381/500: 100%|██████████| 1863/1863 [00:02<00:00, 702.66batches/s]\n",
      "Epoch 382/500:   5%|▍         | 85/1863 [00:00<08:51,  3.34batches/s]"
     ]
    },
    {
     "name": "stdout",
     "output_type": "stream",
     "text": [
      "Validation accuracy:  0.916879\n",
      "Training accuracy:  0.961501\n",
      "Test accuracy:  0.811401\n"
     ]
    },
    {
     "name": "stderr",
     "output_type": "stream",
     "text": [
      "Epoch 382/500: 100%|██████████| 1863/1863 [00:02<00:00, 727.38batches/s]\n",
      "Epoch 383/500:   9%|▉         | 168/1863 [00:00<05:49,  4.85batches/s]"
     ]
    },
    {
     "name": "stdout",
     "output_type": "stream",
     "text": [
      "Validation accuracy:  0.916879\n",
      "Training accuracy:  0.961528\n",
      "Test accuracy:  0.811401\n"
     ]
    },
    {
     "name": "stderr",
     "output_type": "stream",
     "text": [
      "Epoch 383/500: 100%|██████████| 1863/1863 [00:02<00:00, 712.49batches/s]\n",
      "Epoch 384/500:   5%|▍         | 86/1863 [00:00<08:35,  3.44batches/s]"
     ]
    },
    {
     "name": "stdout",
     "output_type": "stream",
     "text": [
      "Validation accuracy:  0.916879\n",
      "Training accuracy:  0.961609\n",
      "Test accuracy:  0.81156\n"
     ]
    },
    {
     "name": "stderr",
     "output_type": "stream",
     "text": [
      "Epoch 384/500: 100%|██████████| 1863/1863 [00:02<00:00, 706.33batches/s]\n",
      "Epoch 385/500:   9%|▊         | 163/1863 [00:00<06:10,  4.59batches/s]"
     ]
    },
    {
     "name": "stdout",
     "output_type": "stream",
     "text": [
      "Validation accuracy:  0.917389\n",
      "Training accuracy:  0.961662\n",
      "Test accuracy:  0.81156\n"
     ]
    },
    {
     "name": "stderr",
     "output_type": "stream",
     "text": [
      "Epoch 385/500: 100%|██████████| 1863/1863 [00:02<00:00, 704.24batches/s]\n",
      "Epoch 386/500:   9%|▉         | 175/1863 [00:00<05:46,  4.87batches/s]"
     ]
    },
    {
     "name": "stdout",
     "output_type": "stream",
     "text": [
      "Validation accuracy:  0.917389\n",
      "Training accuracy:  0.961689\n",
      "Test accuracy:  0.811639\n"
     ]
    },
    {
     "name": "stderr",
     "output_type": "stream",
     "text": [
      "Epoch 386/500: 100%|██████████| 1863/1863 [00:02<00:00, 701.58batches/s]\n",
      "Epoch 387/500:   5%|▍         | 88/1863 [00:00<09:00,  3.28batches/s]"
     ]
    },
    {
     "name": "stdout",
     "output_type": "stream",
     "text": [
      "Validation accuracy:  0.917389\n",
      "Training accuracy:  0.961743\n",
      "Test accuracy:  0.811718\n"
     ]
    },
    {
     "name": "stderr",
     "output_type": "stream",
     "text": [
      "Epoch 387/500: 100%|██████████| 1863/1863 [00:02<00:00, 714.02batches/s]\n",
      "Epoch 388/500:   4%|▍         | 80/1863 [00:00<09:14,  3.22batches/s]"
     ]
    },
    {
     "name": "stdout",
     "output_type": "stream",
     "text": [
      "Validation accuracy:  0.917389\n",
      "Training accuracy:  0.96177\n",
      "Test accuracy:  0.811718\n"
     ]
    },
    {
     "name": "stderr",
     "output_type": "stream",
     "text": [
      "Epoch 388/500: 100%|██████████| 1863/1863 [00:02<00:00, 681.46batches/s]\n",
      "Epoch 389/500:   5%|▍         | 84/1863 [00:00<09:11,  3.23batches/s]"
     ]
    },
    {
     "name": "stdout",
     "output_type": "stream",
     "text": [
      "Validation accuracy:  0.917389\n",
      "Training accuracy:  0.96185\n",
      "Test accuracy:  0.811876\n"
     ]
    },
    {
     "name": "stderr",
     "output_type": "stream",
     "text": [
      "Epoch 389/500: 100%|██████████| 1863/1863 [00:02<00:00, 635.40batches/s]\n",
      "Epoch 390/500:   8%|▊         | 155/1863 [00:00<06:19,  4.50batches/s]"
     ]
    },
    {
     "name": "stdout",
     "output_type": "stream",
     "text": [
      "Validation accuracy:  0.917389\n",
      "Training accuracy:  0.961877\n",
      "Test accuracy:  0.811797\n"
     ]
    },
    {
     "name": "stderr",
     "output_type": "stream",
     "text": [
      "Epoch 390/500: 100%|██████████| 1863/1863 [00:02<00:00, 632.98batches/s]\n",
      "Epoch 391/500:   9%|▊         | 163/1863 [00:00<06:48,  4.16batches/s]"
     ]
    },
    {
     "name": "stdout",
     "output_type": "stream",
     "text": [
      "Validation accuracy:  0.917389\n",
      "Training accuracy:  0.961931\n",
      "Test accuracy:  0.811797\n"
     ]
    },
    {
     "name": "stderr",
     "output_type": "stream",
     "text": [
      "Epoch 391/500: 100%|██████████| 1863/1863 [00:03<00:00, 598.63batches/s]\n",
      "Epoch 392/500:   4%|▍         | 77/1863 [00:00<09:45,  3.05batches/s]"
     ]
    },
    {
     "name": "stdout",
     "output_type": "stream",
     "text": [
      "Validation accuracy:  0.917389\n",
      "Training accuracy:  0.961958\n",
      "Test accuracy:  0.811797\n"
     ]
    },
    {
     "name": "stderr",
     "output_type": "stream",
     "text": [
      "Epoch 392/500: 100%|██████████| 1863/1863 [00:03<00:00, 573.38batches/s]\n",
      "Epoch 393/500:   3%|▎         | 57/1863 [00:00<10:22,  2.90batches/s]"
     ]
    },
    {
     "name": "stdout",
     "output_type": "stream",
     "text": [
      "Validation accuracy:  0.917389\n",
      "Training accuracy:  0.962011\n",
      "Test accuracy:  0.811876\n"
     ]
    },
    {
     "name": "stderr",
     "output_type": "stream",
     "text": [
      "Epoch 393/500: 100%|██████████| 1863/1863 [00:03<00:00, 505.89batches/s]\n",
      "Epoch 394/500:   7%|▋         | 123/1863 [00:00<07:28,  3.88batches/s]"
     ]
    },
    {
     "name": "stdout",
     "output_type": "stream",
     "text": [
      "Validation accuracy:  0.917389\n",
      "Training accuracy:  0.962119\n",
      "Test accuracy:  0.811797\n"
     ]
    },
    {
     "name": "stderr",
     "output_type": "stream",
     "text": [
      "Epoch 394/500: 100%|██████████| 1863/1863 [00:03<00:00, 496.94batches/s]\n",
      "Epoch 395/500:   3%|▎         | 63/1863 [00:00<10:56,  2.74batches/s]"
     ]
    },
    {
     "name": "stdout",
     "output_type": "stream",
     "text": [
      "Validation accuracy:  0.917389\n",
      "Training accuracy:  0.962199\n",
      "Test accuracy:  0.811876\n"
     ]
    },
    {
     "name": "stderr",
     "output_type": "stream",
     "text": [
      "Epoch 395/500: 100%|██████████| 1863/1863 [00:03<00:00, 567.06batches/s]\n",
      "Epoch 396/500:   6%|▋         | 120/1863 [00:00<07:01,  4.13batches/s]"
     ]
    },
    {
     "name": "stdout",
     "output_type": "stream",
     "text": [
      "Validation accuracy:  0.917389\n",
      "Training accuracy:  0.96228\n",
      "Test accuracy:  0.811718\n"
     ]
    },
    {
     "name": "stderr",
     "output_type": "stream",
     "text": [
      "Epoch 396/500: 100%|██████████| 1863/1863 [00:03<00:00, 620.40batches/s]\n",
      "Epoch 397/500:   9%|▉         | 164/1863 [00:00<05:55,  4.78batches/s]"
     ]
    },
    {
     "name": "stdout",
     "output_type": "stream",
     "text": [
      "Validation accuracy:  0.917389\n",
      "Training accuracy:  0.96228\n",
      "Test accuracy:  0.811639\n"
     ]
    },
    {
     "name": "stderr",
     "output_type": "stream",
     "text": [
      "Epoch 397/500: 100%|██████████| 1863/1863 [00:02<00:00, 677.78batches/s]\n",
      "Epoch 398/500:   9%|▉         | 168/1863 [00:00<06:01,  4.69batches/s]"
     ]
    },
    {
     "name": "stdout",
     "output_type": "stream",
     "text": [
      "Validation accuracy:  0.917389\n",
      "Training accuracy:  0.962334\n",
      "Test accuracy:  0.811639\n"
     ]
    },
    {
     "name": "stderr",
     "output_type": "stream",
     "text": [
      "Epoch 398/500: 100%|██████████| 1863/1863 [00:02<00:00, 714.99batches/s]\n",
      "Epoch 399/500:   4%|▍         | 81/1863 [00:00<09:15,  3.21batches/s]"
     ]
    },
    {
     "name": "stdout",
     "output_type": "stream",
     "text": [
      "Validation accuracy:  0.917389\n",
      "Training accuracy:  0.962441\n",
      "Test accuracy:  0.811639\n"
     ]
    },
    {
     "name": "stderr",
     "output_type": "stream",
     "text": [
      "Epoch 399/500: 100%|██████████| 1863/1863 [00:02<00:00, 688.43batches/s]\n",
      "Epoch 400/500:   9%|▉         | 172/1863 [00:00<05:49,  4.84batches/s]"
     ]
    },
    {
     "name": "stdout",
     "output_type": "stream",
     "text": [
      "Validation accuracy:  0.917389\n",
      "Training accuracy:  0.962468\n",
      "Test accuracy:  0.811797\n"
     ]
    },
    {
     "name": "stderr",
     "output_type": "stream",
     "text": [
      "Epoch 400/500: 100%|██████████| 1863/1863 [00:02<00:00, 710.25batches/s]\n",
      "Epoch 401/500:   9%|▉         | 165/1863 [00:00<05:51,  4.83batches/s]"
     ]
    },
    {
     "name": "stdout",
     "output_type": "stream",
     "text": [
      "Validation accuracy:  0.917389\n",
      "Training accuracy:  0.962521\n",
      "Test accuracy:  0.812035\n"
     ]
    },
    {
     "name": "stderr",
     "output_type": "stream",
     "text": [
      "Epoch 401/500: 100%|██████████| 1863/1863 [00:02<00:00, 698.67batches/s]\n",
      "Epoch 402/500:   5%|▍         | 88/1863 [00:00<08:47,  3.36batches/s]"
     ]
    },
    {
     "name": "stdout",
     "output_type": "stream",
     "text": [
      "Validation accuracy:  0.917389\n",
      "Training accuracy:  0.962521\n",
      "Test accuracy:  0.812035\n"
     ]
    },
    {
     "name": "stderr",
     "output_type": "stream",
     "text": [
      "Epoch 402/500: 100%|██████████| 1863/1863 [00:02<00:00, 693.80batches/s]\n",
      "Epoch 403/500:   8%|▊         | 156/1863 [00:00<05:57,  4.78batches/s]"
     ]
    },
    {
     "name": "stdout",
     "output_type": "stream",
     "text": [
      "Validation accuracy:  0.917899\n",
      "Training accuracy:  0.962521\n",
      "Test accuracy:  0.811956\n"
     ]
    },
    {
     "name": "stderr",
     "output_type": "stream",
     "text": [
      "Epoch 403/500: 100%|██████████| 1863/1863 [00:02<00:00, 679.85batches/s]\n",
      "Epoch 404/500:   9%|▉         | 171/1863 [00:00<05:54,  4.77batches/s]"
     ]
    },
    {
     "name": "stdout",
     "output_type": "stream",
     "text": [
      "Validation accuracy:  0.917899\n",
      "Training accuracy:  0.962548\n",
      "Test accuracy:  0.812035\n"
     ]
    },
    {
     "name": "stderr",
     "output_type": "stream",
     "text": [
      "Epoch 404/500: 100%|██████████| 1863/1863 [00:02<00:00, 703.82batches/s]\n",
      "Epoch 405/500:   4%|▍         | 74/1863 [00:00<08:57,  3.33batches/s]"
     ]
    },
    {
     "name": "stdout",
     "output_type": "stream",
     "text": [
      "Validation accuracy:  0.917899\n",
      "Training accuracy:  0.962629\n",
      "Test accuracy:  0.811876\n"
     ]
    },
    {
     "name": "stderr",
     "output_type": "stream",
     "text": [
      "Epoch 405/500: 100%|██████████| 1863/1863 [00:02<00:00, 645.46batches/s]\n",
      "Epoch 406/500:   3%|▎         | 59/1863 [00:00<09:17,  3.24batches/s]"
     ]
    },
    {
     "name": "stdout",
     "output_type": "stream",
     "text": [
      "Validation accuracy:  0.917899\n",
      "Training accuracy:  0.962709\n",
      "Test accuracy:  0.811797\n"
     ]
    },
    {
     "name": "stderr",
     "output_type": "stream",
     "text": [
      "Epoch 406/500: 100%|██████████| 1863/1863 [00:03<00:00, 605.97batches/s]\n",
      "Epoch 407/500:   4%|▍         | 82/1863 [00:00<09:29,  3.13batches/s]"
     ]
    },
    {
     "name": "stdout",
     "output_type": "stream",
     "text": [
      "Validation accuracy:  0.917899\n",
      "Training accuracy:  0.962709\n",
      "Test accuracy:  0.811797\n"
     ]
    },
    {
     "name": "stderr",
     "output_type": "stream",
     "text": [
      "Epoch 407/500: 100%|██████████| 1863/1863 [00:02<00:00, 688.90batches/s]\n",
      "Epoch 408/500:   9%|▊         | 163/1863 [00:00<05:57,  4.76batches/s]"
     ]
    },
    {
     "name": "stdout",
     "output_type": "stream",
     "text": [
      "Validation accuracy:  0.917899\n",
      "Training accuracy:  0.962709\n",
      "Test accuracy:  0.811797\n"
     ]
    },
    {
     "name": "stderr",
     "output_type": "stream",
     "text": [
      "Epoch 408/500: 100%|██████████| 1863/1863 [00:02<00:00, 633.48batches/s]\n",
      "Epoch 409/500:   7%|▋         | 126/1863 [00:00<06:45,  4.28batches/s]"
     ]
    },
    {
     "name": "stdout",
     "output_type": "stream",
     "text": [
      "Validation accuracy:  0.917899\n",
      "Training accuracy:  0.962763\n",
      "Test accuracy:  0.811639\n"
     ]
    },
    {
     "name": "stderr",
     "output_type": "stream",
     "text": [
      "Epoch 409/500: 100%|██████████| 1863/1863 [00:03<00:00, 537.29batches/s]\n",
      "Epoch 410/500:   3%|▎         | 58/1863 [00:00<10:13,  2.94batches/s]"
     ]
    },
    {
     "name": "stdout",
     "output_type": "stream",
     "text": [
      "Validation accuracy:  0.917899\n",
      "Training accuracy:  0.96279\n",
      "Test accuracy:  0.81156\n"
     ]
    },
    {
     "name": "stderr",
     "output_type": "stream",
     "text": [
      "Epoch 410/500: 100%|██████████| 1863/1863 [00:03<00:00, 546.23batches/s]\n",
      "Epoch 411/500:   7%|▋         | 133/1863 [00:00<07:17,  3.96batches/s]"
     ]
    },
    {
     "name": "stdout",
     "output_type": "stream",
     "text": [
      "Validation accuracy:  0.917899\n",
      "Training accuracy:  0.96279\n",
      "Test accuracy:  0.811639\n"
     ]
    },
    {
     "name": "stderr",
     "output_type": "stream",
     "text": [
      "Epoch 411/500: 100%|██████████| 1863/1863 [00:03<00:00, 523.80batches/s]\n",
      "Epoch 412/500:   7%|▋         | 135/1863 [00:00<07:16,  3.96batches/s]"
     ]
    },
    {
     "name": "stdout",
     "output_type": "stream",
     "text": [
      "Validation accuracy:  0.918409\n",
      "Training accuracy:  0.96287\n",
      "Test accuracy:  0.811639\n"
     ]
    },
    {
     "name": "stderr",
     "output_type": "stream",
     "text": [
      "Epoch 412/500: 100%|██████████| 1863/1863 [00:03<00:00, 523.37batches/s]\n",
      "Epoch 413/500:   3%|▎         | 62/1863 [00:00<10:34,  2.84batches/s]"
     ]
    },
    {
     "name": "stdout",
     "output_type": "stream",
     "text": [
      "Validation accuracy:  0.918409\n",
      "Training accuracy:  0.962897\n",
      "Test accuracy:  0.811718\n"
     ]
    },
    {
     "name": "stderr",
     "output_type": "stream",
     "text": [
      "Epoch 413/500: 100%|██████████| 1863/1863 [00:03<00:00, 581.44batches/s]\n",
      "Epoch 414/500:   7%|▋         | 139/1863 [00:00<06:42,  4.28batches/s]"
     ]
    },
    {
     "name": "stdout",
     "output_type": "stream",
     "text": [
      "Validation accuracy:  0.918409\n",
      "Training accuracy:  0.962951\n",
      "Test accuracy:  0.811718\n"
     ]
    },
    {
     "name": "stderr",
     "output_type": "stream",
     "text": [
      "Epoch 414/500: 100%|██████████| 1863/1863 [00:02<00:00, 627.69batches/s]\n",
      "Epoch 415/500:   9%|▉         | 172/1863 [00:00<05:58,  4.72batches/s]"
     ]
    },
    {
     "name": "stdout",
     "output_type": "stream",
     "text": [
      "Validation accuracy:  0.918919\n",
      "Training accuracy:  0.963058\n",
      "Test accuracy:  0.811797\n"
     ]
    },
    {
     "name": "stderr",
     "output_type": "stream",
     "text": [
      "Epoch 415/500: 100%|██████████| 1863/1863 [00:02<00:00, 655.85batches/s]\n",
      "Epoch 416/500:   8%|▊         | 153/1863 [00:00<06:15,  4.56batches/s]"
     ]
    },
    {
     "name": "stdout",
     "output_type": "stream",
     "text": [
      "Validation accuracy:  0.918919\n",
      "Training accuracy:  0.963166\n",
      "Test accuracy:  0.811797\n"
     ]
    },
    {
     "name": "stderr",
     "output_type": "stream",
     "text": [
      "Epoch 416/500: 100%|██████████| 1863/1863 [00:02<00:00, 660.58batches/s]\n",
      "Epoch 417/500:   8%|▊         | 154/1863 [00:00<06:22,  4.47batches/s]"
     ]
    },
    {
     "name": "stdout",
     "output_type": "stream",
     "text": [
      "Validation accuracy:  0.918919\n",
      "Training accuracy:  0.96322\n",
      "Test accuracy:  0.811718\n"
     ]
    },
    {
     "name": "stderr",
     "output_type": "stream",
     "text": [
      "Epoch 417/500: 100%|██████████| 1863/1863 [00:03<00:00, 602.61batches/s]\n",
      "Epoch 418/500:   4%|▍         | 74/1863 [00:00<09:40,  3.08batches/s]"
     ]
    },
    {
     "name": "stdout",
     "output_type": "stream",
     "text": [
      "Validation accuracy:  0.919429\n",
      "Training accuracy:  0.96322\n",
      "Test accuracy:  0.811718\n"
     ]
    },
    {
     "name": "stderr",
     "output_type": "stream",
     "text": [
      "Epoch 418/500: 100%|██████████| 1863/1863 [00:03<00:00, 619.75batches/s]\n",
      "Epoch 419/500:   4%|▍         | 71/1863 [00:00<10:01,  2.98batches/s]"
     ]
    },
    {
     "name": "stdout",
     "output_type": "stream",
     "text": [
      "Validation accuracy:  0.919429\n",
      "Training accuracy:  0.963273\n",
      "Test accuracy:  0.811797\n"
     ]
    },
    {
     "name": "stderr",
     "output_type": "stream",
     "text": [
      "Epoch 419/500: 100%|██████████| 1863/1863 [00:03<00:00, 614.15batches/s]\n",
      "Epoch 420/500:   8%|▊         | 140/1863 [00:00<06:18,  4.55batches/s]"
     ]
    },
    {
     "name": "stdout",
     "output_type": "stream",
     "text": [
      "Validation accuracy:  0.918919\n",
      "Training accuracy:  0.963273\n",
      "Test accuracy:  0.811718\n"
     ]
    },
    {
     "name": "stderr",
     "output_type": "stream",
     "text": [
      "Epoch 420/500: 100%|██████████| 1863/1863 [00:02<00:00, 638.09batches/s]\n",
      "Epoch 421/500:   4%|▍         | 83/1863 [00:00<09:34,  3.10batches/s]"
     ]
    },
    {
     "name": "stdout",
     "output_type": "stream",
     "text": [
      "Validation accuracy:  0.918919\n",
      "Training accuracy:  0.963327\n",
      "Test accuracy:  0.811876\n"
     ]
    },
    {
     "name": "stderr",
     "output_type": "stream",
     "text": [
      "Epoch 421/500: 100%|██████████| 1863/1863 [00:02<00:00, 674.43batches/s]\n",
      "Epoch 422/500:   8%|▊         | 151/1863 [00:00<06:18,  4.53batches/s]"
     ]
    },
    {
     "name": "stdout",
     "output_type": "stream",
     "text": [
      "Validation accuracy:  0.918919\n",
      "Training accuracy:  0.963354\n",
      "Test accuracy:  0.811876\n"
     ]
    },
    {
     "name": "stderr",
     "output_type": "stream",
     "text": [
      "Epoch 422/500: 100%|██████████| 1863/1863 [00:02<00:00, 629.20batches/s]\n",
      "Epoch 423/500:   4%|▎         | 66/1863 [00:00<09:27,  3.17batches/s]"
     ]
    },
    {
     "name": "stdout",
     "output_type": "stream",
     "text": [
      "Validation accuracy:  0.918919\n",
      "Training accuracy:  0.963381\n",
      "Test accuracy:  0.811876\n"
     ]
    },
    {
     "name": "stderr",
     "output_type": "stream",
     "text": [
      "Epoch 423/500: 100%|██████████| 1863/1863 [00:03<00:00, 603.56batches/s]\n",
      "Epoch 424/500:   3%|▎         | 61/1863 [00:00<11:15,  2.67batches/s]"
     ]
    },
    {
     "name": "stdout",
     "output_type": "stream",
     "text": [
      "Validation accuracy:  0.919429\n",
      "Training accuracy:  0.963407\n",
      "Test accuracy:  0.811876\n"
     ]
    },
    {
     "name": "stderr",
     "output_type": "stream",
     "text": [
      "Epoch 424/500: 100%|██████████| 1863/1863 [00:03<00:00, 541.67batches/s]\n",
      "Epoch 425/500:   3%|▎         | 54/1863 [00:00<11:28,  2.63batches/s]"
     ]
    },
    {
     "name": "stdout",
     "output_type": "stream",
     "text": [
      "Validation accuracy:  0.919429\n",
      "Training accuracy:  0.963461\n",
      "Test accuracy:  0.811876\n"
     ]
    },
    {
     "name": "stderr",
     "output_type": "stream",
     "text": [
      "Epoch 425/500: 100%|██████████| 1863/1863 [00:03<00:00, 470.19batches/s]\n",
      "Epoch 426/500:   3%|▎         | 57/1863 [00:00<11:01,  2.73batches/s]"
     ]
    },
    {
     "name": "stdout",
     "output_type": "stream",
     "text": [
      "Validation accuracy:  0.919429\n",
      "Training accuracy:  0.963461\n",
      "Test accuracy:  0.811956\n"
     ]
    },
    {
     "name": "stderr",
     "output_type": "stream",
     "text": [
      "Epoch 426/500: 100%|██████████| 1863/1863 [00:03<00:00, 514.73batches/s]\n",
      "Epoch 427/500:   4%|▍         | 73/1863 [00:00<09:56,  3.00batches/s]"
     ]
    },
    {
     "name": "stdout",
     "output_type": "stream",
     "text": [
      "Validation accuracy:  0.919429\n",
      "Training accuracy:  0.963515\n",
      "Test accuracy:  0.811956\n"
     ]
    },
    {
     "name": "stderr",
     "output_type": "stream",
     "text": [
      "Epoch 427/500: 100%|██████████| 1863/1863 [00:02<00:00, 656.65batches/s]\n",
      "Epoch 428/500:   8%|▊         | 158/1863 [00:00<06:12,  4.58batches/s]"
     ]
    },
    {
     "name": "stdout",
     "output_type": "stream",
     "text": [
      "Validation accuracy:  0.919429\n",
      "Training accuracy:  0.963515\n",
      "Test accuracy:  0.812035\n"
     ]
    },
    {
     "name": "stderr",
     "output_type": "stream",
     "text": [
      "Epoch 428/500: 100%|██████████| 1863/1863 [00:02<00:00, 673.76batches/s]\n",
      "Epoch 429/500:   9%|▉         | 171/1863 [00:00<06:00,  4.69batches/s]"
     ]
    },
    {
     "name": "stdout",
     "output_type": "stream",
     "text": [
      "Validation accuracy:  0.919429\n",
      "Training accuracy:  0.963515\n",
      "Test accuracy:  0.812035\n"
     ]
    },
    {
     "name": "stderr",
     "output_type": "stream",
     "text": [
      "Epoch 429/500: 100%|██████████| 1863/1863 [00:02<00:00, 691.84batches/s]\n",
      "Epoch 430/500:   9%|▉         | 166/1863 [00:00<06:03,  4.67batches/s]"
     ]
    },
    {
     "name": "stdout",
     "output_type": "stream",
     "text": [
      "Validation accuracy:  0.919429\n",
      "Training accuracy:  0.963542\n",
      "Test accuracy:  0.812035\n"
     ]
    },
    {
     "name": "stderr",
     "output_type": "stream",
     "text": [
      "Epoch 430/500: 100%|██████████| 1863/1863 [00:02<00:00, 683.99batches/s]\n",
      "Epoch 431/500:   8%|▊         | 156/1863 [00:00<05:55,  4.80batches/s]"
     ]
    },
    {
     "name": "stdout",
     "output_type": "stream",
     "text": [
      "Validation accuracy:  0.919429\n",
      "Training accuracy:  0.963542\n",
      "Test accuracy:  0.811876\n"
     ]
    },
    {
     "name": "stderr",
     "output_type": "stream",
     "text": [
      "Epoch 431/500: 100%|██████████| 1863/1863 [00:02<00:00, 666.94batches/s]\n",
      "Epoch 432/500:   9%|▉         | 165/1863 [00:00<06:18,  4.48batches/s]"
     ]
    },
    {
     "name": "stdout",
     "output_type": "stream",
     "text": [
      "Validation accuracy:  0.918919\n",
      "Training accuracy:  0.963569\n",
      "Test accuracy:  0.811876\n"
     ]
    },
    {
     "name": "stderr",
     "output_type": "stream",
     "text": [
      "Epoch 432/500: 100%|██████████| 1863/1863 [00:02<00:00, 686.47batches/s]\n",
      "Epoch 433/500:   9%|▉         | 169/1863 [00:00<06:00,  4.70batches/s]"
     ]
    },
    {
     "name": "stdout",
     "output_type": "stream",
     "text": [
      "Validation accuracy:  0.918919\n",
      "Training accuracy:  0.963595\n",
      "Test accuracy:  0.811718\n"
     ]
    },
    {
     "name": "stderr",
     "output_type": "stream",
     "text": [
      "Epoch 433/500: 100%|██████████| 1863/1863 [00:02<00:00, 682.07batches/s]\n",
      "Epoch 434/500:   9%|▉         | 167/1863 [00:00<06:01,  4.69batches/s]"
     ]
    },
    {
     "name": "stdout",
     "output_type": "stream",
     "text": [
      "Validation accuracy:  0.918919\n",
      "Training accuracy:  0.963595\n",
      "Test accuracy:  0.811797\n"
     ]
    },
    {
     "name": "stderr",
     "output_type": "stream",
     "text": [
      "Epoch 434/500: 100%|██████████| 1863/1863 [00:02<00:00, 685.92batches/s]\n",
      "Epoch 435/500:   5%|▍         | 86/1863 [00:00<08:53,  3.33batches/s]"
     ]
    },
    {
     "name": "stdout",
     "output_type": "stream",
     "text": [
      "Validation accuracy:  0.918919\n",
      "Training accuracy:  0.963595\n",
      "Test accuracy:  0.811797\n"
     ]
    },
    {
     "name": "stderr",
     "output_type": "stream",
     "text": [
      "Epoch 435/500: 100%|██████████| 1863/1863 [00:02<00:00, 681.08batches/s]\n",
      "Epoch 436/500:   9%|▉         | 165/1863 [00:00<06:04,  4.66batches/s]"
     ]
    },
    {
     "name": "stdout",
     "output_type": "stream",
     "text": [
      "Validation accuracy:  0.918919\n",
      "Training accuracy:  0.963676\n",
      "Test accuracy:  0.811718\n"
     ]
    },
    {
     "name": "stderr",
     "output_type": "stream",
     "text": [
      "Epoch 436/500: 100%|██████████| 1863/1863 [00:02<00:00, 681.39batches/s]\n",
      "Epoch 437/500:   5%|▍         | 84/1863 [00:00<08:58,  3.30batches/s]"
     ]
    },
    {
     "name": "stdout",
     "output_type": "stream",
     "text": [
      "Validation accuracy:  0.919429\n",
      "Training accuracy:  0.963783\n",
      "Test accuracy:  0.811718\n"
     ]
    },
    {
     "name": "stderr",
     "output_type": "stream",
     "text": [
      "Epoch 437/500: 100%|██████████| 1863/1863 [00:02<00:00, 692.11batches/s]\n",
      "Epoch 438/500:   9%|▉         | 171/1863 [00:00<05:53,  4.79batches/s]"
     ]
    },
    {
     "name": "stdout",
     "output_type": "stream",
     "text": [
      "Validation accuracy:  0.919429\n",
      "Training accuracy:  0.96381\n",
      "Test accuracy:  0.811876\n"
     ]
    },
    {
     "name": "stderr",
     "output_type": "stream",
     "text": [
      "Epoch 438/500: 100%|██████████| 1863/1863 [00:02<00:00, 664.84batches/s]\n",
      "Epoch 439/500:   4%|▍         | 83/1863 [00:00<09:18,  3.18batches/s]"
     ]
    },
    {
     "name": "stdout",
     "output_type": "stream",
     "text": [
      "Validation accuracy:  0.919429\n",
      "Training accuracy:  0.963837\n",
      "Test accuracy:  0.811797\n"
     ]
    },
    {
     "name": "stderr",
     "output_type": "stream",
     "text": [
      "Epoch 439/500: 100%|██████████| 1863/1863 [00:02<00:00, 683.68batches/s]\n",
      "Epoch 440/500:   8%|▊         | 152/1863 [00:00<06:30,  4.38batches/s]"
     ]
    },
    {
     "name": "stdout",
     "output_type": "stream",
     "text": [
      "Validation accuracy:  0.919939\n",
      "Training accuracy:  0.963864\n",
      "Test accuracy:  0.811797\n"
     ]
    },
    {
     "name": "stderr",
     "output_type": "stream",
     "text": [
      "Epoch 440/500: 100%|██████████| 1863/1863 [00:02<00:00, 671.69batches/s]\n",
      "Epoch 441/500:   9%|▉         | 166/1863 [00:00<06:00,  4.71batches/s]"
     ]
    },
    {
     "name": "stdout",
     "output_type": "stream",
     "text": [
      "Validation accuracy:  0.919939\n",
      "Training accuracy:  0.963891\n",
      "Test accuracy:  0.811797\n"
     ]
    },
    {
     "name": "stderr",
     "output_type": "stream",
     "text": [
      "Epoch 441/500: 100%|██████████| 1863/1863 [00:02<00:00, 644.13batches/s]\n",
      "Epoch 442/500:   8%|▊         | 143/1863 [00:00<06:23,  4.48batches/s]"
     ]
    },
    {
     "name": "stdout",
     "output_type": "stream",
     "text": [
      "Validation accuracy:  0.919939\n",
      "Training accuracy:  0.963944\n",
      "Test accuracy:  0.811797\n"
     ]
    },
    {
     "name": "stderr",
     "output_type": "stream",
     "text": [
      "Epoch 442/500: 100%|██████████| 1863/1863 [00:03<00:00, 542.77batches/s]\n",
      "Epoch 443/500:   3%|▎         | 62/1863 [00:00<10:56,  2.74batches/s]"
     ]
    },
    {
     "name": "stdout",
     "output_type": "stream",
     "text": [
      "Validation accuracy:  0.919939\n",
      "Training accuracy:  0.964025\n",
      "Test accuracy:  0.811797\n"
     ]
    },
    {
     "name": "stderr",
     "output_type": "stream",
     "text": [
      "Epoch 443/500: 100%|██████████| 1863/1863 [00:03<00:00, 471.12batches/s]\n",
      "Epoch 444/500:   3%|▎         | 51/1863 [00:00<11:40,  2.59batches/s]"
     ]
    },
    {
     "name": "stdout",
     "output_type": "stream",
     "text": [
      "Validation accuracy:  0.919939\n",
      "Training accuracy:  0.964025\n",
      "Test accuracy:  0.811797\n"
     ]
    },
    {
     "name": "stderr",
     "output_type": "stream",
     "text": [
      "Epoch 444/500: 100%|██████████| 1863/1863 [00:03<00:00, 471.06batches/s]\n",
      "Epoch 445/500:   3%|▎         | 60/1863 [00:00<10:44,  2.80batches/s]"
     ]
    },
    {
     "name": "stdout",
     "output_type": "stream",
     "text": [
      "Validation accuracy:  0.919939\n",
      "Training accuracy:  0.964052\n",
      "Test accuracy:  0.811797\n"
     ]
    },
    {
     "name": "stderr",
     "output_type": "stream",
     "text": [
      "Epoch 445/500: 100%|██████████| 1863/1863 [00:03<00:00, 524.15batches/s]\n",
      "Epoch 446/500:   7%|▋         | 137/1863 [00:00<06:45,  4.26batches/s]"
     ]
    },
    {
     "name": "stdout",
     "output_type": "stream",
     "text": [
      "Validation accuracy:  0.919939\n",
      "Training accuracy:  0.964079\n",
      "Test accuracy:  0.811718\n"
     ]
    },
    {
     "name": "stderr",
     "output_type": "stream",
     "text": [
      "Epoch 446/500: 100%|██████████| 1863/1863 [00:03<00:00, 548.78batches/s]\n",
      "Epoch 447/500:   6%|▌         | 107/1863 [00:00<06:58,  4.19batches/s]"
     ]
    },
    {
     "name": "stdout",
     "output_type": "stream",
     "text": [
      "Validation accuracy:  0.919939\n",
      "Training accuracy:  0.964132\n",
      "Test accuracy:  0.811797\n"
     ]
    },
    {
     "name": "stderr",
     "output_type": "stream",
     "text": [
      "Epoch 447/500: 100%|██████████| 1863/1863 [00:03<00:00, 537.55batches/s]\n",
      "Epoch 448/500:   3%|▎         | 64/1863 [00:00<10:34,  2.84batches/s]"
     ]
    },
    {
     "name": "stdout",
     "output_type": "stream",
     "text": [
      "Validation accuracy:  0.919939\n",
      "Training accuracy:  0.96424\n",
      "Test accuracy:  0.811797\n"
     ]
    },
    {
     "name": "stderr",
     "output_type": "stream",
     "text": [
      "Epoch 448/500: 100%|██████████| 1863/1863 [00:03<00:00, 524.15batches/s]\n",
      "Epoch 449/500:   4%|▎         | 67/1863 [00:00<10:42,  2.80batches/s]"
     ]
    },
    {
     "name": "stdout",
     "output_type": "stream",
     "text": [
      "Validation accuracy:  0.919939\n",
      "Training accuracy:  0.964374\n",
      "Test accuracy:  0.811718\n"
     ]
    },
    {
     "name": "stderr",
     "output_type": "stream",
     "text": [
      "Epoch 449/500: 100%|██████████| 1863/1863 [00:03<00:00, 552.20batches/s]\n",
      "Epoch 450/500:   7%|▋         | 128/1863 [00:00<07:16,  3.98batches/s]"
     ]
    },
    {
     "name": "stdout",
     "output_type": "stream",
     "text": [
      "Validation accuracy:  0.919939\n",
      "Training accuracy:  0.964374\n",
      "Test accuracy:  0.811797\n"
     ]
    },
    {
     "name": "stderr",
     "output_type": "stream",
     "text": [
      "Epoch 450/500: 100%|██████████| 1863/1863 [00:03<00:00, 531.70batches/s]\n",
      "Epoch 451/500:   4%|▎         | 69/1863 [00:00<10:10,  2.94batches/s]"
     ]
    },
    {
     "name": "stdout",
     "output_type": "stream",
     "text": [
      "Validation accuracy:  0.919939\n",
      "Training accuracy:  0.964454\n",
      "Test accuracy:  0.811876\n"
     ]
    },
    {
     "name": "stderr",
     "output_type": "stream",
     "text": [
      "Epoch 451/500: 100%|██████████| 1863/1863 [00:03<00:00, 609.54batches/s]\n",
      "Epoch 452/500:   8%|▊         | 156/1863 [00:00<06:11,  4.59batches/s]"
     ]
    },
    {
     "name": "stdout",
     "output_type": "stream",
     "text": [
      "Validation accuracy:  0.919939\n",
      "Training accuracy:  0.964481\n",
      "Test accuracy:  0.811956\n"
     ]
    },
    {
     "name": "stderr",
     "output_type": "stream",
     "text": [
      "Epoch 452/500: 100%|██████████| 1863/1863 [00:02<00:00, 665.73batches/s]\n",
      "Epoch 453/500:   8%|▊         | 147/1863 [00:00<06:23,  4.47batches/s]"
     ]
    },
    {
     "name": "stdout",
     "output_type": "stream",
     "text": [
      "Validation accuracy:  0.919939\n",
      "Training accuracy:  0.964508\n",
      "Test accuracy:  0.811876\n"
     ]
    },
    {
     "name": "stderr",
     "output_type": "stream",
     "text": [
      "Epoch 453/500: 100%|██████████| 1863/1863 [00:02<00:00, 655.11batches/s]\n",
      "Epoch 454/500:   4%|▍         | 83/1863 [00:00<09:15,  3.20batches/s]"
     ]
    },
    {
     "name": "stdout",
     "output_type": "stream",
     "text": [
      "Validation accuracy:  0.919939\n",
      "Training accuracy:  0.964562\n",
      "Test accuracy:  0.811797\n"
     ]
    },
    {
     "name": "stderr",
     "output_type": "stream",
     "text": [
      "Epoch 454/500: 100%|██████████| 1863/1863 [00:02<00:00, 663.64batches/s]\n",
      "Epoch 455/500:   8%|▊         | 155/1863 [00:00<06:13,  4.58batches/s]"
     ]
    },
    {
     "name": "stdout",
     "output_type": "stream",
     "text": [
      "Validation accuracy:  0.920449\n",
      "Training accuracy:  0.964642\n",
      "Test accuracy:  0.812035\n"
     ]
    },
    {
     "name": "stderr",
     "output_type": "stream",
     "text": [
      "Epoch 455/500: 100%|██████████| 1863/1863 [00:02<00:00, 622.87batches/s]\n",
      "Epoch 456/500:   4%|▍         | 82/1863 [00:00<09:16,  3.20batches/s]"
     ]
    },
    {
     "name": "stdout",
     "output_type": "stream",
     "text": [
      "Validation accuracy:  0.920449\n",
      "Training accuracy:  0.964696\n",
      "Test accuracy:  0.812035\n"
     ]
    },
    {
     "name": "stderr",
     "output_type": "stream",
     "text": [
      "Epoch 456/500: 100%|██████████| 1863/1863 [00:03<00:00, 545.62batches/s]\n",
      "Epoch 457/500:   3%|▎         | 54/1863 [00:00<11:25,  2.64batches/s]"
     ]
    },
    {
     "name": "stdout",
     "output_type": "stream",
     "text": [
      "Validation accuracy:  0.920449\n",
      "Training accuracy:  0.964777\n",
      "Test accuracy:  0.812035\n"
     ]
    },
    {
     "name": "stderr",
     "output_type": "stream",
     "text": [
      "Epoch 457/500: 100%|██████████| 1863/1863 [00:03<00:00, 491.75batches/s]\n",
      "Epoch 458/500:   4%|▎         | 66/1863 [00:00<11:10,  2.68batches/s]"
     ]
    },
    {
     "name": "stdout",
     "output_type": "stream",
     "text": [
      "Validation accuracy:  0.920449\n",
      "Training accuracy:  0.96483\n",
      "Test accuracy:  0.812035\n"
     ]
    },
    {
     "name": "stderr",
     "output_type": "stream",
     "text": [
      "Epoch 458/500: 100%|██████████| 1863/1863 [00:03<00:00, 583.13batches/s]\n",
      "Epoch 459/500:   8%|▊         | 151/1863 [00:00<06:11,  4.61batches/s]"
     ]
    },
    {
     "name": "stdout",
     "output_type": "stream",
     "text": [
      "Validation accuracy:  0.920449\n",
      "Training accuracy:  0.96483\n",
      "Test accuracy:  0.812114\n"
     ]
    },
    {
     "name": "stderr",
     "output_type": "stream",
     "text": [
      "Epoch 459/500: 100%|██████████| 1863/1863 [00:02<00:00, 643.17batches/s]\n",
      "Epoch 460/500:   9%|▉         | 166/1863 [00:00<06:00,  4.71batches/s]"
     ]
    },
    {
     "name": "stdout",
     "output_type": "stream",
     "text": [
      "Validation accuracy:  0.920959\n",
      "Training accuracy:  0.964911\n",
      "Test accuracy:  0.812035\n"
     ]
    },
    {
     "name": "stderr",
     "output_type": "stream",
     "text": [
      "Epoch 460/500: 100%|██████████| 1863/1863 [00:02<00:00, 671.00batches/s]\n",
      "Epoch 461/500:   4%|▍         | 72/1863 [00:00<09:12,  3.24batches/s]"
     ]
    },
    {
     "name": "stdout",
     "output_type": "stream",
     "text": [
      "Validation accuracy:  0.920959\n",
      "Training accuracy:  0.964965\n",
      "Test accuracy:  0.811956\n"
     ]
    },
    {
     "name": "stderr",
     "output_type": "stream",
     "text": [
      "Epoch 461/500: 100%|██████████| 1863/1863 [00:02<00:00, 665.35batches/s]\n",
      "Epoch 462/500:   5%|▍         | 84/1863 [00:00<09:07,  3.25batches/s]"
     ]
    },
    {
     "name": "stdout",
     "output_type": "stream",
     "text": [
      "Validation accuracy:  0.920959\n",
      "Training accuracy:  0.965018\n",
      "Test accuracy:  0.811876\n"
     ]
    },
    {
     "name": "stderr",
     "output_type": "stream",
     "text": [
      "Epoch 462/500: 100%|██████████| 1863/1863 [00:02<00:00, 670.49batches/s]\n",
      "Epoch 463/500:   4%|▍         | 77/1863 [00:00<09:27,  3.14batches/s]"
     ]
    },
    {
     "name": "stdout",
     "output_type": "stream",
     "text": [
      "Validation accuracy:  0.920959\n",
      "Training accuracy:  0.965072\n",
      "Test accuracy:  0.811956\n"
     ]
    },
    {
     "name": "stderr",
     "output_type": "stream",
     "text": [
      "Epoch 463/500: 100%|██████████| 1863/1863 [00:02<00:00, 669.48batches/s]\n",
      "Epoch 464/500:   9%|▉         | 171/1863 [00:00<06:04,  4.64batches/s]"
     ]
    },
    {
     "name": "stdout",
     "output_type": "stream",
     "text": [
      "Validation accuracy:  0.920959\n",
      "Training accuracy:  0.965072\n",
      "Test accuracy:  0.811956\n"
     ]
    },
    {
     "name": "stderr",
     "output_type": "stream",
     "text": [
      "Epoch 464/500: 100%|██████████| 1863/1863 [00:02<00:00, 668.14batches/s]\n",
      "Epoch 465/500:   9%|▉         | 168/1863 [00:00<06:13,  4.53batches/s]"
     ]
    },
    {
     "name": "stdout",
     "output_type": "stream",
     "text": [
      "Validation accuracy:  0.920959\n",
      "Training accuracy:  0.965126\n",
      "Test accuracy:  0.811956\n"
     ]
    },
    {
     "name": "stderr",
     "output_type": "stream",
     "text": [
      "Epoch 465/500: 100%|██████████| 1863/1863 [00:02<00:00, 674.91batches/s]\n",
      "Epoch 466/500:   8%|▊         | 151/1863 [00:00<06:24,  4.45batches/s]"
     ]
    },
    {
     "name": "stdout",
     "output_type": "stream",
     "text": [
      "Validation accuracy:  0.920959\n",
      "Training accuracy:  0.965153\n",
      "Test accuracy:  0.811956\n"
     ]
    },
    {
     "name": "stderr",
     "output_type": "stream",
     "text": [
      "Epoch 466/500: 100%|██████████| 1863/1863 [00:02<00:00, 662.58batches/s]\n",
      "Epoch 467/500:   5%|▍         | 84/1863 [00:00<09:17,  3.19batches/s]"
     ]
    },
    {
     "name": "stdout",
     "output_type": "stream",
     "text": [
      "Validation accuracy:  0.920959\n",
      "Training accuracy:  0.965179\n",
      "Test accuracy:  0.812035\n"
     ]
    },
    {
     "name": "stderr",
     "output_type": "stream",
     "text": [
      "Epoch 467/500: 100%|██████████| 1863/1863 [00:02<00:00, 672.21batches/s]\n",
      "Epoch 468/500:   4%|▍         | 78/1863 [00:00<08:59,  3.31batches/s]"
     ]
    },
    {
     "name": "stdout",
     "output_type": "stream",
     "text": [
      "Validation accuracy:  0.920959\n",
      "Training accuracy:  0.965287\n",
      "Test accuracy:  0.812035\n"
     ]
    },
    {
     "name": "stderr",
     "output_type": "stream",
     "text": [
      "Epoch 468/500: 100%|██████████| 1863/1863 [00:02<00:00, 673.54batches/s]\n",
      "Epoch 469/500:   8%|▊         | 158/1863 [00:00<06:06,  4.65batches/s]"
     ]
    },
    {
     "name": "stdout",
     "output_type": "stream",
     "text": [
      "Validation accuracy:  0.920959\n",
      "Training accuracy:  0.965287\n",
      "Test accuracy:  0.811956\n"
     ]
    },
    {
     "name": "stderr",
     "output_type": "stream",
     "text": [
      "Epoch 469/500: 100%|██████████| 1863/1863 [00:02<00:00, 667.35batches/s]\n",
      "Epoch 470/500:   7%|▋         | 135/1863 [00:00<06:28,  4.45batches/s]"
     ]
    },
    {
     "name": "stdout",
     "output_type": "stream",
     "text": [
      "Validation accuracy:  0.920959\n",
      "Training accuracy:  0.965314\n",
      "Test accuracy:  0.812114\n"
     ]
    },
    {
     "name": "stderr",
     "output_type": "stream",
     "text": [
      "Epoch 470/500: 100%|██████████| 1863/1863 [00:03<00:00, 597.43batches/s]\n",
      "Epoch 471/500:   7%|▋         | 124/1863 [00:00<06:28,  4.48batches/s]"
     ]
    },
    {
     "name": "stdout",
     "output_type": "stream",
     "text": [
      "Validation accuracy:  0.920959\n",
      "Training accuracy:  0.965448\n",
      "Test accuracy:  0.812114\n"
     ]
    },
    {
     "name": "stderr",
     "output_type": "stream",
     "text": [
      "Epoch 471/500: 100%|██████████| 1863/1863 [00:03<00:00, 567.95batches/s]\n",
      "Epoch 472/500:   4%|▍         | 71/1863 [00:00<09:50,  3.04batches/s]"
     ]
    },
    {
     "name": "stdout",
     "output_type": "stream",
     "text": [
      "Validation accuracy:  0.920959\n",
      "Training accuracy:  0.965448\n",
      "Test accuracy:  0.812035\n"
     ]
    },
    {
     "name": "stderr",
     "output_type": "stream",
     "text": [
      "Epoch 472/500: 100%|██████████| 1863/1863 [00:03<00:00, 589.67batches/s]\n",
      "Epoch 473/500:   7%|▋         | 122/1863 [00:00<06:58,  4.16batches/s]"
     ]
    },
    {
     "name": "stdout",
     "output_type": "stream",
     "text": [
      "Validation accuracy:  0.920959\n",
      "Training accuracy:  0.965501\n",
      "Test accuracy:  0.812114\n"
     ]
    },
    {
     "name": "stderr",
     "output_type": "stream",
     "text": [
      "Epoch 473/500: 100%|██████████| 1863/1863 [00:03<00:00, 579.06batches/s]\n",
      "Epoch 474/500:   8%|▊         | 140/1863 [00:00<06:24,  4.49batches/s]"
     ]
    },
    {
     "name": "stdout",
     "output_type": "stream",
     "text": [
      "Validation accuracy:  0.920959\n",
      "Training accuracy:  0.965501\n",
      "Test accuracy:  0.812114\n"
     ]
    },
    {
     "name": "stderr",
     "output_type": "stream",
     "text": [
      "Epoch 474/500: 100%|██████████| 1863/1863 [00:02<00:00, 627.56batches/s]\n",
      "Epoch 475/500:   9%|▊         | 163/1863 [00:00<06:15,  4.53batches/s]"
     ]
    },
    {
     "name": "stdout",
     "output_type": "stream",
     "text": [
      "Validation accuracy:  0.920959\n",
      "Training accuracy:  0.965555\n",
      "Test accuracy:  0.812035\n"
     ]
    },
    {
     "name": "stderr",
     "output_type": "stream",
     "text": [
      "Epoch 475/500: 100%|██████████| 1863/1863 [00:02<00:00, 683.62batches/s]\n",
      "Epoch 476/500:   9%|▊         | 159/1863 [00:00<06:10,  4.60batches/s]"
     ]
    },
    {
     "name": "stdout",
     "output_type": "stream",
     "text": [
      "Validation accuracy:  0.920959\n",
      "Training accuracy:  0.965582\n",
      "Test accuracy:  0.812035\n"
     ]
    },
    {
     "name": "stderr",
     "output_type": "stream",
     "text": [
      "Epoch 476/500: 100%|██████████| 1863/1863 [00:02<00:00, 663.05batches/s]\n",
      "Epoch 477/500:   8%|▊         | 158/1863 [00:00<06:07,  4.64batches/s]"
     ]
    },
    {
     "name": "stdout",
     "output_type": "stream",
     "text": [
      "Validation accuracy:  0.920959\n",
      "Training accuracy:  0.965663\n",
      "Test accuracy:  0.812114\n"
     ]
    },
    {
     "name": "stderr",
     "output_type": "stream",
     "text": [
      "Epoch 477/500: 100%|██████████| 1863/1863 [00:02<00:00, 655.69batches/s]\n",
      "Epoch 478/500:   4%|▍         | 79/1863 [00:00<09:05,  3.27batches/s]"
     ]
    },
    {
     "name": "stdout",
     "output_type": "stream",
     "text": [
      "Validation accuracy:  0.920959\n",
      "Training accuracy:  0.965689\n",
      "Test accuracy:  0.812114\n"
     ]
    },
    {
     "name": "stderr",
     "output_type": "stream",
     "text": [
      "Epoch 478/500: 100%|██████████| 1863/1863 [00:02<00:00, 675.81batches/s]\n",
      "Epoch 479/500:   5%|▍         | 87/1863 [00:00<09:03,  3.27batches/s]"
     ]
    },
    {
     "name": "stdout",
     "output_type": "stream",
     "text": [
      "Validation accuracy:  0.920959\n",
      "Training accuracy:  0.965689\n",
      "Test accuracy:  0.812114\n"
     ]
    },
    {
     "name": "stderr",
     "output_type": "stream",
     "text": [
      "Epoch 479/500: 100%|██████████| 1863/1863 [00:02<00:00, 669.77batches/s]\n",
      "Epoch 480/500:   5%|▍         | 87/1863 [00:00<09:12,  3.21batches/s]"
     ]
    },
    {
     "name": "stdout",
     "output_type": "stream",
     "text": [
      "Validation accuracy:  0.920959\n",
      "Training accuracy:  0.965716\n",
      "Test accuracy:  0.812193\n"
     ]
    },
    {
     "name": "stderr",
     "output_type": "stream",
     "text": [
      "Epoch 480/500: 100%|██████████| 1863/1863 [00:02<00:00, 700.66batches/s]\n",
      "Epoch 481/500:   9%|▊         | 162/1863 [00:00<06:36,  4.29batches/s]"
     ]
    },
    {
     "name": "stdout",
     "output_type": "stream",
     "text": [
      "Validation accuracy:  0.920959\n",
      "Training accuracy:  0.965797\n",
      "Test accuracy:  0.812193\n"
     ]
    },
    {
     "name": "stderr",
     "output_type": "stream",
     "text": [
      "Epoch 481/500: 100%|██████████| 1863/1863 [00:02<00:00, 661.63batches/s]\n",
      "Epoch 482/500:   9%|▉         | 166/1863 [00:00<06:01,  4.69batches/s]"
     ]
    },
    {
     "name": "stdout",
     "output_type": "stream",
     "text": [
      "Validation accuracy:  0.920959\n",
      "Training accuracy:  0.965877\n",
      "Test accuracy:  0.812193\n"
     ]
    },
    {
     "name": "stderr",
     "output_type": "stream",
     "text": [
      "Epoch 482/500: 100%|██████████| 1863/1863 [00:02<00:00, 689.05batches/s]\n",
      "Epoch 483/500:   9%|▊         | 162/1863 [00:00<05:47,  4.89batches/s]"
     ]
    },
    {
     "name": "stdout",
     "output_type": "stream",
     "text": [
      "Validation accuracy:  0.920959\n",
      "Training accuracy:  0.965877\n",
      "Test accuracy:  0.812193\n"
     ]
    },
    {
     "name": "stderr",
     "output_type": "stream",
     "text": [
      "Epoch 483/500: 100%|██████████| 1863/1863 [00:02<00:00, 668.77batches/s]\n",
      "Epoch 484/500:   9%|▉         | 164/1863 [00:00<06:12,  4.56batches/s]"
     ]
    },
    {
     "name": "stdout",
     "output_type": "stream",
     "text": [
      "Validation accuracy:  0.920959\n",
      "Training accuracy:  0.965904\n",
      "Test accuracy:  0.812272\n"
     ]
    },
    {
     "name": "stderr",
     "output_type": "stream",
     "text": [
      "Epoch 484/500: 100%|██████████| 1863/1863 [00:02<00:00, 663.35batches/s]\n",
      "Epoch 485/500:   7%|▋         | 136/1863 [00:00<06:12,  4.64batches/s]"
     ]
    },
    {
     "name": "stdout",
     "output_type": "stream",
     "text": [
      "Validation accuracy:  0.921469\n",
      "Training accuracy:  0.965931\n",
      "Test accuracy:  0.812352\n"
     ]
    },
    {
     "name": "stderr",
     "output_type": "stream",
     "text": [
      "Epoch 485/500: 100%|██████████| 1863/1863 [00:03<00:00, 555.38batches/s]\n",
      "Epoch 486/500:   6%|▌         | 109/1863 [00:00<08:08,  3.59batches/s]"
     ]
    },
    {
     "name": "stdout",
     "output_type": "stream",
     "text": [
      "Validation accuracy:  0.921469\n",
      "Training accuracy:  0.966012\n",
      "Test accuracy:  0.812352\n"
     ]
    },
    {
     "name": "stderr",
     "output_type": "stream",
     "text": [
      "Epoch 486/500: 100%|██████████| 1863/1863 [00:03<00:00, 476.47batches/s]\n",
      "Epoch 487/500:   7%|▋         | 132/1863 [00:00<07:41,  3.75batches/s]"
     ]
    },
    {
     "name": "stdout",
     "output_type": "stream",
     "text": [
      "Validation accuracy:  0.921469\n",
      "Training accuracy:  0.965985\n",
      "Test accuracy:  0.812272\n"
     ]
    },
    {
     "name": "stderr",
     "output_type": "stream",
     "text": [
      "Epoch 487/500: 100%|██████████| 1863/1863 [00:03<00:00, 525.73batches/s]\n",
      "Epoch 488/500:   4%|▍         | 70/1863 [00:00<10:05,  2.96batches/s]"
     ]
    },
    {
     "name": "stdout",
     "output_type": "stream",
     "text": [
      "Validation accuracy:  0.921469\n",
      "Training accuracy:  0.965985\n",
      "Test accuracy:  0.812193\n"
     ]
    },
    {
     "name": "stderr",
     "output_type": "stream",
     "text": [
      "Epoch 488/500: 100%|██████████| 1863/1863 [00:03<00:00, 607.24batches/s]\n",
      "Epoch 489/500:   8%|▊         | 153/1863 [00:00<06:25,  4.43batches/s]"
     ]
    },
    {
     "name": "stdout",
     "output_type": "stream",
     "text": [
      "Validation accuracy:  0.921469\n",
      "Training accuracy:  0.966038\n",
      "Test accuracy:  0.812114\n"
     ]
    },
    {
     "name": "stderr",
     "output_type": "stream",
     "text": [
      "Epoch 489/500: 100%|██████████| 1863/1863 [00:03<00:00, 603.15batches/s]\n",
      "Epoch 490/500:   3%|▎         | 63/1863 [00:00<10:31,  2.85batches/s]"
     ]
    },
    {
     "name": "stdout",
     "output_type": "stream",
     "text": [
      "Validation accuracy:  0.920959\n",
      "Training accuracy:  0.966038\n",
      "Test accuracy:  0.812193\n"
     ]
    },
    {
     "name": "stderr",
     "output_type": "stream",
     "text": [
      "Epoch 490/500: 100%|██████████| 1863/1863 [00:03<00:00, 536.23batches/s]\n",
      "Epoch 491/500:   4%|▍         | 70/1863 [00:00<10:04,  2.96batches/s]"
     ]
    },
    {
     "name": "stdout",
     "output_type": "stream",
     "text": [
      "Validation accuracy:  0.920959\n",
      "Training accuracy:  0.966038\n",
      "Test accuracy:  0.812193\n"
     ]
    },
    {
     "name": "stderr",
     "output_type": "stream",
     "text": [
      "Epoch 491/500: 100%|██████████| 1863/1863 [00:02<00:00, 622.96batches/s]\n",
      "Epoch 492/500:   4%|▍         | 78/1863 [00:00<09:44,  3.06batches/s]"
     ]
    },
    {
     "name": "stdout",
     "output_type": "stream",
     "text": [
      "Validation accuracy:  0.920959\n",
      "Training accuracy:  0.966065\n",
      "Test accuracy:  0.812352\n"
     ]
    },
    {
     "name": "stderr",
     "output_type": "stream",
     "text": [
      "Epoch 492/500: 100%|██████████| 1863/1863 [00:02<00:00, 648.24batches/s]\n",
      "Epoch 493/500:   9%|▉         | 166/1863 [00:00<06:00,  4.70batches/s]"
     ]
    },
    {
     "name": "stdout",
     "output_type": "stream",
     "text": [
      "Validation accuracy:  0.920959\n",
      "Training accuracy:  0.966119\n",
      "Test accuracy:  0.812431\n"
     ]
    },
    {
     "name": "stderr",
     "output_type": "stream",
     "text": [
      "Epoch 493/500: 100%|██████████| 1863/1863 [00:02<00:00, 649.23batches/s]\n",
      "Epoch 494/500:   4%|▎         | 66/1863 [00:00<10:15,  2.92batches/s]"
     ]
    },
    {
     "name": "stdout",
     "output_type": "stream",
     "text": [
      "Validation accuracy:  0.920959\n",
      "Training accuracy:  0.966119\n",
      "Test accuracy:  0.812431\n"
     ]
    },
    {
     "name": "stderr",
     "output_type": "stream",
     "text": [
      "Epoch 494/500: 100%|██████████| 1863/1863 [00:03<00:00, 555.36batches/s]\n",
      "Epoch 495/500:   6%|▋         | 117/1863 [00:00<08:04,  3.61batches/s]"
     ]
    },
    {
     "name": "stdout",
     "output_type": "stream",
     "text": [
      "Validation accuracy:  0.920959\n",
      "Training accuracy:  0.966146\n",
      "Test accuracy:  0.812431\n"
     ]
    },
    {
     "name": "stderr",
     "output_type": "stream",
     "text": [
      "Epoch 495/500: 100%|██████████| 1863/1863 [00:03<00:00, 532.95batches/s]\n",
      "Epoch 496/500:   7%|▋         | 127/1863 [00:00<06:47,  4.26batches/s]"
     ]
    },
    {
     "name": "stdout",
     "output_type": "stream",
     "text": [
      "Validation accuracy:  0.920959\n",
      "Training accuracy:  0.966173\n",
      "Test accuracy:  0.812352\n"
     ]
    },
    {
     "name": "stderr",
     "output_type": "stream",
     "text": [
      "Epoch 496/500: 100%|██████████| 1863/1863 [00:02<00:00, 628.04batches/s]\n",
      "Epoch 497/500:   4%|▎         | 69/1863 [00:00<09:32,  3.14batches/s]"
     ]
    },
    {
     "name": "stdout",
     "output_type": "stream",
     "text": [
      "Validation accuracy:  0.921469\n",
      "Training accuracy:  0.966253\n",
      "Test accuracy:  0.812193\n"
     ]
    },
    {
     "name": "stderr",
     "output_type": "stream",
     "text": [
      "Epoch 497/500: 100%|██████████| 1863/1863 [00:03<00:00, 567.63batches/s]\n",
      "Epoch 498/500:   7%|▋         | 128/1863 [00:00<07:04,  4.08batches/s]"
     ]
    },
    {
     "name": "stdout",
     "output_type": "stream",
     "text": [
      "Validation accuracy:  0.921469\n",
      "Training accuracy:  0.96628\n",
      "Test accuracy:  0.812114\n"
     ]
    },
    {
     "name": "stderr",
     "output_type": "stream",
     "text": [
      "Epoch 498/500: 100%|██████████| 1863/1863 [00:03<00:00, 557.76batches/s]\n",
      "Epoch 499/500:   4%|▍         | 75/1863 [00:00<09:46,  3.05batches/s]"
     ]
    },
    {
     "name": "stdout",
     "output_type": "stream",
     "text": [
      "Validation accuracy:  0.921469\n",
      "Training accuracy:  0.96628\n",
      "Test accuracy:  0.812193\n"
     ]
    },
    {
     "name": "stderr",
     "output_type": "stream",
     "text": [
      "Epoch 499/500: 100%|██████████| 1863/1863 [00:02<00:00, 643.32batches/s]\n",
      "Epoch 500/500:   8%|▊         | 154/1863 [00:00<06:24,  4.44batches/s]"
     ]
    },
    {
     "name": "stdout",
     "output_type": "stream",
     "text": [
      "Validation accuracy:  0.921469\n",
      "Training accuracy:  0.966334\n",
      "Test accuracy:  0.812272\n"
     ]
    },
    {
     "name": "stderr",
     "output_type": "stream",
     "text": [
      "Epoch 500/500: 100%|██████████| 1863/1863 [00:02<00:00, 670.01batches/s]\n"
     ]
    },
    {
     "data": {
      "image/png": "[encoded data removed]",
      "text/plain": [
       "<matplotlib.figure.Figure at 0x1069fcf28>"
      ]
     },
     "metadata": {},
     "output_type": "display_data"
    },
    {
     "name": "stdout",
     "output_type": "stream",
     "text": [
      "Validation accuracy at 0.9235084056854248\n",
      "Test accuracy at 0.8139351010322571\n"
     ]
    }
   ],
   "source": [
    "import math\n",
    "from tqdm import tqdm\n",
    "\n",
    "### Train your model here.\n",
    "### Feel free to use as many code cells as needed.\n",
    "\n",
    "# ToDo: Find the best parameters for each configuration\n",
    "epochs = 500\n",
    "batch_size = 20\n",
    "learning_rate = .24\n",
    "\n",
    "### DON'T MODIFY ANYTHING BELOW ###\n",
    "# Gradient Descent\n",
    "optimizer = tf.train.GradientDescentOptimizer(learning_rate).minimize(loss)    \n",
    "\n",
    "# The accuracy measured against the validation set\n",
    "validation_accuracy = 0.0\n",
    "test_accuracy = 0.0\n",
    "\n",
    "# Measurements use for graphing loss and accuracy\n",
    "log_batch_step = 2000\n",
    "batches = []\n",
    "loss_batch = []\n",
    "train_acc_batch = []\n",
    "valid_acc_batch = []\n",
    "\n",
    "with tf.Session() as session:\n",
    "    session.run(init)\n",
    "    batch_count = int(math.ceil(len(train_features)/batch_size))\n",
    "\n",
    "    for epoch_i in range(epochs):\n",
    "        \n",
    "        # Progress bar\n",
    "        batches_pbar = tqdm(range(batch_count), desc='Epoch {:>2}/{}'.format(epoch_i+1, epochs), unit='batches')\n",
    "        \n",
    "        # The training cycle\n",
    "        for batch_i in batches_pbar:\n",
    "            # Get a batch of training features and labels\n",
    "            batch_start = batch_i*batch_size\n",
    "            batch_features = train_features[batch_start:batch_start + batch_size]\n",
    "            batch_labels = train_labels[batch_start:batch_start + batch_size]\n",
    "\n",
    "            # Run optimizer and get loss\n",
    "            _, l = session.run(\n",
    "                [optimizer, loss],\n",
    "                feed_dict={features: batch_features, labels: batch_labels})\n",
    "\n",
    "            # Log every 50 batches\n",
    "            if not batch_i % log_batch_step:\n",
    "                # Calculate Training and Validation accuracy\n",
    "                training_accuracy = session.run(accuracy, feed_dict=train_feed_dict)\n",
    "                validation_accuracy = session.run(accuracy, feed_dict=valid_feed_dict)\n",
    "                test_accuracy = session.run(accuracy, feed_dict=test_feed_dict)\n",
    "                print(\"Validation accuracy: \", validation_accuracy)\n",
    "                print(\"Training accuracy: \", training_accuracy)\n",
    "                print(\"Test accuracy: \", test_accuracy)\n",
    "                \n",
    "                # Log batches\n",
    "                previous_batch = batches[-1] if batches else 0\n",
    "                batches.append(log_batch_step + previous_batch)\n",
    "                loss_batch.append(l)\n",
    "                train_acc_batch.append(training_accuracy)\n",
    "                valid_acc_batch.append(validation_accuracy)\n",
    "\n",
    "        # Check accuracy against Validation data\n",
    "        validation_accuracy = session.run(accuracy, feed_dict=valid_feed_dict)\n",
    "        test_accuracy = session.run(accuracy, feed_dict=test_feed_dict)\n",
    "\n",
    "loss_plot = plt.subplot(211)\n",
    "loss_plot.set_title('Loss')\n",
    "loss_plot.plot(batches, loss_batch, 'g')\n",
    "loss_plot.set_xlim([batches[0], batches[-1]])\n",
    "acc_plot = plt.subplot(212)\n",
    "acc_plot.set_title('Accuracy')\n",
    "acc_plot.plot(batches, train_acc_batch, 'r', label='Training Accuracy')\n",
    "acc_plot.plot(batches, valid_acc_batch, 'b', label='Validation Accuracy')\n",
    "acc_plot.set_ylim([0, 1.0])\n",
    "acc_plot.set_xlim([batches[0], batches[-1]])\n",
    "acc_plot.legend(loc=4)\n",
    "plt.tight_layout()\n",
    "plt.show()\n",
    "\n",
    "print('Validation accuracy at {}'.format(validation_accuracy))\n",
    "print('Test accuracy at {}'.format(test_accuracy))"
   ]
  },
  {
   "cell_type": "markdown",
   "metadata": {},
   "source": [
    "### Question 4\n",
    "\n",
    "_How did you train your model? (Type of optimizer, batch size, epochs, hyperparameters, etc.)_\n"
   ]
  },
  {
   "cell_type": "markdown",
   "metadata": {},
   "source": [
    "**Answer:**\n",
    "GradientDescent optimizer\n",
    "epochs = 500\n",
    "batch_size = 20\n",
    "learning_rate = .24\n"
   ]
  },
  {
   "cell_type": "markdown",
   "metadata": {},
   "source": [
    "### Question 5\n",
    "\n",
    "\n",
    "_What approach did you take in coming up with a solution to this problem?_"
   ]
  },
  {
   "cell_type": "markdown",
   "metadata": {},
   "source": [
    "**Answer:**\n",
    "The current approach was based on Tensorflow single layer neural network with linear model. Softmax was leveraged for prediction calculations. Gradientdescent optimizer was used for training the model in batches.\n",
    "\n",
    "Issues encountered: Cross entropy calculation had to be changed. When the images were read from pickle it was in BGR format, had to adjust the implementation\n",
    "\n",
    "As the epoch size was increased the accuracy increased and loss was minimized\n"
   ]
  },
  {
   "cell_type": "markdown",
   "metadata": {},
   "source": [
    "---\n",
    "\n",
    "## Step 3: Test a Model on New Images\n",
    "\n",
    "Take several pictures of traffic signs that you find on the web or around you (at least five), and run them through your classifier on your computer to produce example results. The classifier might not recognize some local signs but it could prove interesting nonetheless.\n",
    "\n",
    "You may find `signnames.csv` useful as it contains mappings from the class id (integer) to the actual sign name."
   ]
  },
  {
   "cell_type": "markdown",
   "metadata": {},
   "source": [
    "### Implementation\n",
    "\n",
    "Use the code cell (or multiple code cells, if necessary) to implement the first step of your project. Once you have completed your implementation and are satisfied with the results, be sure to thoroughly answer the questions that follow."
   ]
  },
  {
   "cell_type": "code",
   "execution_count": 40,
   "metadata": {
    "collapsed": false
   },
   "outputs": [
    {
     "data": {
      "image/png": "[encoded data removed]",
      "text/plain": [
       "<matplotlib.figure.Figure at 0x11ba296d8>"
      ]
     },
     "metadata": {},
     "output_type": "display_data"
    },
    {
     "data": {
      "image/png": "[encoded data removed]",
      "text/plain": [
       "<matplotlib.figure.Figure at 0x10fcc1f28>"
      ]
     },
     "metadata": {},
     "output_type": "display_data"
    },
    {
     "data": {
      "image/png": "[encoded data removed]",
      "text/plain": [
       "<matplotlib.figure.Figure at 0x10c8b09b0>"
      ]
     },
     "metadata": {},
     "output_type": "display_data"
    },
    {
     "data": {
      "image/png": "[encoded data removed]",
      "text/plain": [
       "<matplotlib.figure.Figure at 0x10fdf6c88>"
      ]
     },
     "metadata": {},
     "output_type": "display_data"
    },
    {
     "data": {
      "image/png": "[encoded data removed]",
      "text/plain": [
       "<matplotlib.figure.Figure at 0x10c7d72b0>"
      ]
     },
     "metadata": {},
     "output_type": "display_data"
    },
    {
     "name": "stdout",
     "output_type": "stream",
     "text": [
      "image shape (1024,)\n",
      "test_model_features.shape (5, 1024)\n",
      "test_model_features value [[ 0.46392157  0.46392157  0.46705882 ...,  0.63333333  0.63333333\n",
      "   0.63333333]\n",
      " [ 0.42941176  0.44196078  0.43568627 ...,  0.62392157  0.62392157\n",
      "   0.61764706]\n",
      " [ 0.69921569  0.69921569  0.69607843 ...,  0.80901961  0.80901961\n",
      "   0.80901961]\n",
      " [ 0.9         0.9         0.9        ...,  0.9         0.8654902   0.9       ]\n",
      " [ 0.9         0.9         0.89686275 ...,  0.9         0.88745098\n",
      "   0.89058824]]\n",
      "test_model_labels.shape (5, 43)\n",
      "test_model_labels value [[ 0.  0.  0.  0.  0.  0.  0.  0.  0.  0.  0.  0.  0.  0.  1.  0.  0.  0.\n",
      "   0.  0.  0.  0.  0.  0.  0.  0.  0.  0.  0.  0.  0.  0.  0.  0.  0.  0.\n",
      "   0.  0.  0.  0.  0.  0.  0.]\n",
      " [ 1.  0.  0.  0.  0.  0.  0.  0.  0.  0.  0.  0.  0.  0.  0.  0.  0.  0.\n",
      "   0.  0.  0.  0.  0.  0.  0.  0.  0.  0.  0.  0.  0.  0.  0.  0.  0.  0.\n",
      "   0.  0.  0.  0.  0.  0.  0.]\n",
      " [ 0.  0.  0.  0.  0.  0.  0.  0.  0.  0.  0.  0.  0.  0.  0.  0.  0.  1.\n",
      "   0.  0.  0.  0.  0.  0.  0.  0.  0.  0.  0.  0.  0.  0.  0.  0.  0.  0.\n",
      "   0.  0.  0.  0.  0.  0.  0.]\n",
      " [ 0.  1.  0.  0.  0.  0.  0.  0.  0.  0.  0.  0.  0.  0.  0.  0.  0.  0.\n",
      "   0.  0.  0.  0.  0.  0.  0.  0.  0.  0.  0.  0.  0.  0.  0.  0.  0.  0.\n",
      "   0.  0.  0.  0.  0.  0.  0.]\n",
      " [ 0.  0.  0.  0.  0.  0.  0.  0.  1.  0.  0.  0.  0.  0.  0.  0.  0.  0.\n",
      "   0.  0.  0.  0.  0.  0.  0.  0.  0.  0.  0.  0.  0.  0.  0.  0.  0.  0.\n",
      "   0.  0.  0.  0.  0.  0.  0.]]\n",
      "pred [[  2.37976447e-08   8.46326835e-23   6.27996514e-17   1.16233490e-02\n",
      "    2.15072449e-09   4.64472727e-09   9.41411443e-18   1.34623843e-16\n",
      "    1.54131907e-09   2.87754425e-08   5.13803039e-16   8.88430617e-28\n",
      "    1.66188292e-22   3.19721497e-04   8.88659480e-13   8.32908735e-19\n",
      "    3.30459604e-10   6.47987263e-12   1.92018384e-23   1.79989807e-18\n",
      "    8.44559534e-23   2.99615844e-12   2.63036156e-17   1.11008030e-15\n",
      "    1.34850441e-17   4.38771138e-28   7.39577670e-15   2.60094639e-25\n",
      "    4.86392031e-24   1.05232324e-14   6.92983095e-20   4.91709755e-13\n",
      "    2.40542697e-10   9.88056779e-01   2.84272558e-14   6.67319092e-17\n",
      "    1.39085989e-24   5.81349883e-15   5.22051735e-08   8.52939735e-13\n",
      "    8.98454644e-08   2.99134423e-16   6.38314748e-12]\n",
      " [  3.41161467e-05   4.58745691e-25   1.10664420e-18   8.75188589e-01\n",
      "    6.95530787e-07   5.67461575e-06   9.77321197e-13   5.68016430e-16\n",
      "    8.56631321e-10   9.27675137e-06   1.98823640e-12   3.23818273e-27\n",
      "    5.76543034e-17   6.50419295e-02   3.51616110e-12   4.07407686e-15\n",
      "    5.49292622e-07   4.53872183e-12   5.03375148e-22   9.39710197e-17\n",
      "    9.19873978e-23   4.07941062e-15   6.38245923e-12   3.26629376e-13\n",
      "    4.59123919e-17   2.96846243e-21   4.84822369e-17   2.39707415e-22\n",
      "    7.52932482e-25   1.99428962e-09   1.21353013e-14   6.47792633e-23\n",
      "    7.93865183e-07   3.01048588e-02   1.80785503e-06   8.37210076e-15\n",
      "    9.93684840e-22   9.75062364e-10   2.96117365e-02   4.36927161e-11\n",
      "    4.30361684e-11   5.16966400e-14   5.09471944e-11]\n",
      " [  2.43698373e-09   7.84173774e-35   1.11323632e-25   9.95056510e-01\n",
      "    2.14610339e-12   7.84478765e-13   5.07880778e-21   2.60954253e-22\n",
      "    1.19862410e-12   5.26166888e-10   9.37928499e-27   7.94855950e-36\n",
      "    3.19789716e-24   6.94369762e-09   3.86522759e-21   7.27767868e-25\n",
      "    1.48918087e-17   5.31045358e-15   5.37106390e-30   1.01021959e-26\n",
      "    7.40756291e-31   3.53990521e-20   7.51745376e-21   1.16291500e-19\n",
      "    5.03723164e-27   1.99210069e-37   1.43009886e-19   1.84489327e-32\n",
      "    3.08635042e-33   7.98213539e-21   7.59227392e-27   8.37414549e-21\n",
      "    1.65729077e-14   4.94353892e-03   1.22288163e-14   2.56120555e-24\n",
      "    4.33146834e-32   1.29060317e-18   7.47160597e-11   1.64621511e-20\n",
      "    2.43488536e-15   1.07259056e-20   1.34388415e-19]\n",
      " [  2.42113515e-06   1.50170373e-32   3.24770475e-22   9.99573171e-01\n",
      "    3.54281423e-04   4.51492871e-15   9.26129695e-18   1.09052453e-15\n",
      "    2.63912373e-13   2.53039928e-12   8.95867422e-25   0.00000000e+00\n",
      "    1.08758878e-20   6.21846993e-05   3.97253853e-17   6.05936042e-25\n",
      "    4.55740783e-16   2.08531909e-13   8.38442578e-33   1.46404932e-24\n",
      "    9.30862221e-32   8.98350715e-20   1.19287819e-15   1.74287749e-17\n",
      "    1.37314657e-22   1.19536285e-34   8.41053755e-17   7.36383852e-32\n",
      "    1.55360020e-30   3.30063540e-15   4.85682207e-21   1.09287242e-24\n",
      "    9.98120697e-10   7.93402523e-06   6.12256484e-16   1.24162819e-22\n",
      "    9.14583506e-31   1.59668590e-15   3.01838806e-12   1.17103628e-18\n",
      "    4.43431235e-15   1.24055887e-21   9.12120422e-23]\n",
      " [  2.26803131e-05   9.55409776e-33   1.05144941e-22   9.99186218e-01\n",
      "    4.55184500e-06   3.83297825e-14   1.29466484e-18   1.05815105e-18\n",
      "    9.16754453e-16   4.53180028e-13   2.10367091e-25   1.42048168e-38\n",
      "    5.06448859e-20   8.81499407e-09   2.23400768e-15   3.71392386e-25\n",
      "    1.92462204e-16   1.94774083e-15   1.60753903e-35   2.06355459e-27\n",
      "    6.40441884e-32   3.21613901e-21   2.38854813e-19   4.33093690e-16\n",
      "    4.10636219e-25   1.61845454e-35   5.64787381e-16   4.39146782e-35\n",
      "    5.06687032e-33   2.81901967e-14   3.35549900e-22   1.64761624e-25\n",
      "    1.89147287e-12   7.86609133e-04   2.37249333e-19   1.14573532e-21\n",
      "    4.43325781e-29   1.49442602e-17   5.88696369e-10   4.74877257e-23\n",
      "    1.56152695e-18   2.00115256e-24   1.83600355e-24]]\n",
      "pred argmax =  [array([33,  3,  3,  3,  3])]\n",
      "prediction1 =  [False False False False False]\n",
      "logits argmax:  [array([33,  3,  3,  3,  3])]\n",
      "test_model_accuracy =  0.0\n",
      "values:  [TopKV2(values=array([[  9.88056779e-01,   1.16233490e-02,   3.19721497e-04,\n",
      "          8.98454644e-08,   5.22051735e-08],\n",
      "       [  8.75188589e-01,   6.50419295e-02,   3.01048588e-02,\n",
      "          2.96117365e-02,   3.41161467e-05],\n",
      "       [  9.95056510e-01,   4.94353892e-03,   6.94369762e-09,\n",
      "          2.43698373e-09,   5.26166888e-10],\n",
      "       [  9.99573171e-01,   3.54281423e-04,   6.21846993e-05,\n",
      "          7.93402523e-06,   2.42113515e-06],\n",
      "       [  9.99186218e-01,   7.86609133e-04,   2.26803131e-05,\n",
      "          4.55184500e-06,   8.81499407e-09]], dtype=float32), indices=array([[33,  3, 13, 40, 38],\n",
      "       [ 3, 13, 33, 38,  0],\n",
      "       [ 3, 33, 13,  0,  9],\n",
      "       [ 3,  4, 13, 33,  0],\n",
      "       [ 3, 33,  0,  4, 13]], dtype=int32))]\n"
     ]
    }
   ],
   "source": [
    "import cv2\n",
    "import numpy as np\n",
    "from matplotlib import pyplot as plt\n",
    "\n",
    "def normalize_greyscale(image_data):\n",
    "    \"\"\"\n",
    "    Normalize the image data with Min-Max scaling to a range of [0.1, 0.9]\n",
    "    :param image_data: The image data to be normalized\n",
    "    :return: Normalized image data\n",
    "    \"\"\"\n",
    "    a = 0.1\n",
    "    b = 0.9\n",
    "    greyscale_min = 0\n",
    "    greyscale_max = 255\n",
    "    return a + ( ( (image_data - greyscale_min)*(b - a) )/( greyscale_max - greyscale_min ) )\n",
    "\n",
    "### Load the images and plot them here.\n",
    "### Feel free to use as many code cells as needed.\n",
    "num_test_model_images = 5\n",
    "num_test_model_labels = 5\n",
    "img1 = cv2.imread(\"/Users/sharanya.doddapaneni/nanodegree/selfdriving/Archive/test/stop.png\",0)\n",
    "img2 = cv2.imread(\"/Users/sharanya.doddapaneni/nanodegree/selfdriving/Archive/test/speed-20.png\",0)\n",
    "img3 = cv2.imread(\"/Users/sharanya.doddapaneni/nanodegree/selfdriving/Archive/test/no-entry.png\",0)\n",
    "img4 = cv2.imread(\"/Users/sharanya.doddapaneni/nanodegree/selfdriving/Archive/test/speed-30.jpg\",0)\n",
    "img5 = cv2.imread(\"/Users/sharanya.doddapaneni/nanodegree/selfdriving/Archive/test/speed-120.jpg\",0)\n",
    "\n",
    "#cv2.imshow(\"image\", img);\n",
    "\n",
    "plt.imshow(img1, cmap = 'gray', interpolation = 'bicubic')\n",
    "plt.show()\n",
    "img1 = img1.flatten()\n",
    "\n",
    "plt.imshow(img2, cmap = 'gray', interpolation = 'bicubic')\n",
    "plt.show()\n",
    "img2 = img2.flatten()\n",
    "\n",
    "plt.imshow(img3, cmap = 'gray', interpolation = 'bicubic')\n",
    "plt.show()\n",
    "img3 = img3.flatten()\n",
    "\n",
    "plt.imshow(img4, cmap = 'gray', interpolation = 'bicubic')\n",
    "plt.show()\n",
    "img4 = img4.flatten()\n",
    "\n",
    "plt.imshow(img5, cmap = 'gray', interpolation = 'bicubic')\n",
    "plt.show()\n",
    "img5 = img5.flatten()\n",
    "\n",
    "\n",
    "\n",
    "print(\"image shape\", img.shape)\n",
    "test_model_features = np.zeros((num_test_model_images,1024))\n",
    "test_model_features[0] = img1\n",
    "test_model_features[1] = img2\n",
    "test_model_features[2] = img3\n",
    "test_model_features[3] = img4\n",
    "test_model_features[4] = img5\n",
    "\n",
    "test_model_features = normalize_greyscale(test_model_features)\n",
    "\n",
    "test_model_labels = np.zeros((num_test_model_labels,43))\n",
    "test_model_labels[0,14] = 1\n",
    "test_model_labels[1,0]= 1\n",
    "test_model_labels[2,17]= 1\n",
    "test_model_labels[3,1]= 1\n",
    "test_model_labels[4,8]= 1\n",
    "\n",
    "print (\"test_model_features.shape\", test_model_features.shape)\n",
    "print(\"test_model_features value\", test_model_features)\n",
    "print(\"test_model_labels.shape\", test_model_labels.shape)\n",
    "print(\"test_model_labels value\", test_model_labels)\n",
    "\n",
    "test_model_feed_dict = {features: test_model_features, labels: test_model_labels}\n",
    "\n",
    "#is_correct_prediction = tf.equal(tf.argmax(prediction, 1), tf.argmax(labels, 1))\n",
    "\n",
    "#Calculate prediction\n",
    "with tf.Session() as session:\n",
    "    session.run(init)\n",
    "    #log = session.run(logits, feed_dict=test_model_feed_dict)\n",
    "    #log = tf.nn.relu(log)\n",
    "    #print (\"logits\", log.eval())\n",
    "    #tf.Print(log, [log], message=\"This is logits: \")\n",
    "    pred = session.run(prediction,feed_dict=test_model_feed_dict)\n",
    "    print(\"pred\", pred)\n",
    "    pred_val = session.run([tf.argmax(pred, 1)], feed_dict = test_model_feed_dict)\n",
    "    print(\"pred argmax = \", pred_val)\n",
    "    is_correct_pred = session.run(is_correct_prediction, feed_dict=test_model_feed_dict)\n",
    "    print(\"prediction1 = \",is_correct_pred)\n",
    "    val = session.run([tf.argmax(logits, 1)], feed_dict = test_model_feed_dict) \n",
    "    print(\"logits argmax: \", val)\n",
    "    test_model_accuracy = session.run(accuracy, feed_dict=test_model_feed_dict)\n",
    "    print(\"test_model_accuracy = \",test_model_accuracy)\n",
    "    values = session.run([tf.nn.top_k(pred, k=5, sorted=True, name=None)], feed_dict = test_model_feed_dict)\n",
    "    print(\"values: \", values)"
   ]
  },
  {
   "cell_type": "markdown",
   "metadata": {},
   "source": [
    "### Question 6\n",
    "\n",
    "_Choose five candidate images of traffic signs and provide them in the report. Are there any particular qualities of the image(s) that might make classification difficult? It would be helpful to plot the images in the notebook._\n",
    "\n"
   ]
  },
  {
   "cell_type": "markdown",
   "metadata": {},
   "source": [
    "**Answer:**\n",
    "We had to crop and center the images to make them more readable by the implementation\n",
    "The images were downloaded from web, the resolution might not be a good quality compared to the training set. When I tried the training set image, one of them returned a true match\n",
    "The images are plotted for reference"
   ]
  },
  {
   "cell_type": "code",
   "execution_count": 28,
   "metadata": {
    "collapsed": true
   },
   "outputs": [],
   "source": [
    "### Run the predictions here.\n",
    "### Feel free to use as many code cells as needed.\n",
    "'''Prediction code included above'''"
   ]
  },
  {
   "cell_type": "markdown",
   "metadata": {},
   "source": [
    "### Question 7\n",
    "\n",
    "_Is your model able to perform equally well on captured pictures or a live camera stream when compared to testing on the dataset?_\n"
   ]
  },
  {
   "cell_type": "markdown",
   "metadata": {},
   "source": [
    "**Answer:**\n",
    "Testing on the validation dataset gave me about 92% accuracy and test dataset gave me 81%, whereas I am not getting any correct prediction with the downloaded images."
   ]
  },
  {
   "cell_type": "code",
   "execution_count": 29,
   "metadata": {
    "collapsed": true
   },
   "outputs": [],
   "source": [
    "### Visualize the softmax probabilities here.\n",
    "### Feel free to use as many code cells as needed.\n",
    "'''Please see the above cell'''"
   ]
  },
  {
   "cell_type": "markdown",
   "metadata": {},
   "source": [
    "### Question 8\n",
    "\n",
    "*Use the model's softmax probabilities to visualize the **certainty** of its predictions, [`tf.nn.top_k`](https://www.tensorflow.org/versions/r0.11/api_docs/python/nn.html#top_k) could prove helpful here. Which predictions is the model certain of? Uncertain? If the model was incorrect in its initial prediction, does the correct prediction appear in the top k? (k should be 5 at most)*\n"
   ]
  },
  {
   "cell_type": "markdown",
   "metadata": {},
   "source": [
    "**Answer:**\n",
    "The top k only worked for one image out of 5, speed-20 sign.\n",
    "The others stop-sign,no-entry,speed-30,speed-120 the model was uncertain"
   ]
  },
  {
   "cell_type": "markdown",
   "metadata": {},
   "source": [
    "### Question 9\n",
    "_If necessary, provide documentation for how an interface was built for your model to load and classify newly-acquired images._\n"
   ]
  },
  {
   "cell_type": "markdown",
   "metadata": {},
   "source": [
    "**Answer:**\n",
    "The images are currently being loaded from the project folder and are loaded/read using cv2.imread\n",
    "The classification leverages linear model and parts of the implementation from test and training data set implementation was re-used\n",
    "The prediction model for the training and test data sets didn't work for the new images. Argmax was leveraged to see if there was a match"
   ]
  },
  {
   "cell_type": "markdown",
   "metadata": {},
   "source": [
    "> **Note**: Once you have completed all of the code implementations and successfully answered each question above, you may finalize your work by exporting the iPython Notebook as an HTML document. You can do this by using the menu above and navigating to  \\n\",\n",
    "    \"**File -> Download as -> HTML (.html)**. Include the finished document along with this notebook as your submission."
   ]
  },
  {
   "cell_type": "code",
   "execution_count": null,
   "metadata": {
    "collapsed": true
   },
   "outputs": [],
   "source": []
  }
 ],
 "metadata": {
  "anaconda-cloud": {},
  "kernelspec": {
   "display_name": "Python [default]",
   "language": "python",
   "name": "python3"
  },
  "language_info": {
   "codemirror_mode": {
    "name": "ipython",
    "version": 3
   },
   "file_extension": ".py",
   "mimetype": "text/x-python",
   "name": "python",
   "nbconvert_exporter": "python",
   "pygments_lexer": "ipython3",
   "version": "3.5.2"
  }
 },
 "nbformat": 4,
 "nbformat_minor": 1
}
